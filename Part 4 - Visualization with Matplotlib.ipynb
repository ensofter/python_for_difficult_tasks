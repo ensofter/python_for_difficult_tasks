{
 "cells": [
  {
   "cell_type": "markdown",
   "id": "62518e2b",
   "metadata": {},
   "source": [
    "# Визуализация с помощью библиотеки Matplotlib"
   ]
  },
  {
   "cell_type": "code",
   "execution_count": 2,
   "id": "6ce20e69",
   "metadata": {},
   "outputs": [
    {
     "data": {
      "text/plain": [
       "('some string',)"
      ]
     },
     "execution_count": 2,
     "metadata": {},
     "output_type": "execute_result"
    }
   ],
   "source": [
    "\n",
    "'some string',"
   ]
  },
  {
   "cell_type": "code",
   "execution_count": 3,
   "id": "8b74bb3d",
   "metadata": {},
   "outputs": [
    {
     "data": {
      "text/plain": [
       "({'some', 'string'},)"
      ]
     },
     "execution_count": 3,
     "metadata": {},
     "output_type": "execute_result"
    }
   ],
   "source": [
    "\n",
    "(set('some string'.split()),)"
   ]
  },
  {
   "cell_type": "code",
   "execution_count": 4,
   "id": "8c67faea",
   "metadata": {},
   "outputs": [
    {
     "data": {
      "text/plain": [
       "{'some', 'string'}"
      ]
     },
     "execution_count": 4,
     "metadata": {},
     "output_type": "execute_result"
    }
   ],
   "source": [
    "\n",
    "set('some string'.split())"
   ]
  },
  {
   "cell_type": "code",
   "execution_count": 5,
   "id": "40cfdb53",
   "metadata": {},
   "outputs": [
    {
     "data": {
      "text/plain": [
       "[5, 4, 3, 2, 1]"
      ]
     },
     "execution_count": 5,
     "metadata": {},
     "output_type": "execute_result"
    }
   ],
   "source": [
    "s = [1, 2, 3, 4, 5]\n",
    "\n",
    "[s[len(s) - i-1] for i in range(len(s))]"
   ]
  },
  {
   "cell_type": "code",
   "execution_count": null,
   "id": "39447a0d",
   "metadata": {},
   "outputs": [],
   "source": []
  }
 ],
 "metadata": {
  "kernelspec": {
   "display_name": "Python 3 (ipykernel)",
   "language": "python",
   "name": "python3"
  },
  "language_info": {
   "codemirror_mode": {
    "name": "ipython",
    "version": 3
   },
   "file_extension": ".py",
   "mimetype": "text/x-python",
   "name": "python",
   "nbconvert_exporter": "python",
   "pygments_lexer": "ipython3",
   "version": "3.8.10"
  }
 },
 "nbformat": 4,
 "nbformat_minor": 5
}
