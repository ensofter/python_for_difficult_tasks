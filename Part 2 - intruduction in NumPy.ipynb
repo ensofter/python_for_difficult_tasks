{
 "cells": [
  {
   "cell_type": "code",
   "execution_count": 34,
   "id": "36dddd5c",
   "metadata": {},
   "outputs": [
    {
     "data": {
      "text/plain": [
       "'1.22.3'"
      ]
     },
     "execution_count": 34,
     "metadata": {},
     "output_type": "execute_result"
    }
   ],
   "source": [
    "import numpy\n",
    "numpy.__version__"
   ]
  },
  {
   "cell_type": "code",
   "execution_count": 4,
   "id": "908d01fe",
   "metadata": {
    "scrolled": true
   },
   "outputs": [
    {
     "name": "stdout",
     "output_type": "stream",
     "text": [
      "1.22.3\n"
     ]
    }
   ],
   "source": [
    "import numpy as np\n",
    "\n",
    "\n",
    "version = np.__version__\n",
    "print(version)"
   ]
  },
  {
   "cell_type": "code",
   "execution_count": null,
   "id": "ba25c312",
   "metadata": {},
   "outputs": [],
   "source": []
  },
  {
   "cell_type": "code",
   "execution_count": 32,
   "id": "a75e210d",
   "metadata": {},
   "outputs": [
    {
     "name": "stdout",
     "output_type": "stream",
     "text": [
      "4950\n",
      "0\n",
      "4950\n"
     ]
    }
   ],
   "source": [
    "print(result)\n",
    "result = 0\n",
    "print(result)\n",
    "\n",
    "print(result)"
   ]
  },
  {
   "cell_type": "code",
   "execution_count": 20,
   "id": "054aba01",
   "metadata": {},
   "outputs": [],
   "source": [
    "dd"
   ]
  },
  {
   "cell_type": "code",
   "execution_count": 27,
   "id": "8a89d4c3",
   "metadata": {},
   "outputs": [
    {
     "name": "stdout",
     "output_type": "stream",
     "text": [
      "5050\n"
     ]
    }
   ],
   "source": [
    "result = 0\n",
    "for i in range(1, 101):\n",
    "    result += i\n",
    "print(result)"
   ]
  },
  {
   "cell_type": "markdown",
   "id": "f27f09ad",
   "metadata": {},
   "source": [
    "Каждый объект в Python это замаскированная структура языка C, которая содержит не только значение, но и другую информацию.\n",
    "\n",
    "Например при описании целочисленной  переменной на языке Python, такой как:"
   ]
  },
  {
   "cell_type": "code",
   "execution_count": 28,
   "id": "154cdfce",
   "metadata": {},
   "outputs": [],
   "source": [
    "x = 10000"
   ]
  },
  {
   "cell_type": "markdown",
   "id": "73d5a0de",
   "metadata": {},
   "source": [
    "представляет собой не просто чистое цедлое число, на самом деле это указатель на составную структуру языка C, содержащую несколько значений.\n",
    "\n",
    "Переменная состоит из 4 частей:\n",
    "- счетчик ссылое\n",
    "- тип переменной\n",
    "- размер следующих элементов данных\n",
    "- содержание значения"
   ]
  },
  {
   "cell_type": "code",
   "execution_count": 29,
   "id": "c3eb17f2",
   "metadata": {},
   "outputs": [
    {
     "name": "stdout",
     "output_type": "stream",
     "text": [
      "[0, 1, 2, 3, 4, 5, 6, 7, 8, 9]\n"
     ]
    }
   ],
   "source": [
    "l = list(range(10))\n",
    "print(l)"
   ]
  },
  {
   "cell_type": "code",
   "execution_count": 32,
   "id": "67a7c84c",
   "metadata": {},
   "outputs": [
    {
     "name": "stdout",
     "output_type": "stream",
     "text": [
      "['0', '1', '2', '3', '4', '5', '6', '7', '8', '9']\n"
     ]
    }
   ],
   "source": [
    "l2 = [str(c) for c in l]\n",
    "print(l2)"
   ]
  },
  {
   "cell_type": "markdown",
   "id": "6f7ee546",
   "metadata": {},
   "source": [
    "В Python можно создавать массивы определенных типов для более эффективно работающего буфера. Например библиотека array позволяет создавать целочисленные массивы."
   ]
  },
  {
   "cell_type": "code",
   "execution_count": 33,
   "id": "7581b67f",
   "metadata": {},
   "outputs": [
    {
     "name": "stdout",
     "output_type": "stream",
     "text": [
      "array('i', [0, 1, 2, 3, 4, 5, 6, 7, 8, 9])\n"
     ]
    }
   ],
   "source": [
    "import array\n",
    "l = list(range(10))\n",
    "a = array.array('i', l)\n",
    "print(a)"
   ]
  },
  {
   "cell_type": "markdown",
   "id": "b8231db6",
   "metadata": {},
   "source": [
    "Тоже самое можно сделать при помощи библиотеки numpy, только она еще позваляет и проводить различные операции с этими масивами."
   ]
  },
  {
   "cell_type": "markdown",
   "id": "aa801663",
   "metadata": {},
   "source": [
    "## Создание массива из списков языка Python"
   ]
  },
  {
   "cell_type": "code",
   "execution_count": 34,
   "id": "0da0cb54",
   "metadata": {},
   "outputs": [
    {
     "name": "stdout",
     "output_type": "stream",
     "text": [
      "[1 2 3 4 5]\n",
      "[3.14 2.   3.   6.  ]\n"
     ]
    }
   ],
   "source": [
    "import numpy as np\n",
    "\n",
    "\n",
    "l1 = np.array([1, 2, 3, 4, 5])\n",
    "print(l1)\n",
    "\n",
    "l2 = np.array([3.14, 2, 3, 6])\n",
    "print(l2)"
   ]
  },
  {
   "cell_type": "markdown",
   "id": "d387652d",
   "metadata": {},
   "source": [
    "Массив в numpy может быть только с одним типом данных, если их несколько то numpy пытается привести их к одному типу, как в примере 2 выше."
   ]
  },
  {
   "cell_type": "markdown",
   "id": "086c4de3",
   "metadata": {},
   "source": [
    "Ключевое слово dtype позволяет четко указать тип данных массива."
   ]
  },
  {
   "cell_type": "code",
   "execution_count": 35,
   "id": "8dda98c6",
   "metadata": {},
   "outputs": [
    {
     "name": "stdout",
     "output_type": "stream",
     "text": [
      "[1. 2. 3. 4.]\n"
     ]
    }
   ],
   "source": [
    "l = np.array([1, 2, 3, 4], dtype=float)\n",
    "print(l)"
   ]
  },
  {
   "cell_type": "markdown",
   "id": "bcb375b7",
   "metadata": {},
   "source": [
    "В numpy можно описывать явным образом многомерные массивы. Вложенные списки рассматриваются как строки в итоговом двумерном массиве."
   ]
  },
  {
   "cell_type": "code",
   "execution_count": 37,
   "id": "0cc718d1",
   "metadata": {},
   "outputs": [
    {
     "name": "stdout",
     "output_type": "stream",
     "text": [
      "[[2 3 4]\n",
      " [4 5 6]\n",
      " [6 7 8]]\n"
     ]
    }
   ],
   "source": [
    "l = np.array([range(i, i+3) for i in [2, 4, 6]])\n",
    "print(l)"
   ]
  },
  {
   "cell_type": "markdown",
   "id": "9631eed5",
   "metadata": {},
   "source": [
    "## Создание массивов с нуля"
   ]
  },
  {
   "cell_type": "markdown",
   "id": "4ab5bb56",
   "metadata": {},
   "source": [
    "создание целочисленного массива длины 10 заполненного нулями"
   ]
  },
  {
   "cell_type": "code",
   "execution_count": 40,
   "id": "998672f8",
   "metadata": {},
   "outputs": [
    {
     "data": {
      "text/plain": [
       "array([0, 0, 0, 0, 0, 0, 0, 0, 0, 0])"
      ]
     },
     "execution_count": 40,
     "metadata": {},
     "output_type": "execute_result"
    }
   ],
   "source": [
    "np.zeros(10, dtype=int)"
   ]
  },
  {
   "cell_type": "markdown",
   "id": "48021506",
   "metadata": {},
   "source": [
    "создание массива замером 5х3 значиний сс плавающей точкой заполненных единицами"
   ]
  },
  {
   "cell_type": "code",
   "execution_count": 41,
   "id": "14bffde9",
   "metadata": {},
   "outputs": [
    {
     "data": {
      "text/plain": [
       "array([[1., 1., 1., 1., 1.],\n",
       "       [1., 1., 1., 1., 1.],\n",
       "       [1., 1., 1., 1., 1.]])"
      ]
     },
     "execution_count": 41,
     "metadata": {},
     "output_type": "execute_result"
    }
   ],
   "source": [
    "np.ones((3, 5), dtype=float)"
   ]
  },
  {
   "cell_type": "markdown",
   "id": "64bb7eec",
   "metadata": {},
   "source": [
    "создание массива размером 3х5, заполненный значением 3,14"
   ]
  },
  {
   "cell_type": "code",
   "execution_count": 42,
   "id": "1babc970",
   "metadata": {},
   "outputs": [
    {
     "data": {
      "text/plain": [
       "array([[3.14, 3.14, 3.14, 3.14, 3.14],\n",
       "       [3.14, 3.14, 3.14, 3.14, 3.14],\n",
       "       [3.14, 3.14, 3.14, 3.14, 3.14]])"
      ]
     },
     "execution_count": 42,
     "metadata": {},
     "output_type": "execute_result"
    }
   ],
   "source": [
    "np.full((3, 5), 3.14)"
   ]
  },
  {
   "cell_type": "markdown",
   "id": "2d566324",
   "metadata": {},
   "source": [
    "создаем массив, заполненный линейной последовательностью начинайющийся с 0 и заканчивающийся 20 с шагом 2, аналогично range"
   ]
  },
  {
   "cell_type": "code",
   "execution_count": 44,
   "id": "a15b156c",
   "metadata": {},
   "outputs": [
    {
     "data": {
      "text/plain": [
       "array([ 0,  2,  4,  6,  8, 10, 12, 14, 16, 18])"
      ]
     },
     "execution_count": 44,
     "metadata": {},
     "output_type": "execute_result"
    }
   ],
   "source": [
    "np.arange(0, 20, 2)"
   ]
  },
  {
   "cell_type": "markdown",
   "id": "a34ed995",
   "metadata": {},
   "source": [
    "создаем массив из пяти значений равномерно располагающихся между 0 и 1"
   ]
  },
  {
   "cell_type": "code",
   "execution_count": 46,
   "id": "366cde70",
   "metadata": {},
   "outputs": [
    {
     "data": {
      "text/plain": [
       "array([0.  , 0.25, 0.5 , 0.75, 1.  ])"
      ]
     },
     "execution_count": 46,
     "metadata": {},
     "output_type": "execute_result"
    }
   ],
   "source": [
    "np.linspace(0, 1, 5)"
   ]
  },
  {
   "cell_type": "markdown",
   "id": "13d78b30",
   "metadata": {},
   "source": [
    "создаем массив 3х3 равномерно распределенных случайных значений от 0 до 1"
   ]
  },
  {
   "cell_type": "code",
   "execution_count": 48,
   "id": "bdda2a34",
   "metadata": {},
   "outputs": [
    {
     "data": {
      "text/plain": [
       "array([[0.55121224, 0.26239305, 0.49926696],\n",
       "       [0.44634251, 0.70986143, 0.48792261],\n",
       "       [0.08128452, 0.53309072, 0.00254466]])"
      ]
     },
     "execution_count": 48,
     "metadata": {},
     "output_type": "execute_result"
    }
   ],
   "source": [
    "np.random.random((3, 3))"
   ]
  },
  {
   "cell_type": "markdown",
   "id": "0725e4b8",
   "metadata": {},
   "source": [
    "создаем массив размером 3х3 нормально распределенных случайных значений с медианой - и стандартным отклонением 1"
   ]
  },
  {
   "cell_type": "code",
   "execution_count": 50,
   "id": "79df083d",
   "metadata": {},
   "outputs": [
    {
     "data": {
      "text/plain": [
       "array([[-0.79834757,  0.93438786, -1.92975791],\n",
       "       [-0.1074372 ,  0.16379745, -0.30276634],\n",
       "       [-0.66523405,  0.0163417 , -0.42388998]])"
      ]
     },
     "execution_count": 50,
     "metadata": {},
     "output_type": "execute_result"
    }
   ],
   "source": [
    "np.random.normal(0, 1, (3, 3))"
   ]
  },
  {
   "cell_type": "markdown",
   "id": "f39b8d68",
   "metadata": {},
   "source": [
    "создаем массив размером 3х3 слуйных целых чисел в промежутке [0, 10)"
   ]
  },
  {
   "cell_type": "code",
   "execution_count": 52,
   "id": "ff7c777c",
   "metadata": {},
   "outputs": [
    {
     "data": {
      "text/plain": [
       "array([[5, 6, 1],\n",
       "       [6, 3, 9],\n",
       "       [8, 9, 2]])"
      ]
     },
     "execution_count": 52,
     "metadata": {},
     "output_type": "execute_result"
    }
   ],
   "source": [
    "np.random.randint(0, 10, (3, 3))"
   ]
  },
  {
   "cell_type": "markdown",
   "id": "15730883",
   "metadata": {},
   "source": [
    "создаем единичную матрицу размером 3х3"
   ]
  },
  {
   "cell_type": "code",
   "execution_count": 53,
   "id": "0257375c",
   "metadata": {},
   "outputs": [
    {
     "data": {
      "text/plain": [
       "array([[1., 0., 0.],\n",
       "       [0., 1., 0.],\n",
       "       [0., 0., 1.]])"
      ]
     },
     "execution_count": 53,
     "metadata": {},
     "output_type": "execute_result"
    }
   ],
   "source": [
    "np.eye(3)"
   ]
  },
  {
   "cell_type": "markdown",
   "id": "45b49ef8",
   "metadata": {},
   "source": [
    "создаем инициализированный массив из трех целочисленных значений. Значениями будут произвольные, случайно оказавшиеся в соответствующих ячейках памяти данные"
   ]
  },
  {
   "cell_type": "code",
   "execution_count": 54,
   "id": "6d398dbb",
   "metadata": {},
   "outputs": [
    {
     "data": {
      "text/plain": [
       "array([1., 1., 1.])"
      ]
     },
     "execution_count": 54,
     "metadata": {},
     "output_type": "execute_result"
    }
   ],
   "source": [
    "np.empty(3)"
   ]
  },
  {
   "cell_type": "markdown",
   "id": "c4f18601",
   "metadata": {},
   "source": [
    "## Атрибуты массивов библиотеки NumPy"
   ]
  },
  {
   "cell_type": "code",
   "execution_count": 58,
   "id": "c8ff9449",
   "metadata": {},
   "outputs": [
    {
     "name": "stdout",
     "output_type": "stream",
     "text": [
      "x3 ndim:  3\n",
      "x3 shpae:  (3, 4, 5)\n",
      "x3 size:  60\n"
     ]
    }
   ],
   "source": [
    "import numpy as np\n",
    "\n",
    "\n",
    "np.random.seed(0) #начальное значение для целей воспроизводимости\n",
    "\n",
    "x1 = np.random.randint(10, size=6) #одномерный массив\n",
    "x2 = np.random.randint(10, size=(3, 4)) #двумерный массив\n",
    "x3 = np.random.randint(10, size=(3, 4, 5)) #трехмерный массив\n",
    "\n",
    "# ndim - размерность\n",
    "# shape - размер каждого измерения\n",
    "# size - общий размер массива\n",
    "\n",
    "print(\"x3 ndim: \", x3.ndim)\n",
    "print(\"x3 shpae: \", x3.shape)\n",
    "print(\"x3 size: \", x3.size)"
   ]
  },
  {
   "cell_type": "code",
   "execution_count": 60,
   "id": "11903471",
   "metadata": {},
   "outputs": [
    {
     "name": "stdout",
     "output_type": "stream",
     "text": [
      "dtype:  int64\n"
     ]
    }
   ],
   "source": [
    "# dtype - еще один атрибут типа данных массива\n",
    "print(\"dtype: \", x3.dtype)"
   ]
  },
  {
   "cell_type": "markdown",
   "id": "19c35364",
   "metadata": {},
   "source": [
    "## Индексация массива: доступ к отдельным элементам"
   ]
  },
  {
   "cell_type": "code",
   "execution_count": 61,
   "id": "79a886a3",
   "metadata": {},
   "outputs": [
    {
     "data": {
      "text/plain": [
       "array([5, 0, 3, 3, 7, 9])"
      ]
     },
     "execution_count": 61,
     "metadata": {},
     "output_type": "execute_result"
    }
   ],
   "source": [
    "x1"
   ]
  },
  {
   "cell_type": "code",
   "execution_count": 62,
   "id": "2ae7e9ca",
   "metadata": {},
   "outputs": [
    {
     "data": {
      "text/plain": [
       "5"
      ]
     },
     "execution_count": 62,
     "metadata": {},
     "output_type": "execute_result"
    }
   ],
   "source": [
    "x1[0]"
   ]
  },
  {
   "cell_type": "code",
   "execution_count": 63,
   "id": "e154d189",
   "metadata": {},
   "outputs": [
    {
     "data": {
      "text/plain": [
       "7"
      ]
     },
     "execution_count": 63,
     "metadata": {},
     "output_type": "execute_result"
    }
   ],
   "source": [
    "x1[4]"
   ]
  },
  {
   "cell_type": "code",
   "execution_count": 64,
   "id": "54bcb411",
   "metadata": {},
   "outputs": [
    {
     "data": {
      "text/plain": [
       "9"
      ]
     },
     "execution_count": 64,
     "metadata": {},
     "output_type": "execute_result"
    }
   ],
   "source": [
    "x1[-1]"
   ]
  },
  {
   "cell_type": "code",
   "execution_count": 65,
   "id": "b6fe5a9d",
   "metadata": {},
   "outputs": [
    {
     "data": {
      "text/plain": [
       "7"
      ]
     },
     "execution_count": 65,
     "metadata": {},
     "output_type": "execute_result"
    }
   ],
   "source": [
    "x1[-2]"
   ]
  },
  {
   "cell_type": "markdown",
   "id": "e59be4d2",
   "metadata": {},
   "source": [
    "Обращение к элементам в многомерном массиве осуществляется через разделенный запятыми кортеж индексов."
   ]
  },
  {
   "cell_type": "code",
   "execution_count": 66,
   "id": "1e178bc1",
   "metadata": {},
   "outputs": [
    {
     "data": {
      "text/plain": [
       "array([[3, 5, 2, 4],\n",
       "       [7, 6, 8, 8],\n",
       "       [1, 6, 7, 7]])"
      ]
     },
     "execution_count": 66,
     "metadata": {},
     "output_type": "execute_result"
    }
   ],
   "source": [
    "x2"
   ]
  },
  {
   "cell_type": "code",
   "execution_count": 68,
   "id": "87c03876",
   "metadata": {},
   "outputs": [
    {
     "data": {
      "text/plain": [
       "3"
      ]
     },
     "execution_count": 68,
     "metadata": {},
     "output_type": "execute_result"
    }
   ],
   "source": [
    "x2[0, 0]"
   ]
  },
  {
   "cell_type": "code",
   "execution_count": 69,
   "id": "c92a72fd",
   "metadata": {},
   "outputs": [
    {
     "data": {
      "text/plain": [
       "1"
      ]
     },
     "execution_count": 69,
     "metadata": {},
     "output_type": "execute_result"
    }
   ],
   "source": [
    "x2[2, 0]"
   ]
  },
  {
   "cell_type": "code",
   "execution_count": 70,
   "id": "ad1e2303",
   "metadata": {},
   "outputs": [
    {
     "data": {
      "text/plain": [
       "6"
      ]
     },
     "execution_count": 70,
     "metadata": {},
     "output_type": "execute_result"
    }
   ],
   "source": [
    "x2[2, 1]"
   ]
  },
  {
   "cell_type": "code",
   "execution_count": 71,
   "id": "2d767bd6",
   "metadata": {},
   "outputs": [],
   "source": [
    "x2[0, 0] = 12"
   ]
  },
  {
   "cell_type": "code",
   "execution_count": 72,
   "id": "16e32fb2",
   "metadata": {},
   "outputs": [
    {
     "data": {
      "text/plain": [
       "array([[12,  5,  2,  4],\n",
       "       [ 7,  6,  8,  8],\n",
       "       [ 1,  6,  7,  7]])"
      ]
     },
     "execution_count": 72,
     "metadata": {},
     "output_type": "execute_result"
    }
   ],
   "source": [
    "x2"
   ]
  },
  {
   "cell_type": "markdown",
   "id": "56f93f77",
   "metadata": {},
   "source": [
    "## Срезы массивов: доступ к подмассивам\n",
    "x[начало: конец: шаг]"
   ]
  },
  {
   "cell_type": "markdown",
   "id": "3d13bb61",
   "metadata": {},
   "source": [
    "### одномерные массивы"
   ]
  },
  {
   "cell_type": "code",
   "execution_count": 73,
   "id": "446f9e82",
   "metadata": {},
   "outputs": [
    {
     "data": {
      "text/plain": [
       "array([0, 1, 2, 3, 4, 5, 6, 7, 8, 9])"
      ]
     },
     "execution_count": 73,
     "metadata": {},
     "output_type": "execute_result"
    }
   ],
   "source": [
    "x = np.arange(10)\n",
    "x"
   ]
  },
  {
   "cell_type": "code",
   "execution_count": 74,
   "id": "606f9281",
   "metadata": {},
   "outputs": [
    {
     "data": {
      "text/plain": [
       "array([0, 1, 2, 3, 4])"
      ]
     },
     "execution_count": 74,
     "metadata": {},
     "output_type": "execute_result"
    }
   ],
   "source": [
    "x[:5] #первые 5 элементов"
   ]
  },
  {
   "cell_type": "code",
   "execution_count": 75,
   "id": "d6672c0b",
   "metadata": {},
   "outputs": [
    {
     "data": {
      "text/plain": [
       "array([5, 6, 7, 8, 9])"
      ]
     },
     "execution_count": 75,
     "metadata": {},
     "output_type": "execute_result"
    }
   ],
   "source": [
    "x[5:] # элементы после индекса 5"
   ]
  },
  {
   "cell_type": "code",
   "execution_count": 76,
   "id": "7e82a61c",
   "metadata": {},
   "outputs": [
    {
     "data": {
      "text/plain": [
       "array([4, 5, 6])"
      ]
     },
     "execution_count": 76,
     "metadata": {},
     "output_type": "execute_result"
    }
   ],
   "source": [
    "x[4:7] # подмассив из середины"
   ]
  },
  {
   "cell_type": "markdown",
   "id": "5a2c14a9",
   "metadata": {},
   "source": [
    "### многомерные подмассивы"
   ]
  },
  {
   "cell_type": "code",
   "execution_count": 77,
   "id": "0199e8ce",
   "metadata": {},
   "outputs": [
    {
     "data": {
      "text/plain": [
       "array([[12,  5,  2,  4],\n",
       "       [ 7,  6,  8,  8],\n",
       "       [ 1,  6,  7,  7]])"
      ]
     },
     "execution_count": 77,
     "metadata": {},
     "output_type": "execute_result"
    }
   ],
   "source": [
    "x2"
   ]
  },
  {
   "cell_type": "code",
   "execution_count": 78,
   "id": "a474c03a",
   "metadata": {},
   "outputs": [
    {
     "data": {
      "text/plain": [
       "array([[12,  5,  2],\n",
       "       [ 7,  6,  8]])"
      ]
     },
     "execution_count": 78,
     "metadata": {},
     "output_type": "execute_result"
    }
   ],
   "source": [
    "x2[:2, :3] # две строки, три столбца"
   ]
  },
  {
   "cell_type": "code",
   "execution_count": 79,
   "id": "1dbd8a41",
   "metadata": {},
   "outputs": [
    {
     "data": {
      "text/plain": [
       "array([[12,  2],\n",
       "       [ 7,  8],\n",
       "       [ 1,  7]])"
      ]
     },
     "execution_count": 79,
     "metadata": {},
     "output_type": "execute_result"
    }
   ],
   "source": [
    "x2[:3, ::2] # все строки, каждый второй столбец"
   ]
  },
  {
   "cell_type": "markdown",
   "id": "a1b1227c",
   "metadata": {},
   "source": [
    "Измерения так же можно переворачивать"
   ]
  },
  {
   "cell_type": "code",
   "execution_count": 80,
   "id": "d9281b43",
   "metadata": {},
   "outputs": [
    {
     "data": {
      "text/plain": [
       "array([[ 7,  7,  6,  1],\n",
       "       [ 8,  8,  6,  7],\n",
       "       [ 4,  2,  5, 12]])"
      ]
     },
     "execution_count": 80,
     "metadata": {},
     "output_type": "execute_result"
    }
   ],
   "source": [
    "x2[::-1, ::-1]"
   ]
  },
  {
   "cell_type": "markdown",
   "id": "27e946ce",
   "metadata": {},
   "source": [
    "### Доступ к строкам и столбцам массива"
   ]
  },
  {
   "cell_type": "code",
   "execution_count": 81,
   "id": "faa4e800",
   "metadata": {},
   "outputs": [
    {
     "data": {
      "text/plain": [
       "array([[12,  5,  2,  4],\n",
       "       [ 7,  6,  8,  8],\n",
       "       [ 1,  6,  7,  7]])"
      ]
     },
     "execution_count": 81,
     "metadata": {},
     "output_type": "execute_result"
    }
   ],
   "source": [
    "x2"
   ]
  },
  {
   "cell_type": "code",
   "execution_count": 82,
   "id": "8d3ae019",
   "metadata": {},
   "outputs": [
    {
     "data": {
      "text/plain": [
       "array([12,  7,  1])"
      ]
     },
     "execution_count": 82,
     "metadata": {},
     "output_type": "execute_result"
    }
   ],
   "source": [
    "x2[:, 0]"
   ]
  },
  {
   "cell_type": "code",
   "execution_count": 83,
   "id": "a7afc453",
   "metadata": {},
   "outputs": [
    {
     "data": {
      "text/plain": [
       "array([12,  5,  2,  4])"
      ]
     },
     "execution_count": 83,
     "metadata": {},
     "output_type": "execute_result"
    }
   ],
   "source": [
    "x2[0, :]"
   ]
  },
  {
   "cell_type": "code",
   "execution_count": 84,
   "id": "fe9e5df5",
   "metadata": {},
   "outputs": [
    {
     "data": {
      "text/plain": [
       "array([1, 6, 7, 7])"
      ]
     },
     "execution_count": 84,
     "metadata": {},
     "output_type": "execute_result"
    }
   ],
   "source": [
    "x2[2]"
   ]
  },
  {
   "cell_type": "code",
   "execution_count": 87,
   "id": "e4f3c838",
   "metadata": {},
   "outputs": [],
   "source": [
    "x2_sub = x2[:2, :2]"
   ]
  },
  {
   "cell_type": "code",
   "execution_count": 88,
   "id": "c0d10d11",
   "metadata": {},
   "outputs": [],
   "source": [
    "x2_sub[0, 0] = 99"
   ]
  },
  {
   "cell_type": "code",
   "execution_count": 89,
   "id": "4ff9ff25",
   "metadata": {},
   "outputs": [
    {
     "data": {
      "text/plain": [
       "array([[99,  5,  2,  4],\n",
       "       [ 7,  6,  8,  8],\n",
       "       [ 1,  6,  7,  7]])"
      ]
     },
     "execution_count": 89,
     "metadata": {},
     "output_type": "execute_result"
    }
   ],
   "source": [
    "x2"
   ]
  },
  {
   "cell_type": "markdown",
   "id": "ebcf38e3",
   "metadata": {},
   "source": [
    "## Создание копий массива"
   ]
  },
  {
   "cell_type": "code",
   "execution_count": 91,
   "id": "124a9173",
   "metadata": {},
   "outputs": [
    {
     "name": "stdout",
     "output_type": "stream",
     "text": [
      "[[99  5]\n",
      " [ 7  6]]\n"
     ]
    }
   ],
   "source": [
    "x2_sub_copy = x2[:2, :2].copy()\n",
    "print(x2_sub_copy)"
   ]
  },
  {
   "cell_type": "code",
   "execution_count": 92,
   "id": "a2541682",
   "metadata": {},
   "outputs": [
    {
     "name": "stdout",
     "output_type": "stream",
     "text": [
      "[[42  5]\n",
      " [ 7  6]]\n"
     ]
    }
   ],
   "source": [
    "x2_sub_copy[0, 0] = 42\n",
    "print(x2_sub_copy)"
   ]
  },
  {
   "cell_type": "code",
   "execution_count": 93,
   "id": "9321e039",
   "metadata": {},
   "outputs": [
    {
     "name": "stdout",
     "output_type": "stream",
     "text": [
      "[[99  5  2  4]\n",
      " [ 7  6  8  8]\n",
      " [ 1  6  7  7]]\n"
     ]
    }
   ],
   "source": [
    "print(x2)"
   ]
  },
  {
   "cell_type": "markdown",
   "id": "54af3075",
   "metadata": {},
   "source": [
    "## Изменение формы массива"
   ]
  },
  {
   "cell_type": "code",
   "execution_count": 96,
   "id": "d5a95237",
   "metadata": {},
   "outputs": [
    {
     "name": "stdout",
     "output_type": "stream",
     "text": [
      "[[1 2 3]\n",
      " [4 5 6]\n",
      " [7 8 9]]\n"
     ]
    }
   ],
   "source": [
    "grid = np.arange(1, 10).reshape((3, 3))\n",
    "print(grid)"
   ]
  },
  {
   "cell_type": "code",
   "execution_count": 98,
   "id": "003a7452",
   "metadata": {},
   "outputs": [
    {
     "data": {
      "text/plain": [
       "array([[1, 2, 3]])"
      ]
     },
     "execution_count": 98,
     "metadata": {},
     "output_type": "execute_result"
    }
   ],
   "source": [
    "x = np.array([1, 2, 3])\n",
    "x.reshape((1, 3))"
   ]
  },
  {
   "cell_type": "code",
   "execution_count": 99,
   "id": "e82c17ac",
   "metadata": {},
   "outputs": [
    {
     "data": {
      "text/plain": [
       "array([[1, 2, 3]])"
      ]
     },
     "execution_count": 99,
     "metadata": {},
     "output_type": "execute_result"
    }
   ],
   "source": [
    "x[np.newaxis, :]"
   ]
  },
  {
   "cell_type": "code",
   "execution_count": 100,
   "id": "083a8424",
   "metadata": {},
   "outputs": [
    {
     "data": {
      "text/plain": [
       "array([[1],\n",
       "       [2],\n",
       "       [3]])"
      ]
     },
     "execution_count": 100,
     "metadata": {},
     "output_type": "execute_result"
    }
   ],
   "source": [
    "x.reshape((3, 1))"
   ]
  },
  {
   "cell_type": "code",
   "execution_count": 101,
   "id": "4b530d56",
   "metadata": {},
   "outputs": [
    {
     "data": {
      "text/plain": [
       "array([[1],\n",
       "       [2],\n",
       "       [3]])"
      ]
     },
     "execution_count": 101,
     "metadata": {},
     "output_type": "execute_result"
    }
   ],
   "source": [
    "x[:, np.newaxis]"
   ]
  },
  {
   "cell_type": "markdown",
   "id": "8c75bc0e",
   "metadata": {},
   "source": [
    "## Слияние и рзабиение массивов"
   ]
  },
  {
   "cell_type": "code",
   "execution_count": 103,
   "id": "6796e449",
   "metadata": {},
   "outputs": [
    {
     "data": {
      "text/plain": [
       "array([1, 2, 3, 3, 2, 1])"
      ]
     },
     "execution_count": 103,
     "metadata": {},
     "output_type": "execute_result"
    }
   ],
   "source": [
    "x = np.array([1, 2, 3])\n",
    "y = np.array([3, 2, 1])\n",
    "np.concatenate([x, y])"
   ]
  },
  {
   "cell_type": "code",
   "execution_count": 104,
   "id": "cd5112ec",
   "metadata": {},
   "outputs": [
    {
     "name": "stdout",
     "output_type": "stream",
     "text": [
      "[ 1  2  3  3  2  1 99 99 99]\n"
     ]
    }
   ],
   "source": [
    "z = [99, 99, 99]\n",
    "print(np.concatenate([x, y, z]))"
   ]
  },
  {
   "cell_type": "code",
   "execution_count": 108,
   "id": "c8494b66",
   "metadata": {},
   "outputs": [
    {
     "data": {
      "text/plain": [
       "array([[1, 2, 3],\n",
       "       [4, 5, 6],\n",
       "       [1, 2, 3],\n",
       "       [4, 5, 6]])"
      ]
     },
     "execution_count": 108,
     "metadata": {},
     "output_type": "execute_result"
    }
   ],
   "source": [
    "grid = np.array([[1, 2, 3],\n",
    "                 [4, 5, 6]])\n",
    "# слияние по первой оси координат\n",
    "np.concatenate([grid, grid])"
   ]
  },
  {
   "cell_type": "code",
   "execution_count": 109,
   "id": "59e7885c",
   "metadata": {},
   "outputs": [
    {
     "data": {
      "text/plain": [
       "array([[1, 2, 3, 1, 2, 3],\n",
       "       [4, 5, 6, 4, 5, 6]])"
      ]
     },
     "execution_count": 109,
     "metadata": {},
     "output_type": "execute_result"
    }
   ],
   "source": [
    "# слияние по второй оси координат (с индексом 0)\n",
    "np.concatenate([grid, grid], axis=1)"
   ]
  },
  {
   "cell_type": "markdown",
   "id": "e7cfdb48",
   "metadata": {},
   "source": [
    "Для работы с массивами с различающимися измерениями удобнее и понятнее использовать функции np.vstack (вертикальное объединение) и np.hstack (горизонтальное объединение)"
   ]
  },
  {
   "cell_type": "code",
   "execution_count": 111,
   "id": "9d066088",
   "metadata": {},
   "outputs": [
    {
     "data": {
      "text/plain": [
       "array([[1, 2, 3],\n",
       "       [9, 8, 7],\n",
       "       [6, 5, 4]])"
      ]
     },
     "execution_count": 111,
     "metadata": {},
     "output_type": "execute_result"
    }
   ],
   "source": [
    "x = np.array([1, 2, 3])\n",
    "grid = np.array([[9, 8, 7],\n",
    "                 [6, 5, 4]])\n",
    "# объединяет массив по вертикали\n",
    "np.vstack([x, grid])"
   ]
  },
  {
   "cell_type": "code",
   "execution_count": 112,
   "id": "aff56373",
   "metadata": {},
   "outputs": [
    {
     "data": {
      "text/plain": [
       "array([[ 9,  8,  7, 99],\n",
       "       [ 6,  5,  4, 99]])"
      ]
     },
     "execution_count": 112,
     "metadata": {},
     "output_type": "execute_result"
    }
   ],
   "source": [
    "# объединяет массив по горизонтали\n",
    "y = np.array([[99], \n",
    "              [99]])\n",
    "np.hstack([grid, y])"
   ]
  },
  {
   "cell_type": "markdown",
   "id": "e9c14075",
   "metadata": {},
   "source": [
    "## Разбиение массивов"
   ]
  },
  {
   "cell_type": "code",
   "execution_count": 122,
   "id": "882e70f9",
   "metadata": {
    "scrolled": true
   },
   "outputs": [
    {
     "name": "stdout",
     "output_type": "stream",
     "text": [
      "[99, 99]\n",
      "[1 2 3] [99 99] [3 2 1]\n"
     ]
    }
   ],
   "source": [
    "x = [1, 2, 3, 99, 99, 3, 2, 1]\n",
    "print(x[3: 5])\n",
    "x1, x2, x3 = np.split(x, [3, 5])\n",
    "print(x1, x2, x3)"
   ]
  },
  {
   "cell_type": "markdown",
   "id": "c9b4fd84",
   "metadata": {},
   "source": [
    "N точек раздела это N+1 подмассив"
   ]
  },
  {
   "cell_type": "code",
   "execution_count": 124,
   "id": "dd89d6c5",
   "metadata": {},
   "outputs": [
    {
     "data": {
      "text/plain": [
       "array([[ 0,  1,  2,  3],\n",
       "       [ 4,  5,  6,  7],\n",
       "       [ 8,  9, 10, 11],\n",
       "       [12, 13, 14, 15]])"
      ]
     },
     "execution_count": 124,
     "metadata": {},
     "output_type": "execute_result"
    }
   ],
   "source": [
    "grid = np.arange(16).reshape((4, 4))\n",
    "grid"
   ]
  },
  {
   "cell_type": "code",
   "execution_count": 125,
   "id": "18451663",
   "metadata": {},
   "outputs": [
    {
     "name": "stdout",
     "output_type": "stream",
     "text": [
      "[[0 1 2 3]\n",
      " [4 5 6 7]]\n",
      "[[ 8  9 10 11]\n",
      " [12 13 14 15]]\n"
     ]
    }
   ],
   "source": [
    "upper, lower = np.vsplit(grid, [2])\n",
    "print(upper)\n",
    "print(lower)"
   ]
  },
  {
   "cell_type": "code",
   "execution_count": 126,
   "id": "e4400623",
   "metadata": {},
   "outputs": [
    {
     "name": "stdout",
     "output_type": "stream",
     "text": [
      "[[ 0  1]\n",
      " [ 4  5]\n",
      " [ 8  9]\n",
      " [12 13]]\n",
      "[[ 2  3]\n",
      " [ 6  7]\n",
      " [10 11]\n",
      " [14 15]]\n"
     ]
    }
   ],
   "source": [
    "left, right = np.hsplit(grid, [2])\n",
    "print(left)\n",
    "print(right)"
   ]
  },
  {
   "cell_type": "code",
   "execution_count": 136,
   "id": "ee0320a1",
   "metadata": {},
   "outputs": [
    {
     "name": "stdout",
     "output_type": "stream",
     "text": [
      "3\n",
      "4\n",
      "[[ 0  1  2  3]\n",
      " [ 4  5  6  7]\n",
      " [ 8  9 10 11]]\n",
      "[0 1 2 3]\n",
      "[4 5 6 7]\n",
      "[ 8  9 10 11]\n",
      "[0 4 8]\n",
      "[1 5 9]\n",
      "[ 2  6 10]\n",
      "[ 3  7 11]\n"
     ]
    }
   ],
   "source": [
    "grid = np.arange(12).reshape((3, 4))\n",
    "print(grid.shape[0])\n",
    "print(grid.shape[1])\n",
    "\n",
    "print(grid)\n",
    "\n",
    "for row in range(grid.shape[0]):\n",
    "    print(grid[row, :])\n",
    "    \n",
    "for col in range(grid.shape[1]):\n",
    "    print(grid[:, col])"
   ]
  },
  {
   "cell_type": "markdown",
   "id": "e4c4cd42",
   "metadata": {},
   "source": [
    "# Выполнение вычислений над массивами библиотеки NumPy: универсальные функции"
   ]
  },
  {
   "cell_type": "code",
   "execution_count": 142,
   "id": "e6a37262",
   "metadata": {},
   "outputs": [
    {
     "name": "stdout",
     "output_type": "stream",
     "text": [
      "[6 1 4 4 8]\n"
     ]
    },
    {
     "data": {
      "text/plain": [
       "array([0.16666667, 1.        , 0.25      , 0.25      , 0.125     ])"
      ]
     },
     "execution_count": 142,
     "metadata": {},
     "output_type": "execute_result"
    }
   ],
   "source": [
    "import numpy as np\n",
    "np.random.seed(0)\n",
    "\n",
    "def compute_reciprocals(value):\n",
    "    output = np.empty(len(values))\n",
    "    for i in range(len(values)):\n",
    "        output[i] = 1.0 / values[i]\n",
    "    return output\n",
    "\n",
    "values = np.random.randint(1, 10, size=5)\n",
    "print(values)\n",
    "compute_reciprocals(values)"
   ]
  },
  {
   "cell_type": "code",
   "execution_count": 144,
   "id": "e70208ca",
   "metadata": {},
   "outputs": [
    {
     "name": "stdout",
     "output_type": "stream",
     "text": [
      "9.1 µs ± 68.1 ns per loop (mean ± std. dev. of 7 runs, 100,000 loops each)\n"
     ]
    }
   ],
   "source": [
    "big_array = np.random.randint(1, 100, size=1000000)\n",
    "%timeit compute_reciprocals(big_array)"
   ]
  },
  {
   "cell_type": "markdown",
   "id": "0317cd16",
   "metadata": {},
   "source": [
    "## Введение в универсальные функции"
   ]
  },
  {
   "cell_type": "code",
   "execution_count": 145,
   "id": "fe8dcddf",
   "metadata": {},
   "outputs": [
    {
     "name": "stdout",
     "output_type": "stream",
     "text": [
      "[0.16666667 1.         0.25       0.25       0.125     ]\n",
      "[0.16666667 1.         0.25       0.25       0.125     ]\n"
     ]
    }
   ],
   "source": [
    "print(compute_reciprocals(values))\n",
    "print(1.0/values)"
   ]
  },
  {
   "cell_type": "code",
   "execution_count": 147,
   "id": "d933d1cf",
   "metadata": {},
   "outputs": [
    {
     "data": {
      "text/plain": [
       "array([0.        , 0.5       , 0.66666667, 0.75      , 0.8       ])"
      ]
     },
     "execution_count": 147,
     "metadata": {},
     "output_type": "execute_result"
    }
   ],
   "source": [
    "np.arange(5)/np.arange(1, 6)"
   ]
  },
  {
   "cell_type": "code",
   "execution_count": 148,
   "id": "667c28c1",
   "metadata": {},
   "outputs": [
    {
     "data": {
      "text/plain": [
       "array([[ 0,  1,  4],\n",
       "       [ 9, 16, 25],\n",
       "       [36, 49, 64]])"
      ]
     },
     "execution_count": 148,
     "metadata": {},
     "output_type": "execute_result"
    }
   ],
   "source": [
    "x = np.arange(9).reshape((3, 3))\n",
    "x ** 2"
   ]
  },
  {
   "cell_type": "code",
   "execution_count": 150,
   "id": "739e820b",
   "metadata": {},
   "outputs": [
    {
     "name": "stdout",
     "output_type": "stream",
     "text": [
      "[ 0. 10. 20. 30. 40.]\n"
     ]
    }
   ],
   "source": [
    "x = np.arange(5)\n",
    "y = np.empty(5)\n",
    "np.multiply(x, 10, out=y)\n",
    "print(y)"
   ]
  },
  {
   "cell_type": "code",
   "execution_count": 152,
   "id": "5f0e342e",
   "metadata": {},
   "outputs": [
    {
     "name": "stdout",
     "output_type": "stream",
     "text": [
      "[ 1.  0.  2.  0.  4.  0.  8.  0. 16.  0.]\n"
     ]
    }
   ],
   "source": [
    "y = np.zeros(10)\n",
    "np.power(2, x, out=y[::2])\n",
    "print(y)"
   ]
  },
  {
   "cell_type": "markdown",
   "id": "a357f30b",
   "metadata": {},
   "source": [
    "## Сводные покзатели"
   ]
  },
  {
   "cell_type": "code",
   "execution_count": 157,
   "id": "1dc09ed9",
   "metadata": {},
   "outputs": [
    {
     "data": {
      "text/plain": [
       "15"
      ]
     },
     "execution_count": 157,
     "metadata": {},
     "output_type": "execute_result"
    }
   ],
   "source": [
    "x = np.arange(1, 6)\n",
    "# сумма всех элементова массива\n",
    "np.add.reduce(x)"
   ]
  },
  {
   "cell_type": "code",
   "execution_count": 159,
   "id": "29b57ee2",
   "metadata": {},
   "outputs": [
    {
     "data": {
      "text/plain": [
       "120"
      ]
     },
     "execution_count": 159,
     "metadata": {},
     "output_type": "execute_result"
    }
   ],
   "source": [
    "# произведение всех элементов массива\n",
    "np.multiply.reduce(x)"
   ]
  },
  {
   "cell_type": "code",
   "execution_count": 161,
   "id": "11ab2d10",
   "metadata": {},
   "outputs": [
    {
     "data": {
      "text/plain": [
       "array([ 1,  3,  6, 10, 15])"
      ]
     },
     "execution_count": 161,
     "metadata": {},
     "output_type": "execute_result"
    }
   ],
   "source": [
    "# для сохранения вычислений можно использовать accumulate\n",
    "np.add.accumulate(x)"
   ]
  },
  {
   "cell_type": "code",
   "execution_count": 162,
   "id": "c5599392",
   "metadata": {},
   "outputs": [
    {
     "data": {
      "text/plain": [
       "array([  1,   2,   6,  24, 120])"
      ]
     },
     "execution_count": 162,
     "metadata": {},
     "output_type": "execute_result"
    }
   ],
   "source": [
    "np.multiply.accumulate(x)"
   ]
  },
  {
   "cell_type": "markdown",
   "id": "3b18d606",
   "metadata": {},
   "source": [
    "## Векторное произведение"
   ]
  },
  {
   "cell_type": "code",
   "execution_count": 165,
   "id": "d84e3e46",
   "metadata": {},
   "outputs": [
    {
     "data": {
      "text/plain": [
       "array([[ 1,  2,  3,  4,  5,  6,  7,  8,  9],\n",
       "       [ 2,  4,  6,  8, 10, 12, 14, 16, 18],\n",
       "       [ 3,  6,  9, 12, 15, 18, 21, 24, 27],\n",
       "       [ 4,  8, 12, 16, 20, 24, 28, 32, 36],\n",
       "       [ 5, 10, 15, 20, 25, 30, 35, 40, 45],\n",
       "       [ 6, 12, 18, 24, 30, 36, 42, 48, 54],\n",
       "       [ 7, 14, 21, 28, 35, 42, 49, 56, 63],\n",
       "       [ 8, 16, 24, 32, 40, 48, 56, 64, 72],\n",
       "       [ 9, 18, 27, 36, 45, 54, 63, 72, 81]])"
      ]
     },
     "execution_count": 165,
     "metadata": {},
     "output_type": "execute_result"
    }
   ],
   "source": [
    "# таблица умножения\n",
    "x = np.arange(1, 10)\n",
    "np.multiply.outer(x, x)"
   ]
  },
  {
   "cell_type": "markdown",
   "id": "81763baf",
   "metadata": {},
   "source": [
    "# Агрегирование: минимум, максимум и все, что посередине"
   ]
  },
  {
   "cell_type": "markdown",
   "id": "38716ee1",
   "metadata": {},
   "source": [
    "## Суммирование значений из массива"
   ]
  },
  {
   "cell_type": "code",
   "execution_count": 167,
   "id": "046911ff",
   "metadata": {
    "scrolled": true
   },
   "outputs": [
    {
     "data": {
      "text/plain": [
       "50.617288930835684"
      ]
     },
     "execution_count": 167,
     "metadata": {},
     "output_type": "execute_result"
    }
   ],
   "source": [
    "import numpy as np\n",
    "\n",
    "l = np.random.random(100)\n",
    "sum(l)"
   ]
  },
  {
   "cell_type": "code",
   "execution_count": 168,
   "id": "8fdef416",
   "metadata": {},
   "outputs": [
    {
     "data": {
      "text/plain": [
       "50.6172889308357"
      ]
     },
     "execution_count": 168,
     "metadata": {},
     "output_type": "execute_result"
    }
   ],
   "source": [
    "np.sum(l)"
   ]
  },
  {
   "cell_type": "code",
   "execution_count": 169,
   "id": "cdee6f06",
   "metadata": {},
   "outputs": [
    {
     "name": "stdout",
     "output_type": "stream",
     "text": [
      "52.6 ms ± 145 µs per loop (mean ± std. dev. of 7 runs, 10 loops each)\n",
      "300 µs ± 2.69 µs per loop (mean ± std. dev. of 7 runs, 1,000 loops each)\n"
     ]
    }
   ],
   "source": [
    "big_array = np.random.rand(1000000)\n",
    "%timeit sum(big_array)\n",
    "%timeit np.sum(big_array)"
   ]
  },
  {
   "cell_type": "markdown",
   "id": "65134dff",
   "metadata": {},
   "source": [
    "## Минимум и максимум"
   ]
  },
  {
   "cell_type": "code",
   "execution_count": 170,
   "id": "9c75ede9",
   "metadata": {},
   "outputs": [
    {
     "data": {
      "text/plain": [
       "(6.036102300210899e-07, 0.9999969605678884)"
      ]
     },
     "execution_count": 170,
     "metadata": {},
     "output_type": "execute_result"
    }
   ],
   "source": [
    "min(big_array), max(big_array)"
   ]
  },
  {
   "cell_type": "code",
   "execution_count": 171,
   "id": "382fdba8",
   "metadata": {},
   "outputs": [
    {
     "data": {
      "text/plain": [
       "(6.036102300210899e-07, 0.9999969605678884)"
      ]
     },
     "execution_count": 171,
     "metadata": {},
     "output_type": "execute_result"
    }
   ],
   "source": [
    "np.min(big_array), np.max(big_array)"
   ]
  },
  {
   "cell_type": "code",
   "execution_count": 173,
   "id": "822f6085",
   "metadata": {},
   "outputs": [
    {
     "name": "stdout",
     "output_type": "stream",
     "text": [
      "38.5 ms ± 177 µs per loop (mean ± std. dev. of 7 runs, 10 loops each)\n",
      "341 µs ± 6.1 µs per loop (mean ± std. dev. of 7 runs, 1,000 loops each)\n"
     ]
    }
   ],
   "source": [
    "%timeit min(big_array)\n",
    "%timeit np.min(big_array)"
   ]
  },
  {
   "cell_type": "code",
   "execution_count": 174,
   "id": "8d303e9b",
   "metadata": {},
   "outputs": [
    {
     "name": "stdout",
     "output_type": "stream",
     "text": [
      "6.036102300210899e-07 0.9999969605678884 499518.71872294566\n"
     ]
    }
   ],
   "source": [
    "print(big_array.min(), big_array.max(), big_array.sum())"
   ]
  },
  {
   "cell_type": "markdown",
   "id": "63c0cc9a",
   "metadata": {},
   "source": [
    "### Многомерные сводные показатели"
   ]
  },
  {
   "cell_type": "code",
   "execution_count": 175,
   "id": "aa7b07e4",
   "metadata": {},
   "outputs": [
    {
     "name": "stdout",
     "output_type": "stream",
     "text": [
      "[[0.17847093 0.11357779 0.59874477 0.08731153]\n",
      " [0.74518692 0.96774691 0.2851812  0.32593843]\n",
      " [0.38510652 0.72678814 0.6428085  0.22501515]]\n"
     ]
    }
   ],
   "source": [
    "M = np.random.random((3, 4))\n",
    "print(M)"
   ]
  },
  {
   "cell_type": "code",
   "execution_count": 176,
   "id": "2f42ce93",
   "metadata": {},
   "outputs": [
    {
     "data": {
      "text/plain": [
       "5.281876772645355"
      ]
     },
     "execution_count": 176,
     "metadata": {},
     "output_type": "execute_result"
    }
   ],
   "source": [
    "M.sum()"
   ]
  },
  {
   "cell_type": "code",
   "execution_count": 177,
   "id": "3cf880ff",
   "metadata": {},
   "outputs": [
    {
     "data": {
      "text/plain": [
       "array([0.17847093, 0.11357779, 0.2851812 , 0.08731153])"
      ]
     },
     "execution_count": 177,
     "metadata": {},
     "output_type": "execute_result"
    }
   ],
   "source": [
    "# минимальное значение каждого столбца\n",
    "M.min(axis=0)"
   ]
  },
  {
   "cell_type": "code",
   "execution_count": 178,
   "id": "d651101b",
   "metadata": {},
   "outputs": [
    {
     "data": {
      "text/plain": [
       "array([0.08731153, 0.2851812 , 0.22501515])"
      ]
     },
     "execution_count": 178,
     "metadata": {},
     "output_type": "execute_result"
    }
   ],
   "source": [
    "# минимальное значение каждой строки\n",
    "M.min(axis=1)"
   ]
  },
  {
   "cell_type": "markdown",
   "id": "77c200b4",
   "metadata": {},
   "source": [
    "Ключевое слово axis задает измерение массива, которое будет схлопнуто, а не возвращаемое измерение. Так что указание axis=0 означает, что первая ось будет схлопнута: для двумерных массивов значение в каждом из столбцов будут агрегированы."
   ]
  },
  {
   "cell_type": "markdown",
   "id": "b0f6c58b",
   "metadata": {},
   "source": [
    "### ПРИМЕР: чему равен средний рост президентов США"
   ]
  },
  {
   "cell_type": "code",
   "execution_count": 179,
   "id": "476a0915",
   "metadata": {},
   "outputs": [
    {
     "name": "stdout",
     "output_type": "stream",
     "text": [
      "order,name,height(cm)\r\n",
      "1,George Washington,189\r\n",
      "2,John Adams,170\r\n",
      "3,Thomas Jefferson,189\r\n"
     ]
    }
   ],
   "source": [
    "!head -4 data/president_heights.csv"
   ]
  },
  {
   "cell_type": "code",
   "execution_count": 180,
   "id": "0fb25cbd",
   "metadata": {},
   "outputs": [
    {
     "name": "stdout",
     "output_type": "stream",
     "text": [
      "[189 170 189 163 183 171 185 168 173 183 173 173 175 178 183 193 178 173\n",
      " 174 183 183 168 170 178 182 180 183 178 182 188 175 179 183 193 182 183\n",
      " 177 185 188 188 182 185]\n"
     ]
    }
   ],
   "source": [
    "import pandas as pd\n",
    "\n",
    "\n",
    "data = pd.read_csv('data/president_heights.csv')\n",
    "heights = np.array(data['height(cm)'])\n",
    "print(heights)"
   ]
  },
  {
   "cell_type": "code",
   "execution_count": 181,
   "id": "a793ff15",
   "metadata": {},
   "outputs": [
    {
     "name": "stdout",
     "output_type": "stream",
     "text": [
      "Mean height:  179.73809523809524\n",
      "Standart deviation:  6.931843442745892\n",
      "Minimum height:  163\n",
      "Maximum height:  193\n"
     ]
    }
   ],
   "source": [
    "print(\"Mean height: \", heights.mean())\n",
    "print(\"Standart deviation: \", heights.std())\n",
    "print(\"Minimum height: \", heights.min())\n",
    "print(\"Maximum height: \", heights.max())"
   ]
  },
  {
   "cell_type": "code",
   "execution_count": 186,
   "id": "041d63d4",
   "metadata": {},
   "outputs": [
    {
     "data": {
      "text/plain": [
       "Text(0, 0.5, 'number')"
      ]
     },
     "execution_count": 186,
     "metadata": {},
     "output_type": "execute_result"
    },
    {
     "data": {
      "image/png": "[encoded data removed]",
      "text/plain": [
       "<Figure size 432x288 with 1 Axes>"
      ]
     },
     "metadata": {},
     "output_type": "display_data"
    }
   ],
   "source": [
    "%matplotlib inline\n",
    "import matplotlib.pyplot as plt\n",
    "\n",
    "import seaborn; seaborn.set() # задает стиль графика\n",
    "\n",
    "plt.hist(heights)\n",
    "plt.title('Height Distribution of US Presidents') # Распределение роста президентов США\n",
    "plt.xlabel('height (cm)') # Рост см\n",
    "plt.ylabel('number') #кол-во"
   ]
  },
  {
   "cell_type": "markdown",
   "id": "a36a4eec",
   "metadata": {},
   "source": [
    "# Операции над массивами. Транслирование"
   ]
  },
  {
   "cell_type": "markdown",
   "id": "82009e29",
   "metadata": {},
   "source": [
    "## Введение в транслирование"
   ]
  },
  {
   "cell_type": "code",
   "execution_count": 188,
   "id": "4bc1d458",
   "metadata": {},
   "outputs": [
    {
     "data": {
      "text/plain": [
       "array([5, 6, 7])"
      ]
     },
     "execution_count": 188,
     "metadata": {},
     "output_type": "execute_result"
    }
   ],
   "source": [
    "import numpy as np\n",
    "\n",
    "\n",
    "a = np.array([0, 1, 2])\n",
    "b = np.array([5, 5, 5])\n",
    "\n",
    "a + b"
   ]
  },
  {
   "cell_type": "code",
   "execution_count": 189,
   "id": "f84ab514",
   "metadata": {},
   "outputs": [
    {
     "data": {
      "text/plain": [
       "array([5, 6, 7])"
      ]
     },
     "execution_count": 189,
     "metadata": {},
     "output_type": "execute_result"
    }
   ],
   "source": [
    "a + 5"
   ]
  },
  {
   "cell_type": "code",
   "execution_count": 190,
   "id": "88bddc08",
   "metadata": {},
   "outputs": [
    {
     "data": {
      "text/plain": [
       "array([[1., 1., 1.],\n",
       "       [1., 1., 1.],\n",
       "       [1., 1., 1.]])"
      ]
     },
     "execution_count": 190,
     "metadata": {},
     "output_type": "execute_result"
    }
   ],
   "source": [
    "M = np.ones((3, 3))\n",
    "M"
   ]
  },
  {
   "cell_type": "code",
   "execution_count": 191,
   "id": "a029ab98",
   "metadata": {},
   "outputs": [
    {
     "data": {
      "text/plain": [
       "array([[1., 2., 3.],\n",
       "       [1., 2., 3.],\n",
       "       [1., 2., 3.]])"
      ]
     },
     "execution_count": 191,
     "metadata": {},
     "output_type": "execute_result"
    }
   ],
   "source": [
    "M + a"
   ]
  },
  {
   "cell_type": "code",
   "execution_count": 192,
   "id": "ff89804a",
   "metadata": {},
   "outputs": [
    {
     "name": "stdout",
     "output_type": "stream",
     "text": [
      "[0 1 2]\n",
      "[[0]\n",
      " [1]\n",
      " [2]]\n"
     ]
    }
   ],
   "source": [
    "a = np.arange(3)\n",
    "b = np.arange(3)[:, np.newaxis]\n",
    "print(a)\n",
    "print(b)"
   ]
  },
  {
   "cell_type": "code",
   "execution_count": 193,
   "id": "05080368",
   "metadata": {},
   "outputs": [
    {
     "data": {
      "text/plain": [
       "array([[0, 1, 2],\n",
       "       [1, 2, 3],\n",
       "       [2, 3, 4]])"
      ]
     },
     "execution_count": 193,
     "metadata": {},
     "output_type": "execute_result"
    }
   ],
   "source": [
    "a + b"
   ]
  },
  {
   "cell_type": "markdown",
   "id": "87daf0ac",
   "metadata": {},
   "source": [
    "## Правило транслирования"
   ]
  },
  {
   "cell_type": "markdown",
   "id": "0351e892",
   "metadata": {},
   "source": [
    "Правило 1: если размерность двух массивов отличается, форма массива с меньшей размерностью дополняется единицами с ведущей (левой) стороны.\n",
    "\n",
    "Правило 2: если форма двух массивов не совпадает в каком-то измерении, массив с формой, равной 1 в данном измерении, растягивается вплоть до соответствия форме другого массива.\n",
    "\n",
    "Правило 3: если в каком либо измерении размеры массивов различаются и ни один не равен 1, генерируется ошикба"
   ]
  },
  {
   "cell_type": "markdown",
   "id": "d9c6c661",
   "metadata": {},
   "source": [
    "### Транслирование. Пример 1"
   ]
  },
  {
   "cell_type": "code",
   "execution_count": 199,
   "id": "1745df2e",
   "metadata": {},
   "outputs": [
    {
     "name": "stdout",
     "output_type": "stream",
     "text": [
      "[[1. 1. 1.]\n",
      " [1. 1. 1.]]\n",
      "[0 1 2]\n",
      "[[1. 1. 1.]\n",
      " [1. 1. 1.]]\n",
      "[0 1 2]\n"
     ]
    },
    {
     "data": {
      "text/plain": [
       "array([[1., 2., 3.],\n",
       "       [1., 2., 3.]])"
      ]
     },
     "execution_count": 199,
     "metadata": {},
     "output_type": "execute_result"
    }
   ],
   "source": [
    "# сложение двумерного массива с одномерным\n",
    "\n",
    "M = np.ones((2, 3))\n",
    "a = np.arange(3)\n",
    "\n",
    "print(M)\n",
    "print(a)\n",
    "\n",
    "M.shape = (2, 3)\n",
    "a.shape = (3,)\n",
    "\n",
    "print(M)\n",
    "print(a)\n",
    "\n",
    "# по правилу 1, поскольку размерность массива a меньше, мы дополняем его измерением слева\n",
    "\n",
    "#M.shape = (2, 3)\n",
    "#a.shape = (1, 3)\n",
    "\n",
    "# по правилу 2 мы видим что измерение первого массива различается, так что мы растягиваем его вплоть до совпадения\n",
    "\n",
    "#M.shape = (2, 3)\n",
    "#a.shape = (2, 3)\n",
    "\n",
    "# формы совпадают и мы видим что итоговая форма будет (2, 3)\n",
    "\n",
    "M + a"
   ]
  },
  {
   "cell_type": "markdown",
   "id": "134140fb",
   "metadata": {},
   "source": [
    "### Транслирование. Пример 2"
   ]
  },
  {
   "cell_type": "code",
   "execution_count": 203,
   "id": "58f677b3",
   "metadata": {},
   "outputs": [
    {
     "name": "stdout",
     "output_type": "stream",
     "text": [
      "[[0]\n",
      " [1]\n",
      " [2]]\n",
      "[0 1 2]\n"
     ]
    },
    {
     "data": {
      "text/plain": [
       "array([[0, 1, 2],\n",
       "       [1, 2, 3],\n",
       "       [2, 3, 4]])"
      ]
     },
     "execution_count": 203,
     "metadata": {},
     "output_type": "execute_result"
    }
   ],
   "source": [
    "# Пример в котором необходимо транслировать оба массива\n",
    "\n",
    "a = np.arange(3).reshape((3, 1))\n",
    "b = np.arange(3)\n",
    "\n",
    "print(a)\n",
    "print(b)\n",
    "\n",
    "# форма массиво на данный момент такая\n",
    "a.shape = (3, 1)\n",
    "b.shape = (3,)\n",
    "\n",
    "# правило 1 гласит, что мы должны дополнить форму массива b единицами\n",
    "\n",
    "# a.shape = (3, 1)\n",
    "# b.shape = (1, 3)\n",
    "\n",
    "# Правило 2 говорит, что нужно увеличивать эти единицы вплоть до совпадения с размером другого массива\n",
    "\n",
    "# a.shape = (3, 3)\n",
    "# b.shape = (3, 3)\n",
    "\n",
    "# Поскольку рузультаты совпадают, формы совместимы\n",
    "\n",
    "a + b"
   ]
  },
  {
   "cell_type": "markdown",
   "id": "994490b3",
   "metadata": {},
   "source": [
    "### Транслирование. Пример 3"
   ]
  },
  {
   "cell_type": "code",
   "execution_count": 206,
   "id": "9233d3b4",
   "metadata": {},
   "outputs": [
    {
     "ename": "ValueError",
     "evalue": "operands could not be broadcast together with shapes (3,2) (3,) ",
     "output_type": "error",
     "traceback": [
      "\u001b[0;31m---------------------------------------------------------------------------\u001b[0m",
      "\u001b[0;31mValueError\u001b[0m                                Traceback (most recent call last)",
      "Input \u001b[0;32mIn [206]\u001b[0m, in \u001b[0;36m<cell line: 21>\u001b[0;34m()\u001b[0m\n\u001b[1;32m      3\u001b[0m a \u001b[38;5;241m=\u001b[39m np\u001b[38;5;241m.\u001b[39marange(\u001b[38;5;241m3\u001b[39m)\n\u001b[1;32m      5\u001b[0m \u001b[38;5;66;03m# M.shape = (3, 2)\u001b[39;00m\n\u001b[1;32m      6\u001b[0m \u001b[38;5;66;03m# a.shape = (3,)\u001b[39;00m\n\u001b[1;32m      7\u001b[0m \n\u001b[0;32m   (...)\u001b[0m\n\u001b[1;32m     18\u001b[0m \u001b[38;5;66;03m# Теперь вступают в действие правило 3 = тоговые формы не совпадают, так что массивы несовместимы, \u001b[39;00m\n\u001b[1;32m     19\u001b[0m \u001b[38;5;66;03m# что мы и видим попытавшись выполнить данную операцию\u001b[39;00m\n\u001b[0;32m---> 21\u001b[0m \u001b[43mM\u001b[49m\u001b[43m \u001b[49m\u001b[38;5;241;43m+\u001b[39;49m\u001b[43m \u001b[49m\u001b[43ma\u001b[49m\n",
      "\u001b[0;31mValueError\u001b[0m: operands could not be broadcast together with shapes (3,2) (3,) "
     ]
    }
   ],
   "source": [
    "# Пример в котором два массива несовместимы\n",
    "M = np.ones((3, 2))\n",
    "a = np.arange(3)\n",
    "\n",
    "# M.shape = (3, 2)\n",
    "# a.shape = (3,)\n",
    "\n",
    "# правило один требует от нас дополнить форму массива a единицами\n",
    "\n",
    "# M.shape = (3, 2)\n",
    "# a.shape = (1, 3)\n",
    "\n",
    "# Согласно правилу 2 первое измерение массива а растягивается, чтобы соответствовать таковому массива M\n",
    "\n",
    "# M.shape = (3, 2)\n",
    "# a.shape = (3, 3)\n",
    "\n",
    "# Теперь вступают в действие правило 3 = тоговые формы не совпадают, так что массивы несовместимы, \n",
    "# что мы и видим попытавшись выполнить данную операцию\n",
    "\n",
    "M + a"
   ]
  },
  {
   "cell_type": "code",
   "execution_count": 207,
   "id": "9f2f9c83",
   "metadata": {},
   "outputs": [
    {
     "data": {
      "text/plain": [
       "(3, 1)"
      ]
     },
     "execution_count": 207,
     "metadata": {},
     "output_type": "execute_result"
    }
   ],
   "source": [
    "a[:, np.newaxis].shape"
   ]
  },
  {
   "cell_type": "code",
   "execution_count": 208,
   "id": "a6f841d0",
   "metadata": {},
   "outputs": [
    {
     "data": {
      "text/plain": [
       "array([[1., 1.],\n",
       "       [2., 2.],\n",
       "       [3., 3.]])"
      ]
     },
     "execution_count": 208,
     "metadata": {},
     "output_type": "execute_result"
    }
   ],
   "source": [
    "M + a[:, np.newaxis]"
   ]
  },
  {
   "cell_type": "code",
   "execution_count": 209,
   "id": "9216badd",
   "metadata": {},
   "outputs": [
    {
     "data": {
      "text/plain": [
       "array([[1.31326169, 1.31326169],\n",
       "       [1.69314718, 1.69314718],\n",
       "       [2.31326169, 2.31326169]])"
      ]
     },
     "execution_count": 209,
     "metadata": {},
     "output_type": "execute_result"
    }
   ],
   "source": [
    "# функция logaddexp вычисляет log(exp(a) + exp(b))\n",
    "np.logaddexp(M, a[:, np.newaxis])"
   ]
  },
  {
   "cell_type": "markdown",
   "id": "7ce6e9f6",
   "metadata": {},
   "source": [
    "## Транслирование на практике"
   ]
  },
  {
   "cell_type": "markdown",
   "id": "c15e5073",
   "metadata": {},
   "source": [
    "### Центрирование массива"
   ]
  },
  {
   "cell_type": "code",
   "execution_count": null,
   "id": "2a6f9d35",
   "metadata": {},
   "outputs": [],
   "source": []
  }
 ],
 "metadata": {
  "kernelspec": {
   "display_name": "Python 3 (ipykernel)",
   "language": "python",
   "name": "python3"
  },
  "language_info": {
   "codemirror_mode": {
    "name": "ipython",
    "version": 3
   },
   "file_extension": ".py",
   "mimetype": "text/x-python",
   "name": "python",
   "nbconvert_exporter": "python",
   "pygments_lexer": "ipython3",
   "version": "3.8.10"
  }
 },
 "nbformat": 4,
 "nbformat_minor": 5
}
