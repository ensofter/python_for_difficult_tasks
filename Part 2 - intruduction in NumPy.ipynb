{
 "cells": [
  {
   "cell_type": "code",
   "execution_count": 34,
   "id": "1afb7643",
   "metadata": {},
   "outputs": [
    {
     "data": {
      "text/plain": [
       "'1.22.3'"
      ]
     },
     "execution_count": 34,
     "metadata": {},
     "output_type": "execute_result"
    }
   ],
   "source": [
    "import numpy\n",
    "numpy.__version__"
   ]
  },
  {
   "cell_type": "code",
   "execution_count": 27,
   "id": "c1fdb0ef",
   "metadata": {},
   "outputs": [
    {
     "name": "stdout",
     "output_type": "stream",
     "text": [
      "5050\n"
     ]
    }
   ],
   "source": [
    "result = 0\n",
    "for i in range(1, 101):\n",
    "    result += i\n",
    "print(result)"
   ]
  },
  {
   "cell_type": "markdown",
   "id": "f06e3a1c",
   "metadata": {},
   "source": [
    "Каждый объект в Python это замаскированная структура языка C, которая содержит не только значение, но и другую информацию.\n",
    "\n",
    "Например при описании целочисленной  переменной на языке Python, такой как:"
   ]
  },
  {
   "cell_type": "code",
   "execution_count": 28,
   "id": "2948a756",
   "metadata": {},
   "outputs": [],
   "source": [
    "x = 10000"
   ]
  },
  {
   "cell_type": "markdown",
   "id": "0cc40453",
   "metadata": {},
   "source": [
    "представляет собой не просто чистое цедлое число, на самом деле это указатель на составную структуру языка C, содержащую несколько значений.\n",
    "\n",
    "Переменная состоит из 4 частей:\n",
    "- счетчик ссылое\n",
    "- тип переменной\n",
    "- размер следующих элементов данных\n",
    "- содержание значения"
   ]
  },
  {
   "cell_type": "code",
   "execution_count": 29,
   "id": "fda6cb50",
   "metadata": {},
   "outputs": [
    {
     "name": "stdout",
     "output_type": "stream",
     "text": [
      "[0, 1, 2, 3, 4, 5, 6, 7, 8, 9]\n"
     ]
    }
   ],
   "source": [
    "l = list(range(10))\n",
    "print(l)"
   ]
  },
  {
   "cell_type": "code",
   "execution_count": 32,
   "id": "cf81f2f2",
   "metadata": {},
   "outputs": [
    {
     "name": "stdout",
     "output_type": "stream",
     "text": [
      "['0', '1', '2', '3', '4', '5', '6', '7', '8', '9']\n"
     ]
    }
   ],
   "source": [
    "l2 = [str(c) for c in l]\n",
    "print(l2)"
   ]
  },
  {
   "cell_type": "markdown",
   "id": "16978b11",
   "metadata": {},
   "source": [
    "В Python можно создавать массивы определенных типов для более эффективно работающего буфера. Например библиотека array позволяет создавать целочисленные массивы."
   ]
  },
  {
   "cell_type": "code",
   "execution_count": 33,
   "id": "c63656b7",
   "metadata": {},
   "outputs": [
    {
     "name": "stdout",
     "output_type": "stream",
     "text": [
      "array('i', [0, 1, 2, 3, 4, 5, 6, 7, 8, 9])\n"
     ]
    }
   ],
   "source": [
    "import array\n",
    "l = list(range(10))\n",
    "a = array.array('i', l)\n",
    "print(a)"
   ]
  },
  {
   "cell_type": "markdown",
   "id": "2490861f",
   "metadata": {},
   "source": [
    "Тоже самое можно сделать при помощи библиотеки numpy, только она еще позваляет и проводить различные операции с этими масивами."
   ]
  },
  {
   "cell_type": "markdown",
   "id": "1ebe41a9",
   "metadata": {},
   "source": [
    "## Создание массива из списков языка Python"
   ]
  },
  {
   "cell_type": "code",
   "execution_count": 34,
   "id": "e6066549",
   "metadata": {},
   "outputs": [
    {
     "name": "stdout",
     "output_type": "stream",
     "text": [
      "[1 2 3 4 5]\n",
      "[3.14 2.   3.   6.  ]\n"
     ]
    }
   ],
   "source": [
    "import numpy as np\n",
    "\n",
    "\n",
    "l1 = np.array([1, 2, 3, 4, 5])\n",
    "print(l1)\n",
    "\n",
    "l2 = np.array([3.14, 2, 3, 6])\n",
    "print(l2)"
   ]
  },
  {
   "cell_type": "markdown",
   "id": "618c634b",
   "metadata": {},
   "source": [
    "Массив в numpy может быть только с одним типом данных, если их несколько то numpy пытается привести их к одному типу, как в примере 2 выше."
   ]
  },
  {
   "cell_type": "markdown",
   "id": "a88f8345",
   "metadata": {},
   "source": [
    "Ключевое слово dtype позволяет четко указать тип данных массива."
   ]
  },
  {
   "cell_type": "code",
   "execution_count": 35,
   "id": "22e9b1da",
   "metadata": {},
   "outputs": [
    {
     "name": "stdout",
     "output_type": "stream",
     "text": [
      "[1. 2. 3. 4.]\n"
     ]
    }
   ],
   "source": [
    "l = np.array([1, 2, 3, 4], dtype=float)\n",
    "print(l)"
   ]
  },
  {
   "cell_type": "markdown",
   "id": "38fccb08",
   "metadata": {},
   "source": [
    "В numpy можно описывать явным образом многомерные массивы. Вложенные списки рассматриваются как строки в итоговом двумерном массиве."
   ]
  },
  {
   "cell_type": "code",
   "execution_count": 37,
   "id": "36982807",
   "metadata": {},
   "outputs": [
    {
     "name": "stdout",
     "output_type": "stream",
     "text": [
      "[[2 3 4]\n",
      " [4 5 6]\n",
      " [6 7 8]]\n"
     ]
    }
   ],
   "source": [
    "l = np.array([range(i, i+3) for i in [2, 4, 6]])\n",
    "print(l)"
   ]
  },
  {
   "cell_type": "markdown",
   "id": "7b5dc53a",
   "metadata": {},
   "source": [
    "## Создание массивов с нуля"
   ]
  },
  {
   "cell_type": "markdown",
   "id": "def54228",
   "metadata": {},
   "source": [
    "создание целочисленного массива длины 10 заполненного нулями"
   ]
  },
  {
   "cell_type": "code",
   "execution_count": 40,
   "id": "d62f214f",
   "metadata": {},
   "outputs": [
    {
     "data": {
      "text/plain": [
       "array([0, 0, 0, 0, 0, 0, 0, 0, 0, 0])"
      ]
     },
     "execution_count": 40,
     "metadata": {},
     "output_type": "execute_result"
    }
   ],
   "source": [
    "np.zeros(10, dtype=int)"
   ]
  },
  {
   "cell_type": "markdown",
   "id": "1f98e5e2",
   "metadata": {},
   "source": [
    "создание массива замером 5х3 значиний сс плавающей точкой заполненных единицами"
   ]
  },
  {
   "cell_type": "code",
   "execution_count": 41,
   "id": "32fad663",
   "metadata": {},
   "outputs": [
    {
     "data": {
      "text/plain": [
       "array([[1., 1., 1., 1., 1.],\n",
       "       [1., 1., 1., 1., 1.],\n",
       "       [1., 1., 1., 1., 1.]])"
      ]
     },
     "execution_count": 41,
     "metadata": {},
     "output_type": "execute_result"
    }
   ],
   "source": [
    "np.ones((3, 5), dtype=float)"
   ]
  },
  {
   "cell_type": "markdown",
   "id": "87ca3c6e",
   "metadata": {},
   "source": [
    "создание массива размером 3х5, заполненный значением 3,14"
   ]
  },
  {
   "cell_type": "code",
   "execution_count": 42,
   "id": "cf547762",
   "metadata": {},
   "outputs": [
    {
     "data": {
      "text/plain": [
       "array([[3.14, 3.14, 3.14, 3.14, 3.14],\n",
       "       [3.14, 3.14, 3.14, 3.14, 3.14],\n",
       "       [3.14, 3.14, 3.14, 3.14, 3.14]])"
      ]
     },
     "execution_count": 42,
     "metadata": {},
     "output_type": "execute_result"
    }
   ],
   "source": [
    "np.full((3, 5), 3.14)"
   ]
  },
  {
   "cell_type": "markdown",
   "id": "0167da77",
   "metadata": {},
   "source": [
    "создаем массив, заполненный линейной последовательностью начинайющийся с 0 и заканчивающийся 20 с шагом 2, аналогично range"
   ]
  },
  {
   "cell_type": "code",
   "execution_count": 44,
   "id": "6d7a9d45",
   "metadata": {},
   "outputs": [
    {
     "data": {
      "text/plain": [
       "array([ 0,  2,  4,  6,  8, 10, 12, 14, 16, 18])"
      ]
     },
     "execution_count": 44,
     "metadata": {},
     "output_type": "execute_result"
    }
   ],
   "source": [
    "np.arange(0, 20, 2)"
   ]
  },
  {
   "cell_type": "markdown",
   "id": "56e199ae",
   "metadata": {},
   "source": [
    "создаем массив из пяти значений равномерно располагающихся между 0 и 1"
   ]
  },
  {
   "cell_type": "code",
   "execution_count": 46,
   "id": "96d041e4",
   "metadata": {},
   "outputs": [
    {
     "data": {
      "text/plain": [
       "array([0.  , 0.25, 0.5 , 0.75, 1.  ])"
      ]
     },
     "execution_count": 46,
     "metadata": {},
     "output_type": "execute_result"
    }
   ],
   "source": [
    "np.linspace(0, 1, 5)"
   ]
  },
  {
   "cell_type": "markdown",
   "id": "6912b469",
   "metadata": {},
   "source": [
    "создаем массив 3х3 равномерно распределенных случайных значений от 0 до 1"
   ]
  },
  {
   "cell_type": "code",
   "execution_count": 48,
   "id": "e37a2cae",
   "metadata": {},
   "outputs": [
    {
     "data": {
      "text/plain": [
       "array([[0.55121224, 0.26239305, 0.49926696],\n",
       "       [0.44634251, 0.70986143, 0.48792261],\n",
       "       [0.08128452, 0.53309072, 0.00254466]])"
      ]
     },
     "execution_count": 48,
     "metadata": {},
     "output_type": "execute_result"
    }
   ],
   "source": [
    "np.random.random((3, 3))"
   ]
  },
  {
   "cell_type": "markdown",
   "id": "ecaab4e1",
   "metadata": {},
   "source": [
    "создаем массив размером 3х3 нормально распределенных случайных значений с медианой - и стандартным отклонением 1"
   ]
  },
  {
   "cell_type": "code",
   "execution_count": 50,
   "id": "708db208",
   "metadata": {},
   "outputs": [
    {
     "data": {
      "text/plain": [
       "array([[-0.79834757,  0.93438786, -1.92975791],\n",
       "       [-0.1074372 ,  0.16379745, -0.30276634],\n",
       "       [-0.66523405,  0.0163417 , -0.42388998]])"
      ]
     },
     "execution_count": 50,
     "metadata": {},
     "output_type": "execute_result"
    }
   ],
   "source": [
    "np.random.normal(0, 1, (3, 3))"
   ]
  },
  {
   "cell_type": "markdown",
   "id": "ae759dcb",
   "metadata": {},
   "source": [
    "создаем массив размером 3х3 слуйных целых чисел в промежутке [0, 10)"
   ]
  },
  {
   "cell_type": "code",
   "execution_count": 52,
   "id": "e37e1f23",
   "metadata": {},
   "outputs": [
    {
     "data": {
      "text/plain": [
       "array([[5, 6, 1],\n",
       "       [6, 3, 9],\n",
       "       [8, 9, 2]])"
      ]
     },
     "execution_count": 52,
     "metadata": {},
     "output_type": "execute_result"
    }
   ],
   "source": [
    "np.random.randint(0, 10, (3, 3))"
   ]
  },
  {
   "cell_type": "markdown",
   "id": "1d32f592",
   "metadata": {},
   "source": [
    "создаем единичную матрицу размером 3х3"
   ]
  },
  {
   "cell_type": "code",
   "execution_count": 53,
   "id": "d69836c0",
   "metadata": {},
   "outputs": [
    {
     "data": {
      "text/plain": [
       "array([[1., 0., 0.],\n",
       "       [0., 1., 0.],\n",
       "       [0., 0., 1.]])"
      ]
     },
     "execution_count": 53,
     "metadata": {},
     "output_type": "execute_result"
    }
   ],
   "source": [
    "np.eye(3)"
   ]
  },
  {
   "cell_type": "markdown",
   "id": "ee7ed67a",
   "metadata": {},
   "source": [
    "создаем инициализированный массив из трех целочисленных значений. Значениями будут произвольные, случайно оказавшиеся в соответствующих ячейках памяти данные"
   ]
  },
  {
   "cell_type": "code",
   "execution_count": 54,
   "id": "34e5be3d",
   "metadata": {},
   "outputs": [
    {
     "data": {
      "text/plain": [
       "array([1., 1., 1.])"
      ]
     },
     "execution_count": 54,
     "metadata": {},
     "output_type": "execute_result"
    }
   ],
   "source": [
    "np.empty(3)"
   ]
  },
  {
   "cell_type": "code",
   "execution_count": null,
   "id": "87701a99",
   "metadata": {},
   "outputs": [],
   "source": []
  }
 ],
 "metadata": {
  "kernelspec": {
   "display_name": "Python 3 (ipykernel)",
   "language": "python",
   "name": "python3"
  },
  "language_info": {
   "codemirror_mode": {
    "name": "ipython",
    "version": 3
   },
   "file_extension": ".py",
   "mimetype": "text/x-python",
   "name": "python",
   "nbconvert_exporter": "python",
   "pygments_lexer": "ipython3",
   "version": "3.8.10"
  }
 },
 "nbformat": 4,
 "nbformat_minor": 5
}
