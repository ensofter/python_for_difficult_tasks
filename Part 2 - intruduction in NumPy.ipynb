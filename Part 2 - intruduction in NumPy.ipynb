{
 "cells": [
  {
   "cell_type": "code",
   "execution_count": 34,
   "id": "8e907da6",
   "metadata": {},
   "outputs": [
    {
     "data": {
      "text/plain": [
       "'1.22.3'"
      ]
     },
     "execution_count": 34,
     "metadata": {},
     "output_type": "execute_result"
    }
   ],
   "source": [
    "import numpy\n",
    "numpy.__version__"
   ]
  },
  {
   "cell_type": "code",
   "execution_count": 4,
   "id": "972b04cb",
   "metadata": {
    "scrolled": true
   },
   "outputs": [
    {
     "name": "stdout",
     "output_type": "stream",
     "text": [
      "1.22.3\n"
     ]
    }
   ],
   "source": [
    "import numpy as np\n",
    "\n",
    "\n",
    "version = np.__version__\n",
    "print(version)"
   ]
  },
  {
   "cell_type": "code",
   "execution_count": null,
   "id": "63944369",
   "metadata": {},
   "outputs": [],
   "source": []
  },
  {
   "cell_type": "code",
   "execution_count": 32,
   "id": "c30f76d3",
   "metadata": {},
   "outputs": [
    {
     "name": "stdout",
     "output_type": "stream",
     "text": [
      "4950\n",
      "0\n",
      "4950\n"
     ]
    }
   ],
   "source": [
    "print(result)\n",
    "result = 0\n",
    "print(result)\n",
    "\n",
    "print(result)"
   ]
  },
  {
   "cell_type": "code",
   "execution_count": 20,
   "id": "488df84f",
   "metadata": {},
   "outputs": [],
   "source": [
    "dd"
   ]
  },
  {
   "cell_type": "code",
   "execution_count": 27,
   "id": "3b453cf8",
   "metadata": {},
   "outputs": [
    {
     "name": "stdout",
     "output_type": "stream",
     "text": [
      "5050\n"
     ]
    }
   ],
   "source": [
    "result = 0\n",
    "for i in range(1, 101):\n",
    "    result += i\n",
    "print(result)"
   ]
  },
  {
   "cell_type": "markdown",
   "id": "d1c08bb9",
   "metadata": {},
   "source": [
    "Каждый объект в Python это замаскированная структура языка C, которая содержит не только значение, но и другую информацию.\n",
    "\n",
    "Например при описании целочисленной  переменной на языке Python, такой как:"
   ]
  },
  {
   "cell_type": "code",
   "execution_count": 28,
   "id": "79ca402a",
   "metadata": {},
   "outputs": [],
   "source": [
    "x = 10000"
   ]
  },
  {
   "cell_type": "markdown",
   "id": "61c31ecc",
   "metadata": {},
   "source": [
    "представляет собой не просто чистое цедлое число, на самом деле это указатель на составную структуру языка C, содержащую несколько значений.\n",
    "\n",
    "Переменная состоит из 4 частей:\n",
    "- счетчик ссылое\n",
    "- тип переменной\n",
    "- размер следующих элементов данных\n",
    "- содержание значения"
   ]
  },
  {
   "cell_type": "code",
   "execution_count": 29,
   "id": "34ed3fb0",
   "metadata": {},
   "outputs": [
    {
     "name": "stdout",
     "output_type": "stream",
     "text": [
      "[0, 1, 2, 3, 4, 5, 6, 7, 8, 9]\n"
     ]
    }
   ],
   "source": [
    "l = list(range(10))\n",
    "print(l)"
   ]
  },
  {
   "cell_type": "code",
   "execution_count": 32,
   "id": "7e822df7",
   "metadata": {},
   "outputs": [
    {
     "name": "stdout",
     "output_type": "stream",
     "text": [
      "['0', '1', '2', '3', '4', '5', '6', '7', '8', '9']\n"
     ]
    }
   ],
   "source": [
    "l2 = [str(c) for c in l]\n",
    "print(l2)"
   ]
  },
  {
   "cell_type": "markdown",
   "id": "18fdf018",
   "metadata": {},
   "source": [
    "В Python можно создавать массивы определенных типов для более эффективно работающего буфера. Например библиотека array позволяет создавать целочисленные массивы."
   ]
  },
  {
   "cell_type": "code",
   "execution_count": 33,
   "id": "0ff4d816",
   "metadata": {},
   "outputs": [
    {
     "name": "stdout",
     "output_type": "stream",
     "text": [
      "array('i', [0, 1, 2, 3, 4, 5, 6, 7, 8, 9])\n"
     ]
    }
   ],
   "source": [
    "import array\n",
    "l = list(range(10))\n",
    "a = array.array('i', l)\n",
    "print(a)"
   ]
  },
  {
   "cell_type": "markdown",
   "id": "12c80eda",
   "metadata": {},
   "source": [
    "Тоже самое можно сделать при помощи библиотеки numpy, только она еще позваляет и проводить различные операции с этими масивами."
   ]
  },
  {
   "cell_type": "markdown",
   "id": "8f0c1284",
   "metadata": {},
   "source": [
    "## Создание массива из списков языка Python"
   ]
  },
  {
   "cell_type": "code",
   "execution_count": 34,
   "id": "0e29bf79",
   "metadata": {},
   "outputs": [
    {
     "name": "stdout",
     "output_type": "stream",
     "text": [
      "[1 2 3 4 5]\n",
      "[3.14 2.   3.   6.  ]\n"
     ]
    }
   ],
   "source": [
    "import numpy as np\n",
    "\n",
    "\n",
    "l1 = np.array([1, 2, 3, 4, 5])\n",
    "print(l1)\n",
    "\n",
    "l2 = np.array([3.14, 2, 3, 6])\n",
    "print(l2)"
   ]
  },
  {
   "cell_type": "markdown",
   "id": "36f6384f",
   "metadata": {},
   "source": [
    "Массив в numpy может быть только с одним типом данных, если их несколько то numpy пытается привести их к одному типу, как в примере 2 выше."
   ]
  },
  {
   "cell_type": "markdown",
   "id": "5056f1ad",
   "metadata": {},
   "source": [
    "Ключевое слово dtype позволяет четко указать тип данных массива."
   ]
  },
  {
   "cell_type": "code",
   "execution_count": 35,
   "id": "6a41f91e",
   "metadata": {},
   "outputs": [
    {
     "name": "stdout",
     "output_type": "stream",
     "text": [
      "[1. 2. 3. 4.]\n"
     ]
    }
   ],
   "source": [
    "l = np.array([1, 2, 3, 4], dtype=float)\n",
    "print(l)"
   ]
  },
  {
   "cell_type": "markdown",
   "id": "1c3c57fb",
   "metadata": {},
   "source": [
    "В numpy можно описывать явным образом многомерные массивы. Вложенные списки рассматриваются как строки в итоговом двумерном массиве."
   ]
  },
  {
   "cell_type": "code",
   "execution_count": 37,
   "id": "e8502fb7",
   "metadata": {},
   "outputs": [
    {
     "name": "stdout",
     "output_type": "stream",
     "text": [
      "[[2 3 4]\n",
      " [4 5 6]\n",
      " [6 7 8]]\n"
     ]
    }
   ],
   "source": [
    "l = np.array([range(i, i+3) for i in [2, 4, 6]])\n",
    "print(l)"
   ]
  },
  {
   "cell_type": "markdown",
   "id": "14f5a444",
   "metadata": {},
   "source": [
    "## Создание массивов с нуля"
   ]
  },
  {
   "cell_type": "markdown",
   "id": "17eefa43",
   "metadata": {},
   "source": [
    "создание целочисленного массива длины 10 заполненного нулями"
   ]
  },
  {
   "cell_type": "code",
   "execution_count": 40,
   "id": "30ea302d",
   "metadata": {},
   "outputs": [
    {
     "data": {
      "text/plain": [
       "array([0, 0, 0, 0, 0, 0, 0, 0, 0, 0])"
      ]
     },
     "execution_count": 40,
     "metadata": {},
     "output_type": "execute_result"
    }
   ],
   "source": [
    "np.zeros(10, dtype=int)"
   ]
  },
  {
   "cell_type": "markdown",
   "id": "d2b52d94",
   "metadata": {},
   "source": [
    "создание массива замером 5х3 значиний сс плавающей точкой заполненных единицами"
   ]
  },
  {
   "cell_type": "code",
   "execution_count": 41,
   "id": "8bd46c57",
   "metadata": {},
   "outputs": [
    {
     "data": {
      "text/plain": [
       "array([[1., 1., 1., 1., 1.],\n",
       "       [1., 1., 1., 1., 1.],\n",
       "       [1., 1., 1., 1., 1.]])"
      ]
     },
     "execution_count": 41,
     "metadata": {},
     "output_type": "execute_result"
    }
   ],
   "source": [
    "np.ones((3, 5), dtype=float)"
   ]
  },
  {
   "cell_type": "markdown",
   "id": "780677b4",
   "metadata": {},
   "source": [
    "создание массива размером 3х5, заполненный значением 3,14"
   ]
  },
  {
   "cell_type": "code",
   "execution_count": 42,
   "id": "6ce93e24",
   "metadata": {},
   "outputs": [
    {
     "data": {
      "text/plain": [
       "array([[3.14, 3.14, 3.14, 3.14, 3.14],\n",
       "       [3.14, 3.14, 3.14, 3.14, 3.14],\n",
       "       [3.14, 3.14, 3.14, 3.14, 3.14]])"
      ]
     },
     "execution_count": 42,
     "metadata": {},
     "output_type": "execute_result"
    }
   ],
   "source": [
    "np.full((3, 5), 3.14)"
   ]
  },
  {
   "cell_type": "markdown",
   "id": "71eac6e9",
   "metadata": {},
   "source": [
    "создаем массив, заполненный линейной последовательностью начинайющийся с 0 и заканчивающийся 20 с шагом 2, аналогично range"
   ]
  },
  {
   "cell_type": "code",
   "execution_count": 44,
   "id": "f3d20c9f",
   "metadata": {},
   "outputs": [
    {
     "data": {
      "text/plain": [
       "array([ 0,  2,  4,  6,  8, 10, 12, 14, 16, 18])"
      ]
     },
     "execution_count": 44,
     "metadata": {},
     "output_type": "execute_result"
    }
   ],
   "source": [
    "np.arange(0, 20, 2)"
   ]
  },
  {
   "cell_type": "markdown",
   "id": "b6b8f867",
   "metadata": {},
   "source": [
    "создаем массив из пяти значений равномерно располагающихся между 0 и 1"
   ]
  },
  {
   "cell_type": "code",
   "execution_count": 46,
   "id": "b33c7af7",
   "metadata": {},
   "outputs": [
    {
     "data": {
      "text/plain": [
       "array([0.  , 0.25, 0.5 , 0.75, 1.  ])"
      ]
     },
     "execution_count": 46,
     "metadata": {},
     "output_type": "execute_result"
    }
   ],
   "source": [
    "np.linspace(0, 1, 5)"
   ]
  },
  {
   "cell_type": "markdown",
   "id": "04466484",
   "metadata": {},
   "source": [
    "создаем массив 3х3 равномерно распределенных случайных значений от 0 до 1"
   ]
  },
  {
   "cell_type": "code",
   "execution_count": 48,
   "id": "a14bd112",
   "metadata": {},
   "outputs": [
    {
     "data": {
      "text/plain": [
       "array([[0.55121224, 0.26239305, 0.49926696],\n",
       "       [0.44634251, 0.70986143, 0.48792261],\n",
       "       [0.08128452, 0.53309072, 0.00254466]])"
      ]
     },
     "execution_count": 48,
     "metadata": {},
     "output_type": "execute_result"
    }
   ],
   "source": [
    "np.random.random((3, 3))"
   ]
  },
  {
   "cell_type": "markdown",
   "id": "89bb5f79",
   "metadata": {},
   "source": [
    "создаем массив размером 3х3 нормально распределенных случайных значений с медианой - и стандартным отклонением 1"
   ]
  },
  {
   "cell_type": "code",
   "execution_count": 50,
   "id": "abc04a4e",
   "metadata": {},
   "outputs": [
    {
     "data": {
      "text/plain": [
       "array([[-0.79834757,  0.93438786, -1.92975791],\n",
       "       [-0.1074372 ,  0.16379745, -0.30276634],\n",
       "       [-0.66523405,  0.0163417 , -0.42388998]])"
      ]
     },
     "execution_count": 50,
     "metadata": {},
     "output_type": "execute_result"
    }
   ],
   "source": [
    "np.random.normal(0, 1, (3, 3))"
   ]
  },
  {
   "cell_type": "markdown",
   "id": "2ff0f0f5",
   "metadata": {},
   "source": [
    "создаем массив размером 3х3 слуйных целых чисел в промежутке [0, 10)"
   ]
  },
  {
   "cell_type": "code",
   "execution_count": 52,
   "id": "63d6d913",
   "metadata": {},
   "outputs": [
    {
     "data": {
      "text/plain": [
       "array([[5, 6, 1],\n",
       "       [6, 3, 9],\n",
       "       [8, 9, 2]])"
      ]
     },
     "execution_count": 52,
     "metadata": {},
     "output_type": "execute_result"
    }
   ],
   "source": [
    "np.random.randint(0, 10, (3, 3))"
   ]
  },
  {
   "cell_type": "markdown",
   "id": "fd9de0dc",
   "metadata": {},
   "source": [
    "создаем единичную матрицу размером 3х3"
   ]
  },
  {
   "cell_type": "code",
   "execution_count": 53,
   "id": "ef419e86",
   "metadata": {},
   "outputs": [
    {
     "data": {
      "text/plain": [
       "array([[1., 0., 0.],\n",
       "       [0., 1., 0.],\n",
       "       [0., 0., 1.]])"
      ]
     },
     "execution_count": 53,
     "metadata": {},
     "output_type": "execute_result"
    }
   ],
   "source": [
    "np.eye(3)"
   ]
  },
  {
   "cell_type": "markdown",
   "id": "cbbb2821",
   "metadata": {},
   "source": [
    "создаем инициализированный массив из трех целочисленных значений. Значениями будут произвольные, случайно оказавшиеся в соответствующих ячейках памяти данные"
   ]
  },
  {
   "cell_type": "code",
   "execution_count": 54,
   "id": "6efbd83a",
   "metadata": {},
   "outputs": [
    {
     "data": {
      "text/plain": [
       "array([1., 1., 1.])"
      ]
     },
     "execution_count": 54,
     "metadata": {},
     "output_type": "execute_result"
    }
   ],
   "source": [
    "np.empty(3)"
   ]
  },
  {
   "cell_type": "markdown",
   "id": "a6535a80",
   "metadata": {},
   "source": [
    "## Атрибуты массивов библиотеки NumPy"
   ]
  },
  {
   "cell_type": "code",
   "execution_count": 58,
   "id": "96eb85d9",
   "metadata": {},
   "outputs": [
    {
     "name": "stdout",
     "output_type": "stream",
     "text": [
      "x3 ndim:  3\n",
      "x3 shpae:  (3, 4, 5)\n",
      "x3 size:  60\n"
     ]
    }
   ],
   "source": [
    "import numpy as np\n",
    "\n",
    "\n",
    "np.random.seed(0) #начальное значение для целей воспроизводимости\n",
    "\n",
    "x1 = np.random.randint(10, size=6) #одномерный массив\n",
    "x2 = np.random.randint(10, size=(3, 4)) #двумерный массив\n",
    "x3 = np.random.randint(10, size=(3, 4, 5)) #трехмерный массив\n",
    "\n",
    "# ndim - размерность\n",
    "# shape - размер каждого измерения\n",
    "# size - общий размер массива\n",
    "\n",
    "print(\"x3 ndim: \", x3.ndim)\n",
    "print(\"x3 shpae: \", x3.shape)\n",
    "print(\"x3 size: \", x3.size)"
   ]
  },
  {
   "cell_type": "code",
   "execution_count": 60,
   "id": "5576726e",
   "metadata": {},
   "outputs": [
    {
     "name": "stdout",
     "output_type": "stream",
     "text": [
      "dtype:  int64\n"
     ]
    }
   ],
   "source": [
    "# dtype - еще один атрибут типа данных массива\n",
    "print(\"dtype: \", x3.dtype)"
   ]
  },
  {
   "cell_type": "markdown",
   "id": "fd6e9a47",
   "metadata": {},
   "source": [
    "## Индексация массива: доступ к отдельным элементам"
   ]
  },
  {
   "cell_type": "code",
   "execution_count": 61,
   "id": "ddd2a6bb",
   "metadata": {},
   "outputs": [
    {
     "data": {
      "text/plain": [
       "array([5, 0, 3, 3, 7, 9])"
      ]
     },
     "execution_count": 61,
     "metadata": {},
     "output_type": "execute_result"
    }
   ],
   "source": [
    "x1"
   ]
  },
  {
   "cell_type": "code",
   "execution_count": 62,
   "id": "f396e8d2",
   "metadata": {},
   "outputs": [
    {
     "data": {
      "text/plain": [
       "5"
      ]
     },
     "execution_count": 62,
     "metadata": {},
     "output_type": "execute_result"
    }
   ],
   "source": [
    "x1[0]"
   ]
  },
  {
   "cell_type": "code",
   "execution_count": 63,
   "id": "54ca7725",
   "metadata": {},
   "outputs": [
    {
     "data": {
      "text/plain": [
       "7"
      ]
     },
     "execution_count": 63,
     "metadata": {},
     "output_type": "execute_result"
    }
   ],
   "source": [
    "x1[4]"
   ]
  },
  {
   "cell_type": "code",
   "execution_count": 64,
   "id": "a718fecb",
   "metadata": {},
   "outputs": [
    {
     "data": {
      "text/plain": [
       "9"
      ]
     },
     "execution_count": 64,
     "metadata": {},
     "output_type": "execute_result"
    }
   ],
   "source": [
    "x1[-1]"
   ]
  },
  {
   "cell_type": "code",
   "execution_count": 65,
   "id": "c56304fd",
   "metadata": {},
   "outputs": [
    {
     "data": {
      "text/plain": [
       "7"
      ]
     },
     "execution_count": 65,
     "metadata": {},
     "output_type": "execute_result"
    }
   ],
   "source": [
    "x1[-2]"
   ]
  },
  {
   "cell_type": "markdown",
   "id": "961516ec",
   "metadata": {},
   "source": [
    "Обращение к элементам в многомерном массиве осуществляется через разделенный запятыми кортеж индексов."
   ]
  },
  {
   "cell_type": "code",
   "execution_count": 66,
   "id": "2687dfd2",
   "metadata": {},
   "outputs": [
    {
     "data": {
      "text/plain": [
       "array([[3, 5, 2, 4],\n",
       "       [7, 6, 8, 8],\n",
       "       [1, 6, 7, 7]])"
      ]
     },
     "execution_count": 66,
     "metadata": {},
     "output_type": "execute_result"
    }
   ],
   "source": [
    "x2"
   ]
  },
  {
   "cell_type": "code",
   "execution_count": 68,
   "id": "d95b38d6",
   "metadata": {},
   "outputs": [
    {
     "data": {
      "text/plain": [
       "3"
      ]
     },
     "execution_count": 68,
     "metadata": {},
     "output_type": "execute_result"
    }
   ],
   "source": [
    "x2[0, 0]"
   ]
  },
  {
   "cell_type": "code",
   "execution_count": 69,
   "id": "62f3b821",
   "metadata": {},
   "outputs": [
    {
     "data": {
      "text/plain": [
       "1"
      ]
     },
     "execution_count": 69,
     "metadata": {},
     "output_type": "execute_result"
    }
   ],
   "source": [
    "x2[2, 0]"
   ]
  },
  {
   "cell_type": "code",
   "execution_count": 70,
   "id": "6e9041e4",
   "metadata": {},
   "outputs": [
    {
     "data": {
      "text/plain": [
       "6"
      ]
     },
     "execution_count": 70,
     "metadata": {},
     "output_type": "execute_result"
    }
   ],
   "source": [
    "x2[2, 1]"
   ]
  },
  {
   "cell_type": "code",
   "execution_count": 71,
   "id": "66842c86",
   "metadata": {},
   "outputs": [],
   "source": [
    "x2[0, 0] = 12"
   ]
  },
  {
   "cell_type": "code",
   "execution_count": 72,
   "id": "f5c230a6",
   "metadata": {},
   "outputs": [
    {
     "data": {
      "text/plain": [
       "array([[12,  5,  2,  4],\n",
       "       [ 7,  6,  8,  8],\n",
       "       [ 1,  6,  7,  7]])"
      ]
     },
     "execution_count": 72,
     "metadata": {},
     "output_type": "execute_result"
    }
   ],
   "source": [
    "x2"
   ]
  },
  {
   "cell_type": "markdown",
   "id": "1b90b6ea",
   "metadata": {},
   "source": [
    "## Срезы массивов: доступ к подмассивам\n",
    "x[начало: конец: шаг]"
   ]
  },
  {
   "cell_type": "markdown",
   "id": "f6452b13",
   "metadata": {},
   "source": [
    "### одномерные массивы"
   ]
  },
  {
   "cell_type": "code",
   "execution_count": 73,
   "id": "17790a35",
   "metadata": {},
   "outputs": [
    {
     "data": {
      "text/plain": [
       "array([0, 1, 2, 3, 4, 5, 6, 7, 8, 9])"
      ]
     },
     "execution_count": 73,
     "metadata": {},
     "output_type": "execute_result"
    }
   ],
   "source": [
    "x = np.arange(10)\n",
    "x"
   ]
  },
  {
   "cell_type": "code",
   "execution_count": 74,
   "id": "d6933f90",
   "metadata": {},
   "outputs": [
    {
     "data": {
      "text/plain": [
       "array([0, 1, 2, 3, 4])"
      ]
     },
     "execution_count": 74,
     "metadata": {},
     "output_type": "execute_result"
    }
   ],
   "source": [
    "x[:5] #первые 5 элементов"
   ]
  },
  {
   "cell_type": "code",
   "execution_count": 75,
   "id": "432e330f",
   "metadata": {},
   "outputs": [
    {
     "data": {
      "text/plain": [
       "array([5, 6, 7, 8, 9])"
      ]
     },
     "execution_count": 75,
     "metadata": {},
     "output_type": "execute_result"
    }
   ],
   "source": [
    "x[5:] # элементы после индекса 5"
   ]
  },
  {
   "cell_type": "code",
   "execution_count": 76,
   "id": "281892db",
   "metadata": {},
   "outputs": [
    {
     "data": {
      "text/plain": [
       "array([4, 5, 6])"
      ]
     },
     "execution_count": 76,
     "metadata": {},
     "output_type": "execute_result"
    }
   ],
   "source": [
    "x[4:7] # подмассив из середины"
   ]
  },
  {
   "cell_type": "markdown",
   "id": "6d4077ef",
   "metadata": {},
   "source": [
    "### многомерные подмассивы"
   ]
  },
  {
   "cell_type": "code",
   "execution_count": 77,
   "id": "0164e0b0",
   "metadata": {},
   "outputs": [
    {
     "data": {
      "text/plain": [
       "array([[12,  5,  2,  4],\n",
       "       [ 7,  6,  8,  8],\n",
       "       [ 1,  6,  7,  7]])"
      ]
     },
     "execution_count": 77,
     "metadata": {},
     "output_type": "execute_result"
    }
   ],
   "source": [
    "x2"
   ]
  },
  {
   "cell_type": "code",
   "execution_count": 78,
   "id": "01731368",
   "metadata": {},
   "outputs": [
    {
     "data": {
      "text/plain": [
       "array([[12,  5,  2],\n",
       "       [ 7,  6,  8]])"
      ]
     },
     "execution_count": 78,
     "metadata": {},
     "output_type": "execute_result"
    }
   ],
   "source": [
    "x2[:2, :3] # две строки, три столбца"
   ]
  },
  {
   "cell_type": "code",
   "execution_count": 79,
   "id": "73b60bfe",
   "metadata": {},
   "outputs": [
    {
     "data": {
      "text/plain": [
       "array([[12,  2],\n",
       "       [ 7,  8],\n",
       "       [ 1,  7]])"
      ]
     },
     "execution_count": 79,
     "metadata": {},
     "output_type": "execute_result"
    }
   ],
   "source": [
    "x2[:3, ::2] # все строки, каждый второй столбец"
   ]
  },
  {
   "cell_type": "markdown",
   "id": "258c780a",
   "metadata": {},
   "source": [
    "Измерения так же можно переворачивать"
   ]
  },
  {
   "cell_type": "code",
   "execution_count": 80,
   "id": "18eaae66",
   "metadata": {},
   "outputs": [
    {
     "data": {
      "text/plain": [
       "array([[ 7,  7,  6,  1],\n",
       "       [ 8,  8,  6,  7],\n",
       "       [ 4,  2,  5, 12]])"
      ]
     },
     "execution_count": 80,
     "metadata": {},
     "output_type": "execute_result"
    }
   ],
   "source": [
    "x2[::-1, ::-1]"
   ]
  },
  {
   "cell_type": "markdown",
   "id": "eebd4211",
   "metadata": {},
   "source": [
    "### Доступ к строкам и столбцам массива"
   ]
  },
  {
   "cell_type": "code",
   "execution_count": 81,
   "id": "a56e8c97",
   "metadata": {},
   "outputs": [
    {
     "data": {
      "text/plain": [
       "array([[12,  5,  2,  4],\n",
       "       [ 7,  6,  8,  8],\n",
       "       [ 1,  6,  7,  7]])"
      ]
     },
     "execution_count": 81,
     "metadata": {},
     "output_type": "execute_result"
    }
   ],
   "source": [
    "x2"
   ]
  },
  {
   "cell_type": "code",
   "execution_count": 82,
   "id": "ab3e8cff",
   "metadata": {},
   "outputs": [
    {
     "data": {
      "text/plain": [
       "array([12,  7,  1])"
      ]
     },
     "execution_count": 82,
     "metadata": {},
     "output_type": "execute_result"
    }
   ],
   "source": [
    "x2[:, 0]"
   ]
  },
  {
   "cell_type": "code",
   "execution_count": 83,
   "id": "8b52b43d",
   "metadata": {},
   "outputs": [
    {
     "data": {
      "text/plain": [
       "array([12,  5,  2,  4])"
      ]
     },
     "execution_count": 83,
     "metadata": {},
     "output_type": "execute_result"
    }
   ],
   "source": [
    "x2[0, :]"
   ]
  },
  {
   "cell_type": "code",
   "execution_count": 84,
   "id": "219f1f65",
   "metadata": {},
   "outputs": [
    {
     "data": {
      "text/plain": [
       "array([1, 6, 7, 7])"
      ]
     },
     "execution_count": 84,
     "metadata": {},
     "output_type": "execute_result"
    }
   ],
   "source": [
    "x2[2]"
   ]
  },
  {
   "cell_type": "code",
   "execution_count": 87,
   "id": "16d11357",
   "metadata": {},
   "outputs": [],
   "source": [
    "x2_sub = x2[:2, :2]"
   ]
  },
  {
   "cell_type": "code",
   "execution_count": 88,
   "id": "b6ea3b20",
   "metadata": {},
   "outputs": [],
   "source": [
    "x2_sub[0, 0] = 99"
   ]
  },
  {
   "cell_type": "code",
   "execution_count": 89,
   "id": "33125fca",
   "metadata": {},
   "outputs": [
    {
     "data": {
      "text/plain": [
       "array([[99,  5,  2,  4],\n",
       "       [ 7,  6,  8,  8],\n",
       "       [ 1,  6,  7,  7]])"
      ]
     },
     "execution_count": 89,
     "metadata": {},
     "output_type": "execute_result"
    }
   ],
   "source": [
    "x2"
   ]
  },
  {
   "cell_type": "markdown",
   "id": "e0e2db4e",
   "metadata": {},
   "source": [
    "## Создание копий массива"
   ]
  },
  {
   "cell_type": "code",
   "execution_count": 91,
   "id": "9e0bb959",
   "metadata": {},
   "outputs": [
    {
     "name": "stdout",
     "output_type": "stream",
     "text": [
      "[[99  5]\n",
      " [ 7  6]]\n"
     ]
    }
   ],
   "source": [
    "x2_sub_copy = x2[:2, :2].copy()\n",
    "print(x2_sub_copy)"
   ]
  },
  {
   "cell_type": "code",
   "execution_count": 92,
   "id": "dcf7e31a",
   "metadata": {},
   "outputs": [
    {
     "name": "stdout",
     "output_type": "stream",
     "text": [
      "[[42  5]\n",
      " [ 7  6]]\n"
     ]
    }
   ],
   "source": [
    "x2_sub_copy[0, 0] = 42\n",
    "print(x2_sub_copy)"
   ]
  },
  {
   "cell_type": "code",
   "execution_count": 93,
   "id": "7089218d",
   "metadata": {},
   "outputs": [
    {
     "name": "stdout",
     "output_type": "stream",
     "text": [
      "[[99  5  2  4]\n",
      " [ 7  6  8  8]\n",
      " [ 1  6  7  7]]\n"
     ]
    }
   ],
   "source": [
    "print(x2)"
   ]
  },
  {
   "cell_type": "markdown",
   "id": "f06e759a",
   "metadata": {},
   "source": [
    "## Изменение формы массива"
   ]
  },
  {
   "cell_type": "code",
   "execution_count": 96,
   "id": "4639c112",
   "metadata": {},
   "outputs": [
    {
     "name": "stdout",
     "output_type": "stream",
     "text": [
      "[[1 2 3]\n",
      " [4 5 6]\n",
      " [7 8 9]]\n"
     ]
    }
   ],
   "source": [
    "grid = np.arange(1, 10).reshape((3, 3))\n",
    "print(grid)"
   ]
  },
  {
   "cell_type": "code",
   "execution_count": 98,
   "id": "e16fde4a",
   "metadata": {},
   "outputs": [
    {
     "data": {
      "text/plain": [
       "array([[1, 2, 3]])"
      ]
     },
     "execution_count": 98,
     "metadata": {},
     "output_type": "execute_result"
    }
   ],
   "source": [
    "x = np.array([1, 2, 3])\n",
    "x.reshape((1, 3))"
   ]
  },
  {
   "cell_type": "code",
   "execution_count": 99,
   "id": "02904263",
   "metadata": {},
   "outputs": [
    {
     "data": {
      "text/plain": [
       "array([[1, 2, 3]])"
      ]
     },
     "execution_count": 99,
     "metadata": {},
     "output_type": "execute_result"
    }
   ],
   "source": [
    "x[np.newaxis, :]"
   ]
  },
  {
   "cell_type": "code",
   "execution_count": 100,
   "id": "b4aed031",
   "metadata": {},
   "outputs": [
    {
     "data": {
      "text/plain": [
       "array([[1],\n",
       "       [2],\n",
       "       [3]])"
      ]
     },
     "execution_count": 100,
     "metadata": {},
     "output_type": "execute_result"
    }
   ],
   "source": [
    "x.reshape((3, 1))"
   ]
  },
  {
   "cell_type": "code",
   "execution_count": 101,
   "id": "967aef22",
   "metadata": {},
   "outputs": [
    {
     "data": {
      "text/plain": [
       "array([[1],\n",
       "       [2],\n",
       "       [3]])"
      ]
     },
     "execution_count": 101,
     "metadata": {},
     "output_type": "execute_result"
    }
   ],
   "source": [
    "x[:, np.newaxis]"
   ]
  },
  {
   "cell_type": "markdown",
   "id": "537c6468",
   "metadata": {},
   "source": [
    "## Слияние и рзабиение массивов"
   ]
  },
  {
   "cell_type": "code",
   "execution_count": 103,
   "id": "e52bac9d",
   "metadata": {},
   "outputs": [
    {
     "data": {
      "text/plain": [
       "array([1, 2, 3, 3, 2, 1])"
      ]
     },
     "execution_count": 103,
     "metadata": {},
     "output_type": "execute_result"
    }
   ],
   "source": [
    "x = np.array([1, 2, 3])\n",
    "y = np.array([3, 2, 1])\n",
    "np.concatenate([x, y])"
   ]
  },
  {
   "cell_type": "code",
   "execution_count": 104,
   "id": "98304327",
   "metadata": {},
   "outputs": [
    {
     "name": "stdout",
     "output_type": "stream",
     "text": [
      "[ 1  2  3  3  2  1 99 99 99]\n"
     ]
    }
   ],
   "source": [
    "z = [99, 99, 99]\n",
    "print(np.concatenate([x, y, z]))"
   ]
  },
  {
   "cell_type": "code",
   "execution_count": 108,
   "id": "992c87f7",
   "metadata": {},
   "outputs": [
    {
     "data": {
      "text/plain": [
       "array([[1, 2, 3],\n",
       "       [4, 5, 6],\n",
       "       [1, 2, 3],\n",
       "       [4, 5, 6]])"
      ]
     },
     "execution_count": 108,
     "metadata": {},
     "output_type": "execute_result"
    }
   ],
   "source": [
    "grid = np.array([[1, 2, 3],\n",
    "                 [4, 5, 6]])\n",
    "# слияние по первой оси координат\n",
    "np.concatenate([grid, grid])"
   ]
  },
  {
   "cell_type": "code",
   "execution_count": 109,
   "id": "21a9ded6",
   "metadata": {},
   "outputs": [
    {
     "data": {
      "text/plain": [
       "array([[1, 2, 3, 1, 2, 3],\n",
       "       [4, 5, 6, 4, 5, 6]])"
      ]
     },
     "execution_count": 109,
     "metadata": {},
     "output_type": "execute_result"
    }
   ],
   "source": [
    "# слияние по второй оси координат (с индексом 0)\n",
    "np.concatenate([grid, grid], axis=1)"
   ]
  },
  {
   "cell_type": "markdown",
   "id": "0ee9a646",
   "metadata": {},
   "source": [
    "Для работы с массивами с различающимися измерениями удобнее и понятнее использовать функции np.vstack (вертикальное объединение) и np.hstack (горизонтальное объединение)"
   ]
  },
  {
   "cell_type": "code",
   "execution_count": 111,
   "id": "5a7c933d",
   "metadata": {},
   "outputs": [
    {
     "data": {
      "text/plain": [
       "array([[1, 2, 3],\n",
       "       [9, 8, 7],\n",
       "       [6, 5, 4]])"
      ]
     },
     "execution_count": 111,
     "metadata": {},
     "output_type": "execute_result"
    }
   ],
   "source": [
    "x = np.array([1, 2, 3])\n",
    "grid = np.array([[9, 8, 7],\n",
    "                 [6, 5, 4]])\n",
    "# объединяет массив по вертикали\n",
    "np.vstack([x, grid])"
   ]
  },
  {
   "cell_type": "code",
   "execution_count": 112,
   "id": "3eb3fd75",
   "metadata": {},
   "outputs": [
    {
     "data": {
      "text/plain": [
       "array([[ 9,  8,  7, 99],\n",
       "       [ 6,  5,  4, 99]])"
      ]
     },
     "execution_count": 112,
     "metadata": {},
     "output_type": "execute_result"
    }
   ],
   "source": [
    "# объединяет массив по горизонтали\n",
    "y = np.array([[99], \n",
    "              [99]])\n",
    "np.hstack([grid, y])"
   ]
  },
  {
   "cell_type": "markdown",
   "id": "36fbf68c",
   "metadata": {},
   "source": [
    "## Разбиение массивов"
   ]
  },
  {
   "cell_type": "code",
   "execution_count": 116,
   "id": "bdc031e4",
   "metadata": {},
   "outputs": [
    {
     "name": "stdout",
     "output_type": "stream",
     "text": [
      "[99, 99]\n",
      "[1 2 3] [99 99] [3 2 1]\n"
     ]
    }
   ],
   "source": [
    "x = [1, 2, 3, 99, 99, 3, 2, 1]\n",
    "print(x[3: 5])\n",
    "x1, x2, x3 = np.split(x, [3, 5])\n",
    "print(x1, x2, x3)"
   ]
  },
  {
   "cell_type": "code",
   "execution_count": null,
   "id": "ad3101cd",
   "metadata": {},
   "outputs": [],
   "source": []
  }
 ],
 "metadata": {
  "kernelspec": {
   "display_name": "Python 3 (ipykernel)",
   "language": "python",
   "name": "python3"
  },
  "language_info": {
   "codemirror_mode": {
    "name": "ipython",
    "version": 3
   },
   "file_extension": ".py",
   "mimetype": "text/x-python",
   "name": "python",
   "nbconvert_exporter": "python",
   "pygments_lexer": "ipython3",
   "version": "3.8.10"
  }
 },
 "nbformat": 4,
 "nbformat_minor": 5
}
