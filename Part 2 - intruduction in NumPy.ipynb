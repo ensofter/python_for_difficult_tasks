{
 "cells": [
  {
   "cell_type": "code",
   "execution_count": 34,
   "id": "6f555e06",
   "metadata": {},
   "outputs": [
    {
     "data": {
      "text/plain": [
       "'1.22.3'"
      ]
     },
     "execution_count": 34,
     "metadata": {},
     "output_type": "execute_result"
    }
   ],
   "source": [
    "import numpy\n",
    "numpy.__version__"
   ]
  },
  {
   "cell_type": "code",
   "execution_count": 4,
   "id": "b96d814b",
   "metadata": {
    "scrolled": true
   },
   "outputs": [
    {
     "name": "stdout",
     "output_type": "stream",
     "text": [
      "1.22.3\n"
     ]
    }
   ],
   "source": [
    "import numpy as np\n",
    "\n",
    "\n",
    "version = np.__version__\n",
    "print(version)"
   ]
  },
  {
   "cell_type": "code",
   "execution_count": null,
   "id": "ead3b719",
   "metadata": {},
   "outputs": [],
   "source": []
  },
  {
   "cell_type": "code",
   "execution_count": 32,
   "id": "da9b8167",
   "metadata": {},
   "outputs": [
    {
     "name": "stdout",
     "output_type": "stream",
     "text": [
      "4950\n",
      "0\n",
      "4950\n"
     ]
    }
   ],
   "source": [
    "print(result)\n",
    "result = 0\n",
    "print(result)\n",
    "\n",
    "print(result)"
   ]
  },
  {
   "cell_type": "code",
   "execution_count": 20,
   "id": "f6e878c6",
   "metadata": {},
   "outputs": [],
   "source": [
    "dd"
   ]
  },
  {
   "cell_type": "code",
   "execution_count": 27,
   "id": "64bd8075",
   "metadata": {},
   "outputs": [
    {
     "name": "stdout",
     "output_type": "stream",
     "text": [
      "5050\n"
     ]
    }
   ],
   "source": [
    "result = 0\n",
    "for i in range(1, 101):\n",
    "    result += i\n",
    "print(result)"
   ]
  },
  {
   "cell_type": "markdown",
   "id": "2c11637f",
   "metadata": {},
   "source": [
    "Каждый объект в Python это замаскированная структура языка C, которая содержит не только значение, но и другую информацию.\n",
    "\n",
    "Например при описании целочисленной  переменной на языке Python, такой как:"
   ]
  },
  {
   "cell_type": "code",
   "execution_count": 28,
   "id": "fc754afb",
   "metadata": {},
   "outputs": [],
   "source": [
    "x = 10000"
   ]
  },
  {
   "cell_type": "markdown",
   "id": "be31b6ba",
   "metadata": {},
   "source": [
    "представляет собой не просто чистое цедлое число, на самом деле это указатель на составную структуру языка C, содержащую несколько значений.\n",
    "\n",
    "Переменная состоит из 4 частей:\n",
    "- счетчик ссылое\n",
    "- тип переменной\n",
    "- размер следующих элементов данных\n",
    "- содержание значения"
   ]
  },
  {
   "cell_type": "code",
   "execution_count": 29,
   "id": "32b3737c",
   "metadata": {},
   "outputs": [
    {
     "name": "stdout",
     "output_type": "stream",
     "text": [
      "[0, 1, 2, 3, 4, 5, 6, 7, 8, 9]\n"
     ]
    }
   ],
   "source": [
    "l = list(range(10))\n",
    "print(l)"
   ]
  },
  {
   "cell_type": "code",
   "execution_count": 32,
   "id": "b8433370",
   "metadata": {},
   "outputs": [
    {
     "name": "stdout",
     "output_type": "stream",
     "text": [
      "['0', '1', '2', '3', '4', '5', '6', '7', '8', '9']\n"
     ]
    }
   ],
   "source": [
    "l2 = [str(c) for c in l]\n",
    "print(l2)"
   ]
  },
  {
   "cell_type": "markdown",
   "id": "bbfaed3e",
   "metadata": {},
   "source": [
    "В Python можно создавать массивы определенных типов для более эффективно работающего буфера. Например библиотека array позволяет создавать целочисленные массивы."
   ]
  },
  {
   "cell_type": "code",
   "execution_count": 33,
   "id": "3ac21449",
   "metadata": {},
   "outputs": [
    {
     "name": "stdout",
     "output_type": "stream",
     "text": [
      "array('i', [0, 1, 2, 3, 4, 5, 6, 7, 8, 9])\n"
     ]
    }
   ],
   "source": [
    "import array\n",
    "l = list(range(10))\n",
    "a = array.array('i', l)\n",
    "print(a)"
   ]
  },
  {
   "cell_type": "markdown",
   "id": "d40c8d7c",
   "metadata": {},
   "source": [
    "Тоже самое можно сделать при помощи библиотеки numpy, только она еще позваляет и проводить различные операции с этими масивами."
   ]
  },
  {
   "cell_type": "markdown",
   "id": "8c3e1a09",
   "metadata": {},
   "source": [
    "## Создание массива из списков языка Python"
   ]
  },
  {
   "cell_type": "code",
   "execution_count": 34,
   "id": "b8fd8f91",
   "metadata": {},
   "outputs": [
    {
     "name": "stdout",
     "output_type": "stream",
     "text": [
      "[1 2 3 4 5]\n",
      "[3.14 2.   3.   6.  ]\n"
     ]
    }
   ],
   "source": [
    "import numpy as np\n",
    "\n",
    "\n",
    "l1 = np.array([1, 2, 3, 4, 5])\n",
    "print(l1)\n",
    "\n",
    "l2 = np.array([3.14, 2, 3, 6])\n",
    "print(l2)"
   ]
  },
  {
   "cell_type": "markdown",
   "id": "78df5a33",
   "metadata": {},
   "source": [
    "Массив в numpy может быть только с одним типом данных, если их несколько то numpy пытается привести их к одному типу, как в примере 2 выше."
   ]
  },
  {
   "cell_type": "markdown",
   "id": "fcb94871",
   "metadata": {},
   "source": [
    "Ключевое слово dtype позволяет четко указать тип данных массива."
   ]
  },
  {
   "cell_type": "code",
   "execution_count": 35,
   "id": "9f0cf4a6",
   "metadata": {},
   "outputs": [
    {
     "name": "stdout",
     "output_type": "stream",
     "text": [
      "[1. 2. 3. 4.]\n"
     ]
    }
   ],
   "source": [
    "l = np.array([1, 2, 3, 4], dtype=float)\n",
    "print(l)"
   ]
  },
  {
   "cell_type": "markdown",
   "id": "8c4851fc",
   "metadata": {},
   "source": [
    "В numpy можно описывать явным образом многомерные массивы. Вложенные списки рассматриваются как строки в итоговом двумерном массиве."
   ]
  },
  {
   "cell_type": "code",
   "execution_count": 37,
   "id": "d33c8337",
   "metadata": {},
   "outputs": [
    {
     "name": "stdout",
     "output_type": "stream",
     "text": [
      "[[2 3 4]\n",
      " [4 5 6]\n",
      " [6 7 8]]\n"
     ]
    }
   ],
   "source": [
    "l = np.array([range(i, i+3) for i in [2, 4, 6]])\n",
    "print(l)"
   ]
  },
  {
   "cell_type": "markdown",
   "id": "99c7a743",
   "metadata": {},
   "source": [
    "## Создание массивов с нуля"
   ]
  },
  {
   "cell_type": "markdown",
   "id": "1b97a749",
   "metadata": {},
   "source": [
    "создание целочисленного массива длины 10 заполненного нулями"
   ]
  },
  {
   "cell_type": "code",
   "execution_count": 40,
   "id": "a5689bb1",
   "metadata": {},
   "outputs": [
    {
     "data": {
      "text/plain": [
       "array([0, 0, 0, 0, 0, 0, 0, 0, 0, 0])"
      ]
     },
     "execution_count": 40,
     "metadata": {},
     "output_type": "execute_result"
    }
   ],
   "source": [
    "np.zeros(10, dtype=int)"
   ]
  },
  {
   "cell_type": "markdown",
   "id": "1be7a47d",
   "metadata": {},
   "source": [
    "создание массива замером 5х3 значиний сс плавающей точкой заполненных единицами"
   ]
  },
  {
   "cell_type": "code",
   "execution_count": 41,
   "id": "4320e27d",
   "metadata": {},
   "outputs": [
    {
     "data": {
      "text/plain": [
       "array([[1., 1., 1., 1., 1.],\n",
       "       [1., 1., 1., 1., 1.],\n",
       "       [1., 1., 1., 1., 1.]])"
      ]
     },
     "execution_count": 41,
     "metadata": {},
     "output_type": "execute_result"
    }
   ],
   "source": [
    "np.ones((3, 5), dtype=float)"
   ]
  },
  {
   "cell_type": "markdown",
   "id": "8c25e261",
   "metadata": {},
   "source": [
    "создание массива размером 3х5, заполненный значением 3,14"
   ]
  },
  {
   "cell_type": "code",
   "execution_count": 42,
   "id": "a5887ce4",
   "metadata": {},
   "outputs": [
    {
     "data": {
      "text/plain": [
       "array([[3.14, 3.14, 3.14, 3.14, 3.14],\n",
       "       [3.14, 3.14, 3.14, 3.14, 3.14],\n",
       "       [3.14, 3.14, 3.14, 3.14, 3.14]])"
      ]
     },
     "execution_count": 42,
     "metadata": {},
     "output_type": "execute_result"
    }
   ],
   "source": [
    "np.full((3, 5), 3.14)"
   ]
  },
  {
   "cell_type": "markdown",
   "id": "5f3492d1",
   "metadata": {},
   "source": [
    "создаем массив, заполненный линейной последовательностью начинайющийся с 0 и заканчивающийся 20 с шагом 2, аналогично range"
   ]
  },
  {
   "cell_type": "code",
   "execution_count": 44,
   "id": "b7b62036",
   "metadata": {},
   "outputs": [
    {
     "data": {
      "text/plain": [
       "array([ 0,  2,  4,  6,  8, 10, 12, 14, 16, 18])"
      ]
     },
     "execution_count": 44,
     "metadata": {},
     "output_type": "execute_result"
    }
   ],
   "source": [
    "np.arange(0, 20, 2)"
   ]
  },
  {
   "cell_type": "markdown",
   "id": "8b7dd02c",
   "metadata": {},
   "source": [
    "создаем массив из пяти значений равномерно располагающихся между 0 и 1"
   ]
  },
  {
   "cell_type": "code",
   "execution_count": 46,
   "id": "55778e0c",
   "metadata": {},
   "outputs": [
    {
     "data": {
      "text/plain": [
       "array([0.  , 0.25, 0.5 , 0.75, 1.  ])"
      ]
     },
     "execution_count": 46,
     "metadata": {},
     "output_type": "execute_result"
    }
   ],
   "source": [
    "np.linspace(0, 1, 5)"
   ]
  },
  {
   "cell_type": "markdown",
   "id": "00c908f2",
   "metadata": {},
   "source": [
    "создаем массив 3х3 равномерно распределенных случайных значений от 0 до 1"
   ]
  },
  {
   "cell_type": "code",
   "execution_count": 48,
   "id": "60cb292b",
   "metadata": {},
   "outputs": [
    {
     "data": {
      "text/plain": [
       "array([[0.55121224, 0.26239305, 0.49926696],\n",
       "       [0.44634251, 0.70986143, 0.48792261],\n",
       "       [0.08128452, 0.53309072, 0.00254466]])"
      ]
     },
     "execution_count": 48,
     "metadata": {},
     "output_type": "execute_result"
    }
   ],
   "source": [
    "np.random.random((3, 3))"
   ]
  },
  {
   "cell_type": "markdown",
   "id": "0110c43f",
   "metadata": {},
   "source": [
    "создаем массив размером 3х3 нормально распределенных случайных значений с медианой - и стандартным отклонением 1"
   ]
  },
  {
   "cell_type": "code",
   "execution_count": 50,
   "id": "68a42f87",
   "metadata": {},
   "outputs": [
    {
     "data": {
      "text/plain": [
       "array([[-0.79834757,  0.93438786, -1.92975791],\n",
       "       [-0.1074372 ,  0.16379745, -0.30276634],\n",
       "       [-0.66523405,  0.0163417 , -0.42388998]])"
      ]
     },
     "execution_count": 50,
     "metadata": {},
     "output_type": "execute_result"
    }
   ],
   "source": [
    "np.random.normal(0, 1, (3, 3))"
   ]
  },
  {
   "cell_type": "markdown",
   "id": "358769e5",
   "metadata": {},
   "source": [
    "создаем массив размером 3х3 слуйных целых чисел в промежутке [0, 10)"
   ]
  },
  {
   "cell_type": "code",
   "execution_count": 52,
   "id": "65204deb",
   "metadata": {},
   "outputs": [
    {
     "data": {
      "text/plain": [
       "array([[5, 6, 1],\n",
       "       [6, 3, 9],\n",
       "       [8, 9, 2]])"
      ]
     },
     "execution_count": 52,
     "metadata": {},
     "output_type": "execute_result"
    }
   ],
   "source": [
    "np.random.randint(0, 10, (3, 3))"
   ]
  },
  {
   "cell_type": "markdown",
   "id": "284bbeef",
   "metadata": {},
   "source": [
    "создаем единичную матрицу размером 3х3"
   ]
  },
  {
   "cell_type": "code",
   "execution_count": 53,
   "id": "41ddff31",
   "metadata": {},
   "outputs": [
    {
     "data": {
      "text/plain": [
       "array([[1., 0., 0.],\n",
       "       [0., 1., 0.],\n",
       "       [0., 0., 1.]])"
      ]
     },
     "execution_count": 53,
     "metadata": {},
     "output_type": "execute_result"
    }
   ],
   "source": [
    "np.eye(3)"
   ]
  },
  {
   "cell_type": "markdown",
   "id": "cc998b1e",
   "metadata": {},
   "source": [
    "создаем инициализированный массив из трех целочисленных значений. Значениями будут произвольные, случайно оказавшиеся в соответствующих ячейках памяти данные"
   ]
  },
  {
   "cell_type": "code",
   "execution_count": 54,
   "id": "fef21e6d",
   "metadata": {},
   "outputs": [
    {
     "data": {
      "text/plain": [
       "array([1., 1., 1.])"
      ]
     },
     "execution_count": 54,
     "metadata": {},
     "output_type": "execute_result"
    }
   ],
   "source": [
    "np.empty(3)"
   ]
  },
  {
   "cell_type": "markdown",
   "id": "b39f57be",
   "metadata": {},
   "source": [
    "## Атрибуты массивов библиотеки NumPy"
   ]
  },
  {
   "cell_type": "code",
   "execution_count": 58,
   "id": "e9b4fa23",
   "metadata": {},
   "outputs": [
    {
     "name": "stdout",
     "output_type": "stream",
     "text": [
      "x3 ndim:  3\n",
      "x3 shpae:  (3, 4, 5)\n",
      "x3 size:  60\n"
     ]
    }
   ],
   "source": [
    "import numpy as np\n",
    "\n",
    "\n",
    "np.random.seed(0) #начальное значение для целей воспроизводимости\n",
    "\n",
    "x1 = np.random.randint(10, size=6) #одномерный массив\n",
    "x2 = np.random.randint(10, size=(3, 4)) #двумерный массив\n",
    "x3 = np.random.randint(10, size=(3, 4, 5)) #трехмерный массив\n",
    "\n",
    "# ndim - размерность\n",
    "# shape - размер каждого измерения\n",
    "# size - общий размер массива\n",
    "\n",
    "print(\"x3 ndim: \", x3.ndim)\n",
    "print(\"x3 shpae: \", x3.shape)\n",
    "print(\"x3 size: \", x3.size)"
   ]
  },
  {
   "cell_type": "code",
   "execution_count": 60,
   "id": "d7917985",
   "metadata": {},
   "outputs": [
    {
     "name": "stdout",
     "output_type": "stream",
     "text": [
      "dtype:  int64\n"
     ]
    }
   ],
   "source": [
    "# dtype - еще один атрибут типа данных массива\n",
    "print(\"dtype: \", x3.dtype)"
   ]
  },
  {
   "cell_type": "markdown",
   "id": "0882becb",
   "metadata": {},
   "source": [
    "## Индексация массива: доступ к отдельным элементам"
   ]
  },
  {
   "cell_type": "code",
   "execution_count": 61,
   "id": "49e56e85",
   "metadata": {},
   "outputs": [
    {
     "data": {
      "text/plain": [
       "array([5, 0, 3, 3, 7, 9])"
      ]
     },
     "execution_count": 61,
     "metadata": {},
     "output_type": "execute_result"
    }
   ],
   "source": [
    "x1"
   ]
  },
  {
   "cell_type": "code",
   "execution_count": 62,
   "id": "1e79d907",
   "metadata": {},
   "outputs": [
    {
     "data": {
      "text/plain": [
       "5"
      ]
     },
     "execution_count": 62,
     "metadata": {},
     "output_type": "execute_result"
    }
   ],
   "source": [
    "x1[0]"
   ]
  },
  {
   "cell_type": "code",
   "execution_count": 63,
   "id": "2df1549a",
   "metadata": {},
   "outputs": [
    {
     "data": {
      "text/plain": [
       "7"
      ]
     },
     "execution_count": 63,
     "metadata": {},
     "output_type": "execute_result"
    }
   ],
   "source": [
    "x1[4]"
   ]
  },
  {
   "cell_type": "code",
   "execution_count": 64,
   "id": "4db40bf1",
   "metadata": {},
   "outputs": [
    {
     "data": {
      "text/plain": [
       "9"
      ]
     },
     "execution_count": 64,
     "metadata": {},
     "output_type": "execute_result"
    }
   ],
   "source": [
    "x1[-1]"
   ]
  },
  {
   "cell_type": "code",
   "execution_count": 65,
   "id": "c3aa1e3c",
   "metadata": {},
   "outputs": [
    {
     "data": {
      "text/plain": [
       "7"
      ]
     },
     "execution_count": 65,
     "metadata": {},
     "output_type": "execute_result"
    }
   ],
   "source": [
    "x1[-2]"
   ]
  },
  {
   "cell_type": "markdown",
   "id": "82fcaf71",
   "metadata": {},
   "source": [
    "Обращение к элементам в многомерном массиве осуществляется через разделенный запятыми кортеж индексов."
   ]
  },
  {
   "cell_type": "code",
   "execution_count": 66,
   "id": "d2acab79",
   "metadata": {},
   "outputs": [
    {
     "data": {
      "text/plain": [
       "array([[3, 5, 2, 4],\n",
       "       [7, 6, 8, 8],\n",
       "       [1, 6, 7, 7]])"
      ]
     },
     "execution_count": 66,
     "metadata": {},
     "output_type": "execute_result"
    }
   ],
   "source": [
    "x2"
   ]
  },
  {
   "cell_type": "code",
   "execution_count": 68,
   "id": "52407cd7",
   "metadata": {},
   "outputs": [
    {
     "data": {
      "text/plain": [
       "3"
      ]
     },
     "execution_count": 68,
     "metadata": {},
     "output_type": "execute_result"
    }
   ],
   "source": [
    "x2[0, 0]"
   ]
  },
  {
   "cell_type": "code",
   "execution_count": 69,
   "id": "0fcb8b6f",
   "metadata": {},
   "outputs": [
    {
     "data": {
      "text/plain": [
       "1"
      ]
     },
     "execution_count": 69,
     "metadata": {},
     "output_type": "execute_result"
    }
   ],
   "source": [
    "x2[2, 0]"
   ]
  },
  {
   "cell_type": "code",
   "execution_count": 70,
   "id": "0b50b040",
   "metadata": {},
   "outputs": [
    {
     "data": {
      "text/plain": [
       "6"
      ]
     },
     "execution_count": 70,
     "metadata": {},
     "output_type": "execute_result"
    }
   ],
   "source": [
    "x2[2, 1]"
   ]
  },
  {
   "cell_type": "code",
   "execution_count": 71,
   "id": "701f1ce6",
   "metadata": {},
   "outputs": [],
   "source": [
    "x2[0, 0] = 12"
   ]
  },
  {
   "cell_type": "code",
   "execution_count": 72,
   "id": "2366d432",
   "metadata": {},
   "outputs": [
    {
     "data": {
      "text/plain": [
       "array([[12,  5,  2,  4],\n",
       "       [ 7,  6,  8,  8],\n",
       "       [ 1,  6,  7,  7]])"
      ]
     },
     "execution_count": 72,
     "metadata": {},
     "output_type": "execute_result"
    }
   ],
   "source": [
    "x2"
   ]
  },
  {
   "cell_type": "markdown",
   "id": "0319d38a",
   "metadata": {},
   "source": [
    "## Срезы массивов: доступ к подмассивам\n",
    "x[начало: конец: шаг]"
   ]
  },
  {
   "cell_type": "markdown",
   "id": "1c16697f",
   "metadata": {},
   "source": [
    "### одномерные массивы"
   ]
  },
  {
   "cell_type": "code",
   "execution_count": 73,
   "id": "23af2880",
   "metadata": {},
   "outputs": [
    {
     "data": {
      "text/plain": [
       "array([0, 1, 2, 3, 4, 5, 6, 7, 8, 9])"
      ]
     },
     "execution_count": 73,
     "metadata": {},
     "output_type": "execute_result"
    }
   ],
   "source": [
    "x = np.arange(10)\n",
    "x"
   ]
  },
  {
   "cell_type": "code",
   "execution_count": 74,
   "id": "a41cbfd8",
   "metadata": {},
   "outputs": [
    {
     "data": {
      "text/plain": [
       "array([0, 1, 2, 3, 4])"
      ]
     },
     "execution_count": 74,
     "metadata": {},
     "output_type": "execute_result"
    }
   ],
   "source": [
    "x[:5] #первые 5 элементов"
   ]
  },
  {
   "cell_type": "code",
   "execution_count": 75,
   "id": "18110b54",
   "metadata": {},
   "outputs": [
    {
     "data": {
      "text/plain": [
       "array([5, 6, 7, 8, 9])"
      ]
     },
     "execution_count": 75,
     "metadata": {},
     "output_type": "execute_result"
    }
   ],
   "source": [
    "x[5:] # элементы после индекса 5"
   ]
  },
  {
   "cell_type": "code",
   "execution_count": 76,
   "id": "c0c21948",
   "metadata": {},
   "outputs": [
    {
     "data": {
      "text/plain": [
       "array([4, 5, 6])"
      ]
     },
     "execution_count": 76,
     "metadata": {},
     "output_type": "execute_result"
    }
   ],
   "source": [
    "x[4:7] # подмассив из середины"
   ]
  },
  {
   "cell_type": "markdown",
   "id": "186b27f4",
   "metadata": {},
   "source": [
    "### многомерные подмассивы"
   ]
  },
  {
   "cell_type": "code",
   "execution_count": 77,
   "id": "b0c66d36",
   "metadata": {},
   "outputs": [
    {
     "data": {
      "text/plain": [
       "array([[12,  5,  2,  4],\n",
       "       [ 7,  6,  8,  8],\n",
       "       [ 1,  6,  7,  7]])"
      ]
     },
     "execution_count": 77,
     "metadata": {},
     "output_type": "execute_result"
    }
   ],
   "source": [
    "x2"
   ]
  },
  {
   "cell_type": "code",
   "execution_count": 78,
   "id": "81a74682",
   "metadata": {},
   "outputs": [
    {
     "data": {
      "text/plain": [
       "array([[12,  5,  2],\n",
       "       [ 7,  6,  8]])"
      ]
     },
     "execution_count": 78,
     "metadata": {},
     "output_type": "execute_result"
    }
   ],
   "source": [
    "x2[:2, :3] # две строки, три столбца"
   ]
  },
  {
   "cell_type": "code",
   "execution_count": 79,
   "id": "3c67b872",
   "metadata": {},
   "outputs": [
    {
     "data": {
      "text/plain": [
       "array([[12,  2],\n",
       "       [ 7,  8],\n",
       "       [ 1,  7]])"
      ]
     },
     "execution_count": 79,
     "metadata": {},
     "output_type": "execute_result"
    }
   ],
   "source": [
    "x2[:3, ::2] # все строки, каждый второй столбец"
   ]
  },
  {
   "cell_type": "markdown",
   "id": "4cd019fe",
   "metadata": {},
   "source": [
    "Измерения так же можно переворачивать"
   ]
  },
  {
   "cell_type": "code",
   "execution_count": 80,
   "id": "512f0818",
   "metadata": {},
   "outputs": [
    {
     "data": {
      "text/plain": [
       "array([[ 7,  7,  6,  1],\n",
       "       [ 8,  8,  6,  7],\n",
       "       [ 4,  2,  5, 12]])"
      ]
     },
     "execution_count": 80,
     "metadata": {},
     "output_type": "execute_result"
    }
   ],
   "source": [
    "x2[::-1, ::-1]"
   ]
  },
  {
   "cell_type": "markdown",
   "id": "c61292ff",
   "metadata": {},
   "source": [
    "### Доступ к строкам и столбцам массива"
   ]
  },
  {
   "cell_type": "code",
   "execution_count": 81,
   "id": "20f898af",
   "metadata": {},
   "outputs": [
    {
     "data": {
      "text/plain": [
       "array([[12,  5,  2,  4],\n",
       "       [ 7,  6,  8,  8],\n",
       "       [ 1,  6,  7,  7]])"
      ]
     },
     "execution_count": 81,
     "metadata": {},
     "output_type": "execute_result"
    }
   ],
   "source": [
    "x2"
   ]
  },
  {
   "cell_type": "code",
   "execution_count": 82,
   "id": "b14f8c5a",
   "metadata": {},
   "outputs": [
    {
     "data": {
      "text/plain": [
       "array([12,  7,  1])"
      ]
     },
     "execution_count": 82,
     "metadata": {},
     "output_type": "execute_result"
    }
   ],
   "source": [
    "x2[:, 0]"
   ]
  },
  {
   "cell_type": "code",
   "execution_count": 83,
   "id": "427613b3",
   "metadata": {},
   "outputs": [
    {
     "data": {
      "text/plain": [
       "array([12,  5,  2,  4])"
      ]
     },
     "execution_count": 83,
     "metadata": {},
     "output_type": "execute_result"
    }
   ],
   "source": [
    "x2[0, :]"
   ]
  },
  {
   "cell_type": "code",
   "execution_count": 84,
   "id": "a5ff0772",
   "metadata": {},
   "outputs": [
    {
     "data": {
      "text/plain": [
       "array([1, 6, 7, 7])"
      ]
     },
     "execution_count": 84,
     "metadata": {},
     "output_type": "execute_result"
    }
   ],
   "source": [
    "x2[2]"
   ]
  },
  {
   "cell_type": "code",
   "execution_count": 87,
   "id": "567371d0",
   "metadata": {},
   "outputs": [],
   "source": [
    "x2_sub = x2[:2, :2]"
   ]
  },
  {
   "cell_type": "code",
   "execution_count": 88,
   "id": "6b9d0671",
   "metadata": {},
   "outputs": [],
   "source": [
    "x2_sub[0, 0] = 99"
   ]
  },
  {
   "cell_type": "code",
   "execution_count": 89,
   "id": "801bedd8",
   "metadata": {},
   "outputs": [
    {
     "data": {
      "text/plain": [
       "array([[99,  5,  2,  4],\n",
       "       [ 7,  6,  8,  8],\n",
       "       [ 1,  6,  7,  7]])"
      ]
     },
     "execution_count": 89,
     "metadata": {},
     "output_type": "execute_result"
    }
   ],
   "source": [
    "x2"
   ]
  },
  {
   "cell_type": "markdown",
   "id": "faae2f4a",
   "metadata": {},
   "source": [
    "## Создание копий массива"
   ]
  },
  {
   "cell_type": "code",
   "execution_count": 91,
   "id": "1e9e8cb7",
   "metadata": {},
   "outputs": [
    {
     "name": "stdout",
     "output_type": "stream",
     "text": [
      "[[99  5]\n",
      " [ 7  6]]\n"
     ]
    }
   ],
   "source": [
    "x2_sub_copy = x2[:2, :2].copy()\n",
    "print(x2_sub_copy)"
   ]
  },
  {
   "cell_type": "code",
   "execution_count": 92,
   "id": "3e66d045",
   "metadata": {},
   "outputs": [
    {
     "name": "stdout",
     "output_type": "stream",
     "text": [
      "[[42  5]\n",
      " [ 7  6]]\n"
     ]
    }
   ],
   "source": [
    "x2_sub_copy[0, 0] = 42\n",
    "print(x2_sub_copy)"
   ]
  },
  {
   "cell_type": "code",
   "execution_count": 93,
   "id": "e274123b",
   "metadata": {},
   "outputs": [
    {
     "name": "stdout",
     "output_type": "stream",
     "text": [
      "[[99  5  2  4]\n",
      " [ 7  6  8  8]\n",
      " [ 1  6  7  7]]\n"
     ]
    }
   ],
   "source": [
    "print(x2)"
   ]
  },
  {
   "cell_type": "markdown",
   "id": "67b8e25a",
   "metadata": {},
   "source": [
    "## Изменение формы массива"
   ]
  },
  {
   "cell_type": "code",
   "execution_count": 96,
   "id": "cc15b27d",
   "metadata": {},
   "outputs": [
    {
     "name": "stdout",
     "output_type": "stream",
     "text": [
      "[[1 2 3]\n",
      " [4 5 6]\n",
      " [7 8 9]]\n"
     ]
    }
   ],
   "source": [
    "grid = np.arange(1, 10).reshape((3, 3))\n",
    "print(grid)"
   ]
  },
  {
   "cell_type": "code",
   "execution_count": 98,
   "id": "e0278e35",
   "metadata": {},
   "outputs": [
    {
     "data": {
      "text/plain": [
       "array([[1, 2, 3]])"
      ]
     },
     "execution_count": 98,
     "metadata": {},
     "output_type": "execute_result"
    }
   ],
   "source": [
    "x = np.array([1, 2, 3])\n",
    "x.reshape((1, 3))"
   ]
  },
  {
   "cell_type": "code",
   "execution_count": 99,
   "id": "ef55e20a",
   "metadata": {},
   "outputs": [
    {
     "data": {
      "text/plain": [
       "array([[1, 2, 3]])"
      ]
     },
     "execution_count": 99,
     "metadata": {},
     "output_type": "execute_result"
    }
   ],
   "source": [
    "x[np.newaxis, :]"
   ]
  },
  {
   "cell_type": "code",
   "execution_count": 100,
   "id": "94244d76",
   "metadata": {},
   "outputs": [
    {
     "data": {
      "text/plain": [
       "array([[1],\n",
       "       [2],\n",
       "       [3]])"
      ]
     },
     "execution_count": 100,
     "metadata": {},
     "output_type": "execute_result"
    }
   ],
   "source": [
    "x.reshape((3, 1))"
   ]
  },
  {
   "cell_type": "code",
   "execution_count": 101,
   "id": "72918fe2",
   "metadata": {},
   "outputs": [
    {
     "data": {
      "text/plain": [
       "array([[1],\n",
       "       [2],\n",
       "       [3]])"
      ]
     },
     "execution_count": 101,
     "metadata": {},
     "output_type": "execute_result"
    }
   ],
   "source": [
    "x[:, np.newaxis]"
   ]
  },
  {
   "cell_type": "markdown",
   "id": "57df4634",
   "metadata": {},
   "source": [
    "## Слияние и рзабиение массивов"
   ]
  },
  {
   "cell_type": "code",
   "execution_count": 103,
   "id": "32d0378c",
   "metadata": {},
   "outputs": [
    {
     "data": {
      "text/plain": [
       "array([1, 2, 3, 3, 2, 1])"
      ]
     },
     "execution_count": 103,
     "metadata": {},
     "output_type": "execute_result"
    }
   ],
   "source": [
    "x = np.array([1, 2, 3])\n",
    "y = np.array([3, 2, 1])\n",
    "np.concatenate([x, y])"
   ]
  },
  {
   "cell_type": "code",
   "execution_count": 104,
   "id": "77e13dd1",
   "metadata": {},
   "outputs": [
    {
     "name": "stdout",
     "output_type": "stream",
     "text": [
      "[ 1  2  3  3  2  1 99 99 99]\n"
     ]
    }
   ],
   "source": [
    "z = [99, 99, 99]\n",
    "print(np.concatenate([x, y, z]))"
   ]
  },
  {
   "cell_type": "code",
   "execution_count": 108,
   "id": "0cded58a",
   "metadata": {},
   "outputs": [
    {
     "data": {
      "text/plain": [
       "array([[1, 2, 3],\n",
       "       [4, 5, 6],\n",
       "       [1, 2, 3],\n",
       "       [4, 5, 6]])"
      ]
     },
     "execution_count": 108,
     "metadata": {},
     "output_type": "execute_result"
    }
   ],
   "source": [
    "grid = np.array([[1, 2, 3],\n",
    "                 [4, 5, 6]])\n",
    "# слияние по первой оси координат\n",
    "np.concatenate([grid, grid])"
   ]
  },
  {
   "cell_type": "code",
   "execution_count": 109,
   "id": "57e1cc63",
   "metadata": {},
   "outputs": [
    {
     "data": {
      "text/plain": [
       "array([[1, 2, 3, 1, 2, 3],\n",
       "       [4, 5, 6, 4, 5, 6]])"
      ]
     },
     "execution_count": 109,
     "metadata": {},
     "output_type": "execute_result"
    }
   ],
   "source": [
    "# слияние по второй оси координат (с индексом 0)\n",
    "np.concatenate([grid, grid], axis=1)"
   ]
  },
  {
   "cell_type": "markdown",
   "id": "3414e1ce",
   "metadata": {},
   "source": [
    "Для работы с массивами с различающимися измерениями удобнее и понятнее использовать функции np.vstack (вертикальное объединение) и np.hstack (горизонтальное объединение)"
   ]
  },
  {
   "cell_type": "code",
   "execution_count": 111,
   "id": "fbb1ab17",
   "metadata": {},
   "outputs": [
    {
     "data": {
      "text/plain": [
       "array([[1, 2, 3],\n",
       "       [9, 8, 7],\n",
       "       [6, 5, 4]])"
      ]
     },
     "execution_count": 111,
     "metadata": {},
     "output_type": "execute_result"
    }
   ],
   "source": [
    "x = np.array([1, 2, 3])\n",
    "grid = np.array([[9, 8, 7],\n",
    "                 [6, 5, 4]])\n",
    "# объединяет массив по вертикали\n",
    "np.vstack([x, grid])"
   ]
  },
  {
   "cell_type": "code",
   "execution_count": 112,
   "id": "90385da3",
   "metadata": {},
   "outputs": [
    {
     "data": {
      "text/plain": [
       "array([[ 9,  8,  7, 99],\n",
       "       [ 6,  5,  4, 99]])"
      ]
     },
     "execution_count": 112,
     "metadata": {},
     "output_type": "execute_result"
    }
   ],
   "source": [
    "# объединяет массив по горизонтали\n",
    "y = np.array([[99], \n",
    "              [99]])\n",
    "np.hstack([grid, y])"
   ]
  },
  {
   "cell_type": "markdown",
   "id": "94f15a7f",
   "metadata": {},
   "source": [
    "## Разбиение массивов"
   ]
  },
  {
   "cell_type": "code",
   "execution_count": 122,
   "id": "89e69679",
   "metadata": {
    "scrolled": true
   },
   "outputs": [
    {
     "name": "stdout",
     "output_type": "stream",
     "text": [
      "[99, 99]\n",
      "[1 2 3] [99 99] [3 2 1]\n"
     ]
    }
   ],
   "source": [
    "x = [1, 2, 3, 99, 99, 3, 2, 1]\n",
    "print(x[3: 5])\n",
    "x1, x2, x3 = np.split(x, [3, 5])\n",
    "print(x1, x2, x3)"
   ]
  },
  {
   "cell_type": "markdown",
   "id": "d1e6441f",
   "metadata": {},
   "source": [
    "N точек раздела это N+1 подмассив"
   ]
  },
  {
   "cell_type": "code",
   "execution_count": 124,
   "id": "04ae0ad5",
   "metadata": {},
   "outputs": [
    {
     "data": {
      "text/plain": [
       "array([[ 0,  1,  2,  3],\n",
       "       [ 4,  5,  6,  7],\n",
       "       [ 8,  9, 10, 11],\n",
       "       [12, 13, 14, 15]])"
      ]
     },
     "execution_count": 124,
     "metadata": {},
     "output_type": "execute_result"
    }
   ],
   "source": [
    "grid = np.arange(16).reshape((4, 4))\n",
    "grid"
   ]
  },
  {
   "cell_type": "code",
   "execution_count": 125,
   "id": "9469afe9",
   "metadata": {},
   "outputs": [
    {
     "name": "stdout",
     "output_type": "stream",
     "text": [
      "[[0 1 2 3]\n",
      " [4 5 6 7]]\n",
      "[[ 8  9 10 11]\n",
      " [12 13 14 15]]\n"
     ]
    }
   ],
   "source": [
    "upper, lower = np.vsplit(grid, [2])\n",
    "print(upper)\n",
    "print(lower)"
   ]
  },
  {
   "cell_type": "code",
   "execution_count": 126,
   "id": "3cd35afa",
   "metadata": {},
   "outputs": [
    {
     "name": "stdout",
     "output_type": "stream",
     "text": [
      "[[ 0  1]\n",
      " [ 4  5]\n",
      " [ 8  9]\n",
      " [12 13]]\n",
      "[[ 2  3]\n",
      " [ 6  7]\n",
      " [10 11]\n",
      " [14 15]]\n"
     ]
    }
   ],
   "source": [
    "left, right = np.hsplit(grid, [2])\n",
    "print(left)\n",
    "print(right)"
   ]
  },
  {
   "cell_type": "code",
   "execution_count": 136,
   "id": "4bb7e475",
   "metadata": {},
   "outputs": [
    {
     "name": "stdout",
     "output_type": "stream",
     "text": [
      "3\n",
      "4\n",
      "[[ 0  1  2  3]\n",
      " [ 4  5  6  7]\n",
      " [ 8  9 10 11]]\n",
      "[0 1 2 3]\n",
      "[4 5 6 7]\n",
      "[ 8  9 10 11]\n",
      "[0 4 8]\n",
      "[1 5 9]\n",
      "[ 2  6 10]\n",
      "[ 3  7 11]\n"
     ]
    }
   ],
   "source": [
    "grid = np.arange(12).reshape((3, 4))\n",
    "print(grid.shape[0])\n",
    "print(grid.shape[1])\n",
    "\n",
    "print(grid)\n",
    "\n",
    "for row in range(grid.shape[0]):\n",
    "    print(grid[row, :])\n",
    "    \n",
    "for col in range(grid.shape[1]):\n",
    "    print(grid[:, col])"
   ]
  },
  {
   "cell_type": "markdown",
   "id": "da2441bf",
   "metadata": {},
   "source": [
    "# Выполнение вычислений над массивами библиотеки NumPy: универсальные функции"
   ]
  },
  {
   "cell_type": "code",
   "execution_count": 142,
   "id": "9fe7a6ed",
   "metadata": {},
   "outputs": [
    {
     "name": "stdout",
     "output_type": "stream",
     "text": [
      "[6 1 4 4 8]\n"
     ]
    },
    {
     "data": {
      "text/plain": [
       "array([0.16666667, 1.        , 0.25      , 0.25      , 0.125     ])"
      ]
     },
     "execution_count": 142,
     "metadata": {},
     "output_type": "execute_result"
    }
   ],
   "source": [
    "import numpy as np\n",
    "np.random.seed(0)\n",
    "\n",
    "def compute_reciprocals(value):\n",
    "    output = np.empty(len(values))\n",
    "    for i in range(len(values)):\n",
    "        output[i] = 1.0 / values[i]\n",
    "    return output\n",
    "\n",
    "values = np.random.randint(1, 10, size=5)\n",
    "print(values)\n",
    "compute_reciprocals(values)"
   ]
  },
  {
   "cell_type": "code",
   "execution_count": 144,
   "id": "c6c8d79e",
   "metadata": {},
   "outputs": [
    {
     "name": "stdout",
     "output_type": "stream",
     "text": [
      "9.1 µs ± 68.1 ns per loop (mean ± std. dev. of 7 runs, 100,000 loops each)\n"
     ]
    }
   ],
   "source": [
    "big_array = np.random.randint(1, 100, size=1000000)\n",
    "%timeit compute_reciprocals(big_array)"
   ]
  },
  {
   "cell_type": "markdown",
   "id": "af133286",
   "metadata": {},
   "source": [
    "## Введение в универсальные функции"
   ]
  },
  {
   "cell_type": "code",
   "execution_count": 145,
   "id": "2a0cc5db",
   "metadata": {},
   "outputs": [
    {
     "name": "stdout",
     "output_type": "stream",
     "text": [
      "[0.16666667 1.         0.25       0.25       0.125     ]\n",
      "[0.16666667 1.         0.25       0.25       0.125     ]\n"
     ]
    }
   ],
   "source": [
    "print(compute_reciprocals(values))\n",
    "print(1.0/values)"
   ]
  },
  {
   "cell_type": "code",
   "execution_count": 147,
   "id": "3fa48bab",
   "metadata": {},
   "outputs": [
    {
     "data": {
      "text/plain": [
       "array([0.        , 0.5       , 0.66666667, 0.75      , 0.8       ])"
      ]
     },
     "execution_count": 147,
     "metadata": {},
     "output_type": "execute_result"
    }
   ],
   "source": [
    "np.arange(5)/np.arange(1, 6)"
   ]
  },
  {
   "cell_type": "code",
   "execution_count": 148,
   "id": "0b6c6b2f",
   "metadata": {},
   "outputs": [
    {
     "data": {
      "text/plain": [
       "array([[ 0,  1,  4],\n",
       "       [ 9, 16, 25],\n",
       "       [36, 49, 64]])"
      ]
     },
     "execution_count": 148,
     "metadata": {},
     "output_type": "execute_result"
    }
   ],
   "source": [
    "x = np.arange(9).reshape((3, 3))\n",
    "x ** 2"
   ]
  },
  {
   "cell_type": "code",
   "execution_count": 150,
   "id": "a7679345",
   "metadata": {},
   "outputs": [
    {
     "name": "stdout",
     "output_type": "stream",
     "text": [
      "[ 0. 10. 20. 30. 40.]\n"
     ]
    }
   ],
   "source": [
    "x = np.arange(5)\n",
    "y = np.empty(5)\n",
    "np.multiply(x, 10, out=y)\n",
    "print(y)"
   ]
  },
  {
   "cell_type": "code",
   "execution_count": 152,
   "id": "c03a74be",
   "metadata": {},
   "outputs": [
    {
     "name": "stdout",
     "output_type": "stream",
     "text": [
      "[ 1.  0.  2.  0.  4.  0.  8.  0. 16.  0.]\n"
     ]
    }
   ],
   "source": [
    "y = np.zeros(10)\n",
    "np.power(2, x, out=y[::2])\n",
    "print(y)"
   ]
  },
  {
   "cell_type": "markdown",
   "id": "b3c37900",
   "metadata": {},
   "source": [
    "## Сводные покзатели"
   ]
  },
  {
   "cell_type": "code",
   "execution_count": 157,
   "id": "5134889e",
   "metadata": {},
   "outputs": [
    {
     "data": {
      "text/plain": [
       "15"
      ]
     },
     "execution_count": 157,
     "metadata": {},
     "output_type": "execute_result"
    }
   ],
   "source": [
    "x = np.arange(1, 6)\n",
    "# сумма всех элементова массива\n",
    "np.add.reduce(x)"
   ]
  },
  {
   "cell_type": "code",
   "execution_count": 159,
   "id": "018c8edd",
   "metadata": {},
   "outputs": [
    {
     "data": {
      "text/plain": [
       "120"
      ]
     },
     "execution_count": 159,
     "metadata": {},
     "output_type": "execute_result"
    }
   ],
   "source": [
    "# произведение всех элементов массива\n",
    "np.multiply.reduce(x)"
   ]
  },
  {
   "cell_type": "code",
   "execution_count": 161,
   "id": "548c9032",
   "metadata": {},
   "outputs": [
    {
     "data": {
      "text/plain": [
       "array([ 1,  3,  6, 10, 15])"
      ]
     },
     "execution_count": 161,
     "metadata": {},
     "output_type": "execute_result"
    }
   ],
   "source": [
    "# для сохранения вычислений можно использовать accumulate\n",
    "np.add.accumulate(x)"
   ]
  },
  {
   "cell_type": "code",
   "execution_count": 162,
   "id": "aecc0f18",
   "metadata": {},
   "outputs": [
    {
     "data": {
      "text/plain": [
       "array([  1,   2,   6,  24, 120])"
      ]
     },
     "execution_count": 162,
     "metadata": {},
     "output_type": "execute_result"
    }
   ],
   "source": [
    "np.multiply.accumulate(x)"
   ]
  },
  {
   "cell_type": "markdown",
   "id": "49f9e8a8",
   "metadata": {},
   "source": [
    "## Векторное произведение"
   ]
  },
  {
   "cell_type": "code",
   "execution_count": 165,
   "id": "40d60bdc",
   "metadata": {},
   "outputs": [
    {
     "data": {
      "text/plain": [
       "array([[ 1,  2,  3,  4,  5,  6,  7,  8,  9],\n",
       "       [ 2,  4,  6,  8, 10, 12, 14, 16, 18],\n",
       "       [ 3,  6,  9, 12, 15, 18, 21, 24, 27],\n",
       "       [ 4,  8, 12, 16, 20, 24, 28, 32, 36],\n",
       "       [ 5, 10, 15, 20, 25, 30, 35, 40, 45],\n",
       "       [ 6, 12, 18, 24, 30, 36, 42, 48, 54],\n",
       "       [ 7, 14, 21, 28, 35, 42, 49, 56, 63],\n",
       "       [ 8, 16, 24, 32, 40, 48, 56, 64, 72],\n",
       "       [ 9, 18, 27, 36, 45, 54, 63, 72, 81]])"
      ]
     },
     "execution_count": 165,
     "metadata": {},
     "output_type": "execute_result"
    }
   ],
   "source": [
    "# таблица умножения\n",
    "x = np.arange(1, 10)\n",
    "np.multiply.outer(x, x)"
   ]
  },
  {
   "cell_type": "markdown",
   "id": "3ced3cfd",
   "metadata": {},
   "source": [
    "# Агрегирование: минимум, максимум и все, что посередине"
   ]
  },
  {
   "cell_type": "markdown",
   "id": "97843108",
   "metadata": {},
   "source": [
    "## Суммирование значений из массива"
   ]
  },
  {
   "cell_type": "code",
   "execution_count": 167,
   "id": "b1064f4d",
   "metadata": {
    "scrolled": true
   },
   "outputs": [
    {
     "data": {
      "text/plain": [
       "50.617288930835684"
      ]
     },
     "execution_count": 167,
     "metadata": {},
     "output_type": "execute_result"
    }
   ],
   "source": [
    "import numpy as np\n",
    "\n",
    "l = np.random.random(100)\n",
    "sum(l)"
   ]
  },
  {
   "cell_type": "code",
   "execution_count": 168,
   "id": "27347cb5",
   "metadata": {},
   "outputs": [
    {
     "data": {
      "text/plain": [
       "50.6172889308357"
      ]
     },
     "execution_count": 168,
     "metadata": {},
     "output_type": "execute_result"
    }
   ],
   "source": [
    "np.sum(l)"
   ]
  },
  {
   "cell_type": "code",
   "execution_count": 169,
   "id": "b85bdd0b",
   "metadata": {},
   "outputs": [
    {
     "name": "stdout",
     "output_type": "stream",
     "text": [
      "52.6 ms ± 145 µs per loop (mean ± std. dev. of 7 runs, 10 loops each)\n",
      "300 µs ± 2.69 µs per loop (mean ± std. dev. of 7 runs, 1,000 loops each)\n"
     ]
    }
   ],
   "source": [
    "big_array = np.random.rand(1000000)\n",
    "%timeit sum(big_array)\n",
    "%timeit np.sum(big_array)"
   ]
  },
  {
   "cell_type": "markdown",
   "id": "1afa5a78",
   "metadata": {},
   "source": [
    "## Минимум и максимум"
   ]
  },
  {
   "cell_type": "code",
   "execution_count": 170,
   "id": "bede40c1",
   "metadata": {},
   "outputs": [
    {
     "data": {
      "text/plain": [
       "(6.036102300210899e-07, 0.9999969605678884)"
      ]
     },
     "execution_count": 170,
     "metadata": {},
     "output_type": "execute_result"
    }
   ],
   "source": [
    "min(big_array), max(big_array)"
   ]
  },
  {
   "cell_type": "code",
   "execution_count": 171,
   "id": "8d4e6250",
   "metadata": {},
   "outputs": [
    {
     "data": {
      "text/plain": [
       "(6.036102300210899e-07, 0.9999969605678884)"
      ]
     },
     "execution_count": 171,
     "metadata": {},
     "output_type": "execute_result"
    }
   ],
   "source": [
    "np.min(big_array), np.max(big_array)"
   ]
  },
  {
   "cell_type": "code",
   "execution_count": 173,
   "id": "faeda357",
   "metadata": {},
   "outputs": [
    {
     "name": "stdout",
     "output_type": "stream",
     "text": [
      "38.5 ms ± 177 µs per loop (mean ± std. dev. of 7 runs, 10 loops each)\n",
      "341 µs ± 6.1 µs per loop (mean ± std. dev. of 7 runs, 1,000 loops each)\n"
     ]
    }
   ],
   "source": [
    "%timeit min(big_array)\n",
    "%timeit np.min(big_array)"
   ]
  },
  {
   "cell_type": "code",
   "execution_count": 174,
   "id": "fb6b9062",
   "metadata": {},
   "outputs": [
    {
     "name": "stdout",
     "output_type": "stream",
     "text": [
      "6.036102300210899e-07 0.9999969605678884 499518.71872294566\n"
     ]
    }
   ],
   "source": [
    "print(big_array.min(), big_array.max(), big_array.sum())"
   ]
  },
  {
   "cell_type": "markdown",
   "id": "9c1c120c",
   "metadata": {},
   "source": [
    "### Многомерные сводные показатели"
   ]
  },
  {
   "cell_type": "code",
   "execution_count": 175,
   "id": "97acf8c2",
   "metadata": {},
   "outputs": [
    {
     "name": "stdout",
     "output_type": "stream",
     "text": [
      "[[0.17847093 0.11357779 0.59874477 0.08731153]\n",
      " [0.74518692 0.96774691 0.2851812  0.32593843]\n",
      " [0.38510652 0.72678814 0.6428085  0.22501515]]\n"
     ]
    }
   ],
   "source": [
    "M = np.random.random((3, 4))\n",
    "print(M)"
   ]
  },
  {
   "cell_type": "code",
   "execution_count": 176,
   "id": "06c22adf",
   "metadata": {},
   "outputs": [
    {
     "data": {
      "text/plain": [
       "5.281876772645355"
      ]
     },
     "execution_count": 176,
     "metadata": {},
     "output_type": "execute_result"
    }
   ],
   "source": [
    "M.sum()"
   ]
  },
  {
   "cell_type": "code",
   "execution_count": 177,
   "id": "c01bf89b",
   "metadata": {},
   "outputs": [
    {
     "data": {
      "text/plain": [
       "array([0.17847093, 0.11357779, 0.2851812 , 0.08731153])"
      ]
     },
     "execution_count": 177,
     "metadata": {},
     "output_type": "execute_result"
    }
   ],
   "source": [
    "# минимальное значение каждого столбца\n",
    "M.min(axis=0)"
   ]
  },
  {
   "cell_type": "code",
   "execution_count": 178,
   "id": "11d03fe2",
   "metadata": {},
   "outputs": [
    {
     "data": {
      "text/plain": [
       "array([0.08731153, 0.2851812 , 0.22501515])"
      ]
     },
     "execution_count": 178,
     "metadata": {},
     "output_type": "execute_result"
    }
   ],
   "source": [
    "# минимальное значение каждой строки\n",
    "M.min(axis=1)"
   ]
  },
  {
   "cell_type": "markdown",
   "id": "2886460f",
   "metadata": {},
   "source": [
    "Ключевое слово axis задает измерение массива, которое будет схлопнуто, а не возвращаемое измерение. Так что указание axis=0 означает, что первая ось будет схлопнута: для двумерных массивов значение в каждом из столбцов будут агрегированы."
   ]
  },
  {
   "cell_type": "markdown",
   "id": "91d00e8c",
   "metadata": {},
   "source": [
    "### ПРИМЕР: чему равен средний рост президентов США"
   ]
  },
  {
   "cell_type": "code",
   "execution_count": 179,
   "id": "50d14546",
   "metadata": {},
   "outputs": [
    {
     "name": "stdout",
     "output_type": "stream",
     "text": [
      "order,name,height(cm)\r\n",
      "1,George Washington,189\r\n",
      "2,John Adams,170\r\n",
      "3,Thomas Jefferson,189\r\n"
     ]
    }
   ],
   "source": [
    "!head -4 data/president_heights.csv"
   ]
  },
  {
   "cell_type": "code",
   "execution_count": 180,
   "id": "7a349a02",
   "metadata": {},
   "outputs": [
    {
     "name": "stdout",
     "output_type": "stream",
     "text": [
      "[189 170 189 163 183 171 185 168 173 183 173 173 175 178 183 193 178 173\n",
      " 174 183 183 168 170 178 182 180 183 178 182 188 175 179 183 193 182 183\n",
      " 177 185 188 188 182 185]\n"
     ]
    }
   ],
   "source": [
    "import pandas as pd\n",
    "\n",
    "\n",
    "data = pd.read_csv('data/president_heights.csv')\n",
    "heights = np.array(data['height(cm)'])\n",
    "print(heights)"
   ]
  },
  {
   "cell_type": "code",
   "execution_count": null,
   "id": "d6912fce",
   "metadata": {},
   "outputs": [],
   "source": [
    "print"
   ]
  }
 ],
 "metadata": {
  "kernelspec": {
   "display_name": "Python 3 (ipykernel)",
   "language": "python",
   "name": "python3"
  },
  "language_info": {
   "codemirror_mode": {
    "name": "ipython",
    "version": 3
   },
   "file_extension": ".py",
   "mimetype": "text/x-python",
   "name": "python",
   "nbconvert_exporter": "python",
   "pygments_lexer": "ipython3",
   "version": "3.8.10"
  }
 },
 "nbformat": 4,
 "nbformat_minor": 5
}
