{
 "cells": [
  {
   "cell_type": "code",
   "execution_count": 34,
   "id": "e99dacde",
   "metadata": {},
   "outputs": [
    {
     "data": {
      "text/plain": [
       "'1.22.3'"
      ]
     },
     "execution_count": 34,
     "metadata": {},
     "output_type": "execute_result"
    }
   ],
   "source": [
    "import numpy\n",
    "numpy.__version__"
   ]
  },
  {
   "cell_type": "code",
   "execution_count": 4,
   "id": "b7ae65a5",
   "metadata": {
    "scrolled": true
   },
   "outputs": [
    {
     "name": "stdout",
     "output_type": "stream",
     "text": [
      "1.22.3\n"
     ]
    }
   ],
   "source": [
    "import numpy as np\n",
    "\n",
    "\n",
    "version = np.__version__\n",
    "print(version)"
   ]
  },
  {
   "cell_type": "code",
   "execution_count": null,
   "id": "7d0abcc9",
   "metadata": {},
   "outputs": [],
   "source": []
  },
  {
   "cell_type": "code",
   "execution_count": 32,
   "id": "9c53c6ec",
   "metadata": {},
   "outputs": [
    {
     "name": "stdout",
     "output_type": "stream",
     "text": [
      "4950\n",
      "0\n",
      "4950\n"
     ]
    }
   ],
   "source": [
    "print(result)\n",
    "result = 0\n",
    "print(result)\n",
    "\n",
    "print(result)"
   ]
  },
  {
   "cell_type": "code",
   "execution_count": 20,
   "id": "b6e41955",
   "metadata": {},
   "outputs": [],
   "source": [
    "dd"
   ]
  },
  {
   "cell_type": "code",
   "execution_count": 27,
   "id": "cb2b4fde",
   "metadata": {},
   "outputs": [
    {
     "name": "stdout",
     "output_type": "stream",
     "text": [
      "5050\n"
     ]
    }
   ],
   "source": [
    "result = 0\n",
    "for i in range(1, 101):\n",
    "    result += i\n",
    "print(result)"
   ]
  },
  {
   "cell_type": "markdown",
   "id": "d5b04901",
   "metadata": {},
   "source": [
    "Каждый объект в Python это замаскированная структура языка C, которая содержит не только значение, но и другую информацию.\n",
    "\n",
    "Например при описании целочисленной  переменной на языке Python, такой как:"
   ]
  },
  {
   "cell_type": "code",
   "execution_count": 28,
   "id": "80ff6dc8",
   "metadata": {},
   "outputs": [],
   "source": [
    "x = 10000"
   ]
  },
  {
   "cell_type": "markdown",
   "id": "b8f6733f",
   "metadata": {},
   "source": [
    "представляет собой не просто чистое цедлое число, на самом деле это указатель на составную структуру языка C, содержащую несколько значений.\n",
    "\n",
    "Переменная состоит из 4 частей:\n",
    "- счетчик ссылое\n",
    "- тип переменной\n",
    "- размер следующих элементов данных\n",
    "- содержание значения"
   ]
  },
  {
   "cell_type": "code",
   "execution_count": 29,
   "id": "3c1b4c9f",
   "metadata": {},
   "outputs": [
    {
     "name": "stdout",
     "output_type": "stream",
     "text": [
      "[0, 1, 2, 3, 4, 5, 6, 7, 8, 9]\n"
     ]
    }
   ],
   "source": [
    "l = list(range(10))\n",
    "print(l)"
   ]
  },
  {
   "cell_type": "code",
   "execution_count": 32,
   "id": "7a059d90",
   "metadata": {},
   "outputs": [
    {
     "name": "stdout",
     "output_type": "stream",
     "text": [
      "['0', '1', '2', '3', '4', '5', '6', '7', '8', '9']\n"
     ]
    }
   ],
   "source": [
    "l2 = [str(c) for c in l]\n",
    "print(l2)"
   ]
  },
  {
   "cell_type": "markdown",
   "id": "c1521780",
   "metadata": {},
   "source": [
    "В Python можно создавать массивы определенных типов для более эффективно работающего буфера. Например библиотека array позволяет создавать целочисленные массивы."
   ]
  },
  {
   "cell_type": "code",
   "execution_count": 33,
   "id": "03e7497c",
   "metadata": {},
   "outputs": [
    {
     "name": "stdout",
     "output_type": "stream",
     "text": [
      "array('i', [0, 1, 2, 3, 4, 5, 6, 7, 8, 9])\n"
     ]
    }
   ],
   "source": [
    "import array\n",
    "l = list(range(10))\n",
    "a = array.array('i', l)\n",
    "print(a)"
   ]
  },
  {
   "cell_type": "markdown",
   "id": "9bc2c4f9",
   "metadata": {},
   "source": [
    "Тоже самое можно сделать при помощи библиотеки numpy, только она еще позваляет и проводить различные операции с этими масивами."
   ]
  },
  {
   "cell_type": "markdown",
   "id": "7608a053",
   "metadata": {},
   "source": [
    "## Создание массива из списков языка Python"
   ]
  },
  {
   "cell_type": "code",
   "execution_count": 34,
   "id": "49be84bf",
   "metadata": {},
   "outputs": [
    {
     "name": "stdout",
     "output_type": "stream",
     "text": [
      "[1 2 3 4 5]\n",
      "[3.14 2.   3.   6.  ]\n"
     ]
    }
   ],
   "source": [
    "import numpy as np\n",
    "\n",
    "\n",
    "l1 = np.array([1, 2, 3, 4, 5])\n",
    "print(l1)\n",
    "\n",
    "l2 = np.array([3.14, 2, 3, 6])\n",
    "print(l2)"
   ]
  },
  {
   "cell_type": "markdown",
   "id": "a47a74ed",
   "metadata": {},
   "source": [
    "Массив в numpy может быть только с одним типом данных, если их несколько то numpy пытается привести их к одному типу, как в примере 2 выше."
   ]
  },
  {
   "cell_type": "markdown",
   "id": "dde07466",
   "metadata": {},
   "source": [
    "Ключевое слово dtype позволяет четко указать тип данных массива."
   ]
  },
  {
   "cell_type": "code",
   "execution_count": 35,
   "id": "0f6b2c58",
   "metadata": {},
   "outputs": [
    {
     "name": "stdout",
     "output_type": "stream",
     "text": [
      "[1. 2. 3. 4.]\n"
     ]
    }
   ],
   "source": [
    "l = np.array([1, 2, 3, 4], dtype=float)\n",
    "print(l)"
   ]
  },
  {
   "cell_type": "markdown",
   "id": "655a5ad8",
   "metadata": {},
   "source": [
    "В numpy можно описывать явным образом многомерные массивы. Вложенные списки рассматриваются как строки в итоговом двумерном массиве."
   ]
  },
  {
   "cell_type": "code",
   "execution_count": 37,
   "id": "deb69e14",
   "metadata": {},
   "outputs": [
    {
     "name": "stdout",
     "output_type": "stream",
     "text": [
      "[[2 3 4]\n",
      " [4 5 6]\n",
      " [6 7 8]]\n"
     ]
    }
   ],
   "source": [
    "l = np.array([range(i, i+3) for i in [2, 4, 6]])\n",
    "print(l)"
   ]
  },
  {
   "cell_type": "markdown",
   "id": "dfaa3a1a",
   "metadata": {},
   "source": [
    "## Создание массивов с нуля"
   ]
  },
  {
   "cell_type": "markdown",
   "id": "d6470be1",
   "metadata": {},
   "source": [
    "создание целочисленного массива длины 10 заполненного нулями"
   ]
  },
  {
   "cell_type": "code",
   "execution_count": 40,
   "id": "6689c5da",
   "metadata": {},
   "outputs": [
    {
     "data": {
      "text/plain": [
       "array([0, 0, 0, 0, 0, 0, 0, 0, 0, 0])"
      ]
     },
     "execution_count": 40,
     "metadata": {},
     "output_type": "execute_result"
    }
   ],
   "source": [
    "np.zeros(10, dtype=int)"
   ]
  },
  {
   "cell_type": "markdown",
   "id": "3effe982",
   "metadata": {},
   "source": [
    "создание массива замером 5х3 значиний сс плавающей точкой заполненных единицами"
   ]
  },
  {
   "cell_type": "code",
   "execution_count": 41,
   "id": "c9f114e5",
   "metadata": {},
   "outputs": [
    {
     "data": {
      "text/plain": [
       "array([[1., 1., 1., 1., 1.],\n",
       "       [1., 1., 1., 1., 1.],\n",
       "       [1., 1., 1., 1., 1.]])"
      ]
     },
     "execution_count": 41,
     "metadata": {},
     "output_type": "execute_result"
    }
   ],
   "source": [
    "np.ones((3, 5), dtype=float)"
   ]
  },
  {
   "cell_type": "markdown",
   "id": "15956e3e",
   "metadata": {},
   "source": [
    "создание массива размером 3х5, заполненный значением 3,14"
   ]
  },
  {
   "cell_type": "code",
   "execution_count": 42,
   "id": "a4e4f13e",
   "metadata": {},
   "outputs": [
    {
     "data": {
      "text/plain": [
       "array([[3.14, 3.14, 3.14, 3.14, 3.14],\n",
       "       [3.14, 3.14, 3.14, 3.14, 3.14],\n",
       "       [3.14, 3.14, 3.14, 3.14, 3.14]])"
      ]
     },
     "execution_count": 42,
     "metadata": {},
     "output_type": "execute_result"
    }
   ],
   "source": [
    "np.full((3, 5), 3.14)"
   ]
  },
  {
   "cell_type": "markdown",
   "id": "59e6a487",
   "metadata": {},
   "source": [
    "создаем массив, заполненный линейной последовательностью начинайющийся с 0 и заканчивающийся 20 с шагом 2, аналогично range"
   ]
  },
  {
   "cell_type": "code",
   "execution_count": 44,
   "id": "e47e1bcc",
   "metadata": {},
   "outputs": [
    {
     "data": {
      "text/plain": [
       "array([ 0,  2,  4,  6,  8, 10, 12, 14, 16, 18])"
      ]
     },
     "execution_count": 44,
     "metadata": {},
     "output_type": "execute_result"
    }
   ],
   "source": [
    "np.arange(0, 20, 2)"
   ]
  },
  {
   "cell_type": "markdown",
   "id": "53000921",
   "metadata": {},
   "source": [
    "создаем массив из пяти значений равномерно располагающихся между 0 и 1"
   ]
  },
  {
   "cell_type": "code",
   "execution_count": 46,
   "id": "653a685c",
   "metadata": {},
   "outputs": [
    {
     "data": {
      "text/plain": [
       "array([0.  , 0.25, 0.5 , 0.75, 1.  ])"
      ]
     },
     "execution_count": 46,
     "metadata": {},
     "output_type": "execute_result"
    }
   ],
   "source": [
    "np.linspace(0, 1, 5)"
   ]
  },
  {
   "cell_type": "markdown",
   "id": "b766a458",
   "metadata": {},
   "source": [
    "создаем массив 3х3 равномерно распределенных случайных значений от 0 до 1"
   ]
  },
  {
   "cell_type": "code",
   "execution_count": 48,
   "id": "fb334450",
   "metadata": {},
   "outputs": [
    {
     "data": {
      "text/plain": [
       "array([[0.55121224, 0.26239305, 0.49926696],\n",
       "       [0.44634251, 0.70986143, 0.48792261],\n",
       "       [0.08128452, 0.53309072, 0.00254466]])"
      ]
     },
     "execution_count": 48,
     "metadata": {},
     "output_type": "execute_result"
    }
   ],
   "source": [
    "np.random.random((3, 3))"
   ]
  },
  {
   "cell_type": "markdown",
   "id": "d71e1bee",
   "metadata": {},
   "source": [
    "создаем массив размером 3х3 нормально распределенных случайных значений с медианой - и стандартным отклонением 1"
   ]
  },
  {
   "cell_type": "code",
   "execution_count": 50,
   "id": "bb1dead1",
   "metadata": {},
   "outputs": [
    {
     "data": {
      "text/plain": [
       "array([[-0.79834757,  0.93438786, -1.92975791],\n",
       "       [-0.1074372 ,  0.16379745, -0.30276634],\n",
       "       [-0.66523405,  0.0163417 , -0.42388998]])"
      ]
     },
     "execution_count": 50,
     "metadata": {},
     "output_type": "execute_result"
    }
   ],
   "source": [
    "np.random.normal(0, 1, (3, 3))"
   ]
  },
  {
   "cell_type": "markdown",
   "id": "7d53b417",
   "metadata": {},
   "source": [
    "создаем массив размером 3х3 слуйных целых чисел в промежутке [0, 10)"
   ]
  },
  {
   "cell_type": "code",
   "execution_count": 52,
   "id": "c9f00129",
   "metadata": {},
   "outputs": [
    {
     "data": {
      "text/plain": [
       "array([[5, 6, 1],\n",
       "       [6, 3, 9],\n",
       "       [8, 9, 2]])"
      ]
     },
     "execution_count": 52,
     "metadata": {},
     "output_type": "execute_result"
    }
   ],
   "source": [
    "np.random.randint(0, 10, (3, 3))"
   ]
  },
  {
   "cell_type": "markdown",
   "id": "e0a2b9e2",
   "metadata": {},
   "source": [
    "создаем единичную матрицу размером 3х3"
   ]
  },
  {
   "cell_type": "code",
   "execution_count": 53,
   "id": "35899f85",
   "metadata": {},
   "outputs": [
    {
     "data": {
      "text/plain": [
       "array([[1., 0., 0.],\n",
       "       [0., 1., 0.],\n",
       "       [0., 0., 1.]])"
      ]
     },
     "execution_count": 53,
     "metadata": {},
     "output_type": "execute_result"
    }
   ],
   "source": [
    "np.eye(3)"
   ]
  },
  {
   "cell_type": "markdown",
   "id": "e4475d06",
   "metadata": {},
   "source": [
    "создаем инициализированный массив из трех целочисленных значений. Значениями будут произвольные, случайно оказавшиеся в соответствующих ячейках памяти данные"
   ]
  },
  {
   "cell_type": "code",
   "execution_count": 54,
   "id": "340153d7",
   "metadata": {},
   "outputs": [
    {
     "data": {
      "text/plain": [
       "array([1., 1., 1.])"
      ]
     },
     "execution_count": 54,
     "metadata": {},
     "output_type": "execute_result"
    }
   ],
   "source": [
    "np.empty(3)"
   ]
  },
  {
   "cell_type": "markdown",
   "id": "db1faeee",
   "metadata": {},
   "source": [
    "## Атрибуты массивов библиотеки NumPy"
   ]
  },
  {
   "cell_type": "code",
   "execution_count": 58,
   "id": "3d1e8661",
   "metadata": {},
   "outputs": [
    {
     "name": "stdout",
     "output_type": "stream",
     "text": [
      "x3 ndim:  3\n",
      "x3 shpae:  (3, 4, 5)\n",
      "x3 size:  60\n"
     ]
    }
   ],
   "source": [
    "import numpy as np\n",
    "\n",
    "\n",
    "np.random.seed(0) #начальное значение для целей воспроизводимости\n",
    "\n",
    "x1 = np.random.randint(10, size=6) #одномерный массив\n",
    "x2 = np.random.randint(10, size=(3, 4)) #двумерный массив\n",
    "x3 = np.random.randint(10, size=(3, 4, 5)) #трехмерный массив\n",
    "\n",
    "# ndim - размерность\n",
    "# shape - размер каждого измерения\n",
    "# size - общий размер массива\n",
    "\n",
    "print(\"x3 ndim: \", x3.ndim)\n",
    "print(\"x3 shpae: \", x3.shape)\n",
    "print(\"x3 size: \", x3.size)"
   ]
  },
  {
   "cell_type": "code",
   "execution_count": 60,
   "id": "b060df36",
   "metadata": {},
   "outputs": [
    {
     "name": "stdout",
     "output_type": "stream",
     "text": [
      "dtype:  int64\n"
     ]
    }
   ],
   "source": [
    "# dtype - еще один атрибут типа данных массива\n",
    "print(\"dtype: \", x3.dtype)"
   ]
  },
  {
   "cell_type": "markdown",
   "id": "e063fa24",
   "metadata": {},
   "source": [
    "## Индексация массива: доступ к отдельным элементам"
   ]
  },
  {
   "cell_type": "code",
   "execution_count": 61,
   "id": "a62fa87c",
   "metadata": {},
   "outputs": [
    {
     "data": {
      "text/plain": [
       "array([5, 0, 3, 3, 7, 9])"
      ]
     },
     "execution_count": 61,
     "metadata": {},
     "output_type": "execute_result"
    }
   ],
   "source": [
    "x1"
   ]
  },
  {
   "cell_type": "code",
   "execution_count": 62,
   "id": "44fc6d37",
   "metadata": {},
   "outputs": [
    {
     "data": {
      "text/plain": [
       "5"
      ]
     },
     "execution_count": 62,
     "metadata": {},
     "output_type": "execute_result"
    }
   ],
   "source": [
    "x1[0]"
   ]
  },
  {
   "cell_type": "code",
   "execution_count": 63,
   "id": "bc052b9b",
   "metadata": {},
   "outputs": [
    {
     "data": {
      "text/plain": [
       "7"
      ]
     },
     "execution_count": 63,
     "metadata": {},
     "output_type": "execute_result"
    }
   ],
   "source": [
    "x1[4]"
   ]
  },
  {
   "cell_type": "code",
   "execution_count": 64,
   "id": "ad3bce54",
   "metadata": {},
   "outputs": [
    {
     "data": {
      "text/plain": [
       "9"
      ]
     },
     "execution_count": 64,
     "metadata": {},
     "output_type": "execute_result"
    }
   ],
   "source": [
    "x1[-1]"
   ]
  },
  {
   "cell_type": "code",
   "execution_count": 65,
   "id": "8cef5e02",
   "metadata": {},
   "outputs": [
    {
     "data": {
      "text/plain": [
       "7"
      ]
     },
     "execution_count": 65,
     "metadata": {},
     "output_type": "execute_result"
    }
   ],
   "source": [
    "x1[-2]"
   ]
  },
  {
   "cell_type": "markdown",
   "id": "f9071c9b",
   "metadata": {},
   "source": [
    "Обращение к элементам в многомерном массиве осуществляется через разделенный запятыми кортеж индексов."
   ]
  },
  {
   "cell_type": "code",
   "execution_count": 66,
   "id": "c3cb258e",
   "metadata": {},
   "outputs": [
    {
     "data": {
      "text/plain": [
       "array([[3, 5, 2, 4],\n",
       "       [7, 6, 8, 8],\n",
       "       [1, 6, 7, 7]])"
      ]
     },
     "execution_count": 66,
     "metadata": {},
     "output_type": "execute_result"
    }
   ],
   "source": [
    "x2"
   ]
  },
  {
   "cell_type": "code",
   "execution_count": 68,
   "id": "f519f6b8",
   "metadata": {},
   "outputs": [
    {
     "data": {
      "text/plain": [
       "3"
      ]
     },
     "execution_count": 68,
     "metadata": {},
     "output_type": "execute_result"
    }
   ],
   "source": [
    "x2[0, 0]"
   ]
  },
  {
   "cell_type": "code",
   "execution_count": 69,
   "id": "e6e63d1b",
   "metadata": {},
   "outputs": [
    {
     "data": {
      "text/plain": [
       "1"
      ]
     },
     "execution_count": 69,
     "metadata": {},
     "output_type": "execute_result"
    }
   ],
   "source": [
    "x2[2, 0]"
   ]
  },
  {
   "cell_type": "code",
   "execution_count": 70,
   "id": "338e5a6c",
   "metadata": {},
   "outputs": [
    {
     "data": {
      "text/plain": [
       "6"
      ]
     },
     "execution_count": 70,
     "metadata": {},
     "output_type": "execute_result"
    }
   ],
   "source": [
    "x2[2, 1]"
   ]
  },
  {
   "cell_type": "code",
   "execution_count": 71,
   "id": "1ce967fc",
   "metadata": {},
   "outputs": [],
   "source": [
    "x2[0, 0] = 12"
   ]
  },
  {
   "cell_type": "code",
   "execution_count": 72,
   "id": "28084b6a",
   "metadata": {},
   "outputs": [
    {
     "data": {
      "text/plain": [
       "array([[12,  5,  2,  4],\n",
       "       [ 7,  6,  8,  8],\n",
       "       [ 1,  6,  7,  7]])"
      ]
     },
     "execution_count": 72,
     "metadata": {},
     "output_type": "execute_result"
    }
   ],
   "source": [
    "x2"
   ]
  },
  {
   "cell_type": "markdown",
   "id": "5c9cfc95",
   "metadata": {},
   "source": [
    "## Срезы массивов: доступ к подмассивам\n",
    "x[начало: конец: шаг]"
   ]
  },
  {
   "cell_type": "markdown",
   "id": "6ab39c60",
   "metadata": {},
   "source": [
    "### одномерные массивы"
   ]
  },
  {
   "cell_type": "code",
   "execution_count": 73,
   "id": "de9339b0",
   "metadata": {},
   "outputs": [
    {
     "data": {
      "text/plain": [
       "array([0, 1, 2, 3, 4, 5, 6, 7, 8, 9])"
      ]
     },
     "execution_count": 73,
     "metadata": {},
     "output_type": "execute_result"
    }
   ],
   "source": [
    "x = np.arange(10)\n",
    "x"
   ]
  },
  {
   "cell_type": "code",
   "execution_count": 74,
   "id": "e91d7f74",
   "metadata": {},
   "outputs": [
    {
     "data": {
      "text/plain": [
       "array([0, 1, 2, 3, 4])"
      ]
     },
     "execution_count": 74,
     "metadata": {},
     "output_type": "execute_result"
    }
   ],
   "source": [
    "x[:5] #первые 5 элементов"
   ]
  },
  {
   "cell_type": "code",
   "execution_count": 75,
   "id": "d6b39c55",
   "metadata": {},
   "outputs": [
    {
     "data": {
      "text/plain": [
       "array([5, 6, 7, 8, 9])"
      ]
     },
     "execution_count": 75,
     "metadata": {},
     "output_type": "execute_result"
    }
   ],
   "source": [
    "x[5:] # элементы после индекса 5"
   ]
  },
  {
   "cell_type": "code",
   "execution_count": 76,
   "id": "8c7e96a4",
   "metadata": {},
   "outputs": [
    {
     "data": {
      "text/plain": [
       "array([4, 5, 6])"
      ]
     },
     "execution_count": 76,
     "metadata": {},
     "output_type": "execute_result"
    }
   ],
   "source": [
    "x[4:7] # подмассив из середины"
   ]
  },
  {
   "cell_type": "markdown",
   "id": "79fc4903",
   "metadata": {},
   "source": [
    "### многомерные подмассивы"
   ]
  },
  {
   "cell_type": "code",
   "execution_count": 77,
   "id": "322caf4a",
   "metadata": {},
   "outputs": [
    {
     "data": {
      "text/plain": [
       "array([[12,  5,  2,  4],\n",
       "       [ 7,  6,  8,  8],\n",
       "       [ 1,  6,  7,  7]])"
      ]
     },
     "execution_count": 77,
     "metadata": {},
     "output_type": "execute_result"
    }
   ],
   "source": [
    "x2"
   ]
  },
  {
   "cell_type": "code",
   "execution_count": 78,
   "id": "7e13ab08",
   "metadata": {},
   "outputs": [
    {
     "data": {
      "text/plain": [
       "array([[12,  5,  2],\n",
       "       [ 7,  6,  8]])"
      ]
     },
     "execution_count": 78,
     "metadata": {},
     "output_type": "execute_result"
    }
   ],
   "source": [
    "x2[:2, :3] # две строки, три столбца"
   ]
  },
  {
   "cell_type": "code",
   "execution_count": 79,
   "id": "0e417b76",
   "metadata": {},
   "outputs": [
    {
     "data": {
      "text/plain": [
       "array([[12,  2],\n",
       "       [ 7,  8],\n",
       "       [ 1,  7]])"
      ]
     },
     "execution_count": 79,
     "metadata": {},
     "output_type": "execute_result"
    }
   ],
   "source": [
    "x2[:3, ::2] # все строки, каждый второй столбец"
   ]
  },
  {
   "cell_type": "markdown",
   "id": "b9565ea5",
   "metadata": {},
   "source": [
    "Измерения так же можно переворачивать"
   ]
  },
  {
   "cell_type": "code",
   "execution_count": 80,
   "id": "c507b3ac",
   "metadata": {},
   "outputs": [
    {
     "data": {
      "text/plain": [
       "array([[ 7,  7,  6,  1],\n",
       "       [ 8,  8,  6,  7],\n",
       "       [ 4,  2,  5, 12]])"
      ]
     },
     "execution_count": 80,
     "metadata": {},
     "output_type": "execute_result"
    }
   ],
   "source": [
    "x2[::-1, ::-1]"
   ]
  },
  {
   "cell_type": "markdown",
   "id": "42773a8d",
   "metadata": {},
   "source": [
    "### Доступ к строкам и столбцам массива"
   ]
  },
  {
   "cell_type": "code",
   "execution_count": 81,
   "id": "658cc7bc",
   "metadata": {},
   "outputs": [
    {
     "data": {
      "text/plain": [
       "array([[12,  5,  2,  4],\n",
       "       [ 7,  6,  8,  8],\n",
       "       [ 1,  6,  7,  7]])"
      ]
     },
     "execution_count": 81,
     "metadata": {},
     "output_type": "execute_result"
    }
   ],
   "source": [
    "x2"
   ]
  },
  {
   "cell_type": "code",
   "execution_count": 82,
   "id": "28f423c7",
   "metadata": {},
   "outputs": [
    {
     "data": {
      "text/plain": [
       "array([12,  7,  1])"
      ]
     },
     "execution_count": 82,
     "metadata": {},
     "output_type": "execute_result"
    }
   ],
   "source": [
    "x2[:, 0]"
   ]
  },
  {
   "cell_type": "code",
   "execution_count": 83,
   "id": "8d3e2d03",
   "metadata": {},
   "outputs": [
    {
     "data": {
      "text/plain": [
       "array([12,  5,  2,  4])"
      ]
     },
     "execution_count": 83,
     "metadata": {},
     "output_type": "execute_result"
    }
   ],
   "source": [
    "x2[0, :]"
   ]
  },
  {
   "cell_type": "code",
   "execution_count": 84,
   "id": "80898b5d",
   "metadata": {},
   "outputs": [
    {
     "data": {
      "text/plain": [
       "array([1, 6, 7, 7])"
      ]
     },
     "execution_count": 84,
     "metadata": {},
     "output_type": "execute_result"
    }
   ],
   "source": [
    "x2[2]"
   ]
  },
  {
   "cell_type": "code",
   "execution_count": 87,
   "id": "dd7480a9",
   "metadata": {},
   "outputs": [],
   "source": [
    "x2_sub = x2[:2, :2]"
   ]
  },
  {
   "cell_type": "code",
   "execution_count": 88,
   "id": "ba854099",
   "metadata": {},
   "outputs": [],
   "source": [
    "x2_sub[0, 0] = 99"
   ]
  },
  {
   "cell_type": "code",
   "execution_count": 89,
   "id": "0c8403b2",
   "metadata": {},
   "outputs": [
    {
     "data": {
      "text/plain": [
       "array([[99,  5,  2,  4],\n",
       "       [ 7,  6,  8,  8],\n",
       "       [ 1,  6,  7,  7]])"
      ]
     },
     "execution_count": 89,
     "metadata": {},
     "output_type": "execute_result"
    }
   ],
   "source": [
    "x2"
   ]
  },
  {
   "cell_type": "markdown",
   "id": "ce8d5b8b",
   "metadata": {},
   "source": [
    "## Создание копий массива"
   ]
  },
  {
   "cell_type": "code",
   "execution_count": 91,
   "id": "23acec37",
   "metadata": {},
   "outputs": [
    {
     "name": "stdout",
     "output_type": "stream",
     "text": [
      "[[99  5]\n",
      " [ 7  6]]\n"
     ]
    }
   ],
   "source": [
    "x2_sub_copy = x2[:2, :2].copy()\n",
    "print(x2_sub_copy)"
   ]
  },
  {
   "cell_type": "code",
   "execution_count": 92,
   "id": "5e707c40",
   "metadata": {},
   "outputs": [
    {
     "name": "stdout",
     "output_type": "stream",
     "text": [
      "[[42  5]\n",
      " [ 7  6]]\n"
     ]
    }
   ],
   "source": [
    "x2_sub_copy[0, 0] = 42\n",
    "print(x2_sub_copy)"
   ]
  },
  {
   "cell_type": "code",
   "execution_count": 93,
   "id": "375cfa42",
   "metadata": {},
   "outputs": [
    {
     "name": "stdout",
     "output_type": "stream",
     "text": [
      "[[99  5  2  4]\n",
      " [ 7  6  8  8]\n",
      " [ 1  6  7  7]]\n"
     ]
    }
   ],
   "source": [
    "print(x2)"
   ]
  },
  {
   "cell_type": "markdown",
   "id": "1b7b40b0",
   "metadata": {},
   "source": [
    "## Изменение формы массива"
   ]
  },
  {
   "cell_type": "code",
   "execution_count": 96,
   "id": "0cc4477b",
   "metadata": {},
   "outputs": [
    {
     "name": "stdout",
     "output_type": "stream",
     "text": [
      "[[1 2 3]\n",
      " [4 5 6]\n",
      " [7 8 9]]\n"
     ]
    }
   ],
   "source": [
    "grid = np.arange(1, 10).reshape((3, 3))\n",
    "print(grid)"
   ]
  },
  {
   "cell_type": "code",
   "execution_count": 98,
   "id": "d5edf910",
   "metadata": {},
   "outputs": [
    {
     "data": {
      "text/plain": [
       "array([[1, 2, 3]])"
      ]
     },
     "execution_count": 98,
     "metadata": {},
     "output_type": "execute_result"
    }
   ],
   "source": [
    "x = np.array([1, 2, 3])\n",
    "x.reshape((1, 3))"
   ]
  },
  {
   "cell_type": "code",
   "execution_count": 99,
   "id": "8bbec39e",
   "metadata": {},
   "outputs": [
    {
     "data": {
      "text/plain": [
       "array([[1, 2, 3]])"
      ]
     },
     "execution_count": 99,
     "metadata": {},
     "output_type": "execute_result"
    }
   ],
   "source": [
    "x[np.newaxis, :]"
   ]
  },
  {
   "cell_type": "code",
   "execution_count": 100,
   "id": "2362739b",
   "metadata": {},
   "outputs": [
    {
     "data": {
      "text/plain": [
       "array([[1],\n",
       "       [2],\n",
       "       [3]])"
      ]
     },
     "execution_count": 100,
     "metadata": {},
     "output_type": "execute_result"
    }
   ],
   "source": [
    "x.reshape((3, 1))"
   ]
  },
  {
   "cell_type": "code",
   "execution_count": 101,
   "id": "204d5c13",
   "metadata": {},
   "outputs": [
    {
     "data": {
      "text/plain": [
       "array([[1],\n",
       "       [2],\n",
       "       [3]])"
      ]
     },
     "execution_count": 101,
     "metadata": {},
     "output_type": "execute_result"
    }
   ],
   "source": [
    "x[:, np.newaxis]"
   ]
  },
  {
   "cell_type": "markdown",
   "id": "eb16fd02",
   "metadata": {},
   "source": [
    "## Слияние и рзабиение массивов"
   ]
  },
  {
   "cell_type": "code",
   "execution_count": 103,
   "id": "b6ff11bb",
   "metadata": {},
   "outputs": [
    {
     "data": {
      "text/plain": [
       "array([1, 2, 3, 3, 2, 1])"
      ]
     },
     "execution_count": 103,
     "metadata": {},
     "output_type": "execute_result"
    }
   ],
   "source": [
    "x = np.array([1, 2, 3])\n",
    "y = np.array([3, 2, 1])\n",
    "np.concatenate([x, y])"
   ]
  },
  {
   "cell_type": "code",
   "execution_count": 104,
   "id": "30e3bd26",
   "metadata": {},
   "outputs": [
    {
     "name": "stdout",
     "output_type": "stream",
     "text": [
      "[ 1  2  3  3  2  1 99 99 99]\n"
     ]
    }
   ],
   "source": [
    "z = [99, 99, 99]\n",
    "print(np.concatenate([x, y, z]))"
   ]
  },
  {
   "cell_type": "code",
   "execution_count": 108,
   "id": "2576b721",
   "metadata": {},
   "outputs": [
    {
     "data": {
      "text/plain": [
       "array([[1, 2, 3],\n",
       "       [4, 5, 6],\n",
       "       [1, 2, 3],\n",
       "       [4, 5, 6]])"
      ]
     },
     "execution_count": 108,
     "metadata": {},
     "output_type": "execute_result"
    }
   ],
   "source": [
    "grid = np.array([[1, 2, 3],\n",
    "                 [4, 5, 6]])\n",
    "# слияние по первой оси координат\n",
    "np.concatenate([grid, grid])"
   ]
  },
  {
   "cell_type": "code",
   "execution_count": 109,
   "id": "bc291340",
   "metadata": {},
   "outputs": [
    {
     "data": {
      "text/plain": [
       "array([[1, 2, 3, 1, 2, 3],\n",
       "       [4, 5, 6, 4, 5, 6]])"
      ]
     },
     "execution_count": 109,
     "metadata": {},
     "output_type": "execute_result"
    }
   ],
   "source": [
    "# слияние по второй оси координат (с индексом 0)\n",
    "np.concatenate([grid, grid], axis=1)"
   ]
  },
  {
   "cell_type": "markdown",
   "id": "173013bd",
   "metadata": {},
   "source": [
    "Для работы с массивами с различающимися измерениями удобнее и понятнее использовать функции np.vstack (вертикальное объединение) и np.hstack (горизонтальное объединение)"
   ]
  },
  {
   "cell_type": "code",
   "execution_count": 111,
   "id": "4a7b3bb1",
   "metadata": {},
   "outputs": [
    {
     "data": {
      "text/plain": [
       "array([[1, 2, 3],\n",
       "       [9, 8, 7],\n",
       "       [6, 5, 4]])"
      ]
     },
     "execution_count": 111,
     "metadata": {},
     "output_type": "execute_result"
    }
   ],
   "source": [
    "x = np.array([1, 2, 3])\n",
    "grid = np.array([[9, 8, 7],\n",
    "                 [6, 5, 4]])\n",
    "# объединяет массив по вертикали\n",
    "np.vstack([x, grid])"
   ]
  },
  {
   "cell_type": "code",
   "execution_count": 112,
   "id": "d980da49",
   "metadata": {},
   "outputs": [
    {
     "data": {
      "text/plain": [
       "array([[ 9,  8,  7, 99],\n",
       "       [ 6,  5,  4, 99]])"
      ]
     },
     "execution_count": 112,
     "metadata": {},
     "output_type": "execute_result"
    }
   ],
   "source": [
    "# объединяет массив по горизонтали\n",
    "y = np.array([[99], \n",
    "              [99]])\n",
    "np.hstack([grid, y])"
   ]
  },
  {
   "cell_type": "markdown",
   "id": "2e68808a",
   "metadata": {},
   "source": [
    "## Разбиение массивов"
   ]
  },
  {
   "cell_type": "code",
   "execution_count": 122,
   "id": "0aa2fd37",
   "metadata": {
    "scrolled": true
   },
   "outputs": [
    {
     "name": "stdout",
     "output_type": "stream",
     "text": [
      "[99, 99]\n",
      "[1 2 3] [99 99] [3 2 1]\n"
     ]
    }
   ],
   "source": [
    "x = [1, 2, 3, 99, 99, 3, 2, 1]\n",
    "print(x[3: 5])\n",
    "x1, x2, x3 = np.split(x, [3, 5])\n",
    "print(x1, x2, x3)"
   ]
  },
  {
   "cell_type": "markdown",
   "id": "da055839",
   "metadata": {},
   "source": [
    "N точек раздела это N+1 подмассив"
   ]
  },
  {
   "cell_type": "code",
   "execution_count": 124,
   "id": "816cc32a",
   "metadata": {},
   "outputs": [
    {
     "data": {
      "text/plain": [
       "array([[ 0,  1,  2,  3],\n",
       "       [ 4,  5,  6,  7],\n",
       "       [ 8,  9, 10, 11],\n",
       "       [12, 13, 14, 15]])"
      ]
     },
     "execution_count": 124,
     "metadata": {},
     "output_type": "execute_result"
    }
   ],
   "source": [
    "grid = np.arange(16).reshape((4, 4))\n",
    "grid"
   ]
  },
  {
   "cell_type": "code",
   "execution_count": 125,
   "id": "5537ce4e",
   "metadata": {},
   "outputs": [
    {
     "name": "stdout",
     "output_type": "stream",
     "text": [
      "[[0 1 2 3]\n",
      " [4 5 6 7]]\n",
      "[[ 8  9 10 11]\n",
      " [12 13 14 15]]\n"
     ]
    }
   ],
   "source": [
    "upper, lower = np.vsplit(grid, [2])\n",
    "print(upper)\n",
    "print(lower)"
   ]
  },
  {
   "cell_type": "code",
   "execution_count": 126,
   "id": "ad192f18",
   "metadata": {},
   "outputs": [
    {
     "name": "stdout",
     "output_type": "stream",
     "text": [
      "[[ 0  1]\n",
      " [ 4  5]\n",
      " [ 8  9]\n",
      " [12 13]]\n",
      "[[ 2  3]\n",
      " [ 6  7]\n",
      " [10 11]\n",
      " [14 15]]\n"
     ]
    }
   ],
   "source": [
    "left, right = np.hsplit(grid, [2])\n",
    "print(left)\n",
    "print(right)"
   ]
  },
  {
   "cell_type": "code",
   "execution_count": 136,
   "id": "9ce83001",
   "metadata": {},
   "outputs": [
    {
     "name": "stdout",
     "output_type": "stream",
     "text": [
      "3\n",
      "4\n",
      "[[ 0  1  2  3]\n",
      " [ 4  5  6  7]\n",
      " [ 8  9 10 11]]\n",
      "[0 1 2 3]\n",
      "[4 5 6 7]\n",
      "[ 8  9 10 11]\n",
      "[0 4 8]\n",
      "[1 5 9]\n",
      "[ 2  6 10]\n",
      "[ 3  7 11]\n"
     ]
    }
   ],
   "source": [
    "grid = np.arange(12).reshape((3, 4))\n",
    "print(grid.shape[0])\n",
    "print(grid.shape[1])\n",
    "\n",
    "print(grid)\n",
    "\n",
    "for row in range(grid.shape[0]):\n",
    "    print(grid[row, :])\n",
    "    \n",
    "for col in range(grid.shape[1]):\n",
    "    print(grid[:, col])"
   ]
  },
  {
   "cell_type": "markdown",
   "id": "85211ba4",
   "metadata": {},
   "source": [
    "# Выполнение вычислений над массивами библиотеки NumPy: универсальные функции"
   ]
  },
  {
   "cell_type": "code",
   "execution_count": 142,
   "id": "81440625",
   "metadata": {},
   "outputs": [
    {
     "name": "stdout",
     "output_type": "stream",
     "text": [
      "[6 1 4 4 8]\n"
     ]
    },
    {
     "data": {
      "text/plain": [
       "array([0.16666667, 1.        , 0.25      , 0.25      , 0.125     ])"
      ]
     },
     "execution_count": 142,
     "metadata": {},
     "output_type": "execute_result"
    }
   ],
   "source": [
    "import numpy as np\n",
    "np.random.seed(0)\n",
    "\n",
    "def compute_reciprocals(value):\n",
    "    output = np.empty(len(values))\n",
    "    for i in range(len(values)):\n",
    "        output[i] = 1.0 / values[i]\n",
    "    return output\n",
    "\n",
    "values = np.random.randint(1, 10, size=5)\n",
    "print(values)\n",
    "compute_reciprocals(values)"
   ]
  },
  {
   "cell_type": "code",
   "execution_count": 144,
   "id": "893acd21",
   "metadata": {},
   "outputs": [
    {
     "name": "stdout",
     "output_type": "stream",
     "text": [
      "9.1 µs ± 68.1 ns per loop (mean ± std. dev. of 7 runs, 100,000 loops each)\n"
     ]
    }
   ],
   "source": [
    "big_array = np.random.randint(1, 100, size=1000000)\n",
    "%timeit compute_reciprocals(big_array)"
   ]
  },
  {
   "cell_type": "markdown",
   "id": "d4af0414",
   "metadata": {},
   "source": [
    "## Введение в универсальные функции"
   ]
  },
  {
   "cell_type": "code",
   "execution_count": 145,
   "id": "c992e279",
   "metadata": {},
   "outputs": [
    {
     "name": "stdout",
     "output_type": "stream",
     "text": [
      "[0.16666667 1.         0.25       0.25       0.125     ]\n",
      "[0.16666667 1.         0.25       0.25       0.125     ]\n"
     ]
    }
   ],
   "source": [
    "print(compute_reciprocals(values))\n",
    "print(1.0/values)"
   ]
  },
  {
   "cell_type": "code",
   "execution_count": 147,
   "id": "aeb0b840",
   "metadata": {},
   "outputs": [
    {
     "data": {
      "text/plain": [
       "array([0.        , 0.5       , 0.66666667, 0.75      , 0.8       ])"
      ]
     },
     "execution_count": 147,
     "metadata": {},
     "output_type": "execute_result"
    }
   ],
   "source": [
    "np.arange(5)/np.arange(1, 6)"
   ]
  },
  {
   "cell_type": "code",
   "execution_count": 148,
   "id": "587b607f",
   "metadata": {},
   "outputs": [
    {
     "data": {
      "text/plain": [
       "array([[ 0,  1,  4],\n",
       "       [ 9, 16, 25],\n",
       "       [36, 49, 64]])"
      ]
     },
     "execution_count": 148,
     "metadata": {},
     "output_type": "execute_result"
    }
   ],
   "source": [
    "x = np.arange(9).reshape((3, 3))\n",
    "x ** 2"
   ]
  },
  {
   "cell_type": "code",
   "execution_count": 150,
   "id": "074d00e2",
   "metadata": {},
   "outputs": [
    {
     "name": "stdout",
     "output_type": "stream",
     "text": [
      "[ 0. 10. 20. 30. 40.]\n"
     ]
    }
   ],
   "source": [
    "x = np.arange(5)\n",
    "y = np.empty(5)\n",
    "np.multiply(x, 10, out=y)\n",
    "print(y)"
   ]
  },
  {
   "cell_type": "code",
   "execution_count": 152,
   "id": "12044bd5",
   "metadata": {},
   "outputs": [
    {
     "name": "stdout",
     "output_type": "stream",
     "text": [
      "[ 1.  0.  2.  0.  4.  0.  8.  0. 16.  0.]\n"
     ]
    }
   ],
   "source": [
    "y = np.zeros(10)\n",
    "np.power(2, x, out=y[::2])\n",
    "print(y)"
   ]
  },
  {
   "cell_type": "markdown",
   "id": "b93fa437",
   "metadata": {},
   "source": [
    "## Сводные покзатели"
   ]
  },
  {
   "cell_type": "code",
   "execution_count": 157,
   "id": "f47af0b4",
   "metadata": {},
   "outputs": [
    {
     "data": {
      "text/plain": [
       "15"
      ]
     },
     "execution_count": 157,
     "metadata": {},
     "output_type": "execute_result"
    }
   ],
   "source": [
    "x = np.arange(1, 6)\n",
    "# сумма всех элементова массива\n",
    "np.add.reduce(x)"
   ]
  },
  {
   "cell_type": "code",
   "execution_count": 159,
   "id": "e0d75efa",
   "metadata": {},
   "outputs": [
    {
     "data": {
      "text/plain": [
       "120"
      ]
     },
     "execution_count": 159,
     "metadata": {},
     "output_type": "execute_result"
    }
   ],
   "source": [
    "# произведение всех элементов массива\n",
    "np.multiply.reduce(x)"
   ]
  },
  {
   "cell_type": "code",
   "execution_count": 161,
   "id": "9ce9efaa",
   "metadata": {},
   "outputs": [
    {
     "data": {
      "text/plain": [
       "array([ 1,  3,  6, 10, 15])"
      ]
     },
     "execution_count": 161,
     "metadata": {},
     "output_type": "execute_result"
    }
   ],
   "source": [
    "# для сохранения вычислений можно использовать accumulate\n",
    "np.add.accumulate(x)"
   ]
  },
  {
   "cell_type": "code",
   "execution_count": 162,
   "id": "898e5bc9",
   "metadata": {},
   "outputs": [
    {
     "data": {
      "text/plain": [
       "array([  1,   2,   6,  24, 120])"
      ]
     },
     "execution_count": 162,
     "metadata": {},
     "output_type": "execute_result"
    }
   ],
   "source": [
    "np.multiply.accumulate(x)"
   ]
  },
  {
   "cell_type": "markdown",
   "id": "302362e9",
   "metadata": {},
   "source": [
    "## Векторное произведение"
   ]
  },
  {
   "cell_type": "code",
   "execution_count": 165,
   "id": "b6058cf0",
   "metadata": {},
   "outputs": [
    {
     "data": {
      "text/plain": [
       "array([[ 1,  2,  3,  4,  5,  6,  7,  8,  9],\n",
       "       [ 2,  4,  6,  8, 10, 12, 14, 16, 18],\n",
       "       [ 3,  6,  9, 12, 15, 18, 21, 24, 27],\n",
       "       [ 4,  8, 12, 16, 20, 24, 28, 32, 36],\n",
       "       [ 5, 10, 15, 20, 25, 30, 35, 40, 45],\n",
       "       [ 6, 12, 18, 24, 30, 36, 42, 48, 54],\n",
       "       [ 7, 14, 21, 28, 35, 42, 49, 56, 63],\n",
       "       [ 8, 16, 24, 32, 40, 48, 56, 64, 72],\n",
       "       [ 9, 18, 27, 36, 45, 54, 63, 72, 81]])"
      ]
     },
     "execution_count": 165,
     "metadata": {},
     "output_type": "execute_result"
    }
   ],
   "source": [
    "# таблица умножения\n",
    "x = np.arange(1, 10)\n",
    "np.multiply.outer(x, x)"
   ]
  },
  {
   "cell_type": "markdown",
   "id": "6ad5b33c",
   "metadata": {},
   "source": [
    "# Агрегирование: минимум, максимум и все, что посередине"
   ]
  },
  {
   "cell_type": "markdown",
   "id": "cb55cfe2",
   "metadata": {},
   "source": [
    "## Суммирование значений из массива"
   ]
  },
  {
   "cell_type": "code",
   "execution_count": 167,
   "id": "4eedc83a",
   "metadata": {
    "scrolled": true
   },
   "outputs": [
    {
     "data": {
      "text/plain": [
       "50.617288930835684"
      ]
     },
     "execution_count": 167,
     "metadata": {},
     "output_type": "execute_result"
    }
   ],
   "source": [
    "import numpy as np\n",
    "\n",
    "l = np.random.random(100)\n",
    "sum(l)"
   ]
  },
  {
   "cell_type": "code",
   "execution_count": 168,
   "id": "91b42143",
   "metadata": {},
   "outputs": [
    {
     "data": {
      "text/plain": [
       "50.6172889308357"
      ]
     },
     "execution_count": 168,
     "metadata": {},
     "output_type": "execute_result"
    }
   ],
   "source": [
    "np.sum(l)"
   ]
  },
  {
   "cell_type": "code",
   "execution_count": 169,
   "id": "5986bf08",
   "metadata": {},
   "outputs": [
    {
     "name": "stdout",
     "output_type": "stream",
     "text": [
      "52.6 ms ± 145 µs per loop (mean ± std. dev. of 7 runs, 10 loops each)\n",
      "300 µs ± 2.69 µs per loop (mean ± std. dev. of 7 runs, 1,000 loops each)\n"
     ]
    }
   ],
   "source": [
    "big_array = np.random.rand(1000000)\n",
    "%timeit sum(big_array)\n",
    "%timeit np.sum(big_array)"
   ]
  },
  {
   "cell_type": "markdown",
   "id": "42163c17",
   "metadata": {},
   "source": [
    "## Минимум и максимум"
   ]
  },
  {
   "cell_type": "code",
   "execution_count": 170,
   "id": "2c94dd47",
   "metadata": {},
   "outputs": [
    {
     "data": {
      "text/plain": [
       "(6.036102300210899e-07, 0.9999969605678884)"
      ]
     },
     "execution_count": 170,
     "metadata": {},
     "output_type": "execute_result"
    }
   ],
   "source": [
    "min(big_array), max(big_array)"
   ]
  },
  {
   "cell_type": "code",
   "execution_count": 171,
   "id": "637f82dd",
   "metadata": {},
   "outputs": [
    {
     "data": {
      "text/plain": [
       "(6.036102300210899e-07, 0.9999969605678884)"
      ]
     },
     "execution_count": 171,
     "metadata": {},
     "output_type": "execute_result"
    }
   ],
   "source": [
    "np.min(big_array), np.max(big_array)"
   ]
  },
  {
   "cell_type": "code",
   "execution_count": 173,
   "id": "f4035ade",
   "metadata": {},
   "outputs": [
    {
     "name": "stdout",
     "output_type": "stream",
     "text": [
      "38.5 ms ± 177 µs per loop (mean ± std. dev. of 7 runs, 10 loops each)\n",
      "341 µs ± 6.1 µs per loop (mean ± std. dev. of 7 runs, 1,000 loops each)\n"
     ]
    }
   ],
   "source": [
    "%timeit min(big_array)\n",
    "%timeit np.min(big_array)"
   ]
  },
  {
   "cell_type": "code",
   "execution_count": 174,
   "id": "6f381fac",
   "metadata": {},
   "outputs": [
    {
     "name": "stdout",
     "output_type": "stream",
     "text": [
      "6.036102300210899e-07 0.9999969605678884 499518.71872294566\n"
     ]
    }
   ],
   "source": [
    "print(big_array.min(), big_array.max(), big_array.sum())"
   ]
  },
  {
   "cell_type": "markdown",
   "id": "14179a3e",
   "metadata": {},
   "source": [
    "### Многомерные сводные показатели"
   ]
  },
  {
   "cell_type": "code",
   "execution_count": 175,
   "id": "269bbc79",
   "metadata": {},
   "outputs": [
    {
     "name": "stdout",
     "output_type": "stream",
     "text": [
      "[[0.17847093 0.11357779 0.59874477 0.08731153]\n",
      " [0.74518692 0.96774691 0.2851812  0.32593843]\n",
      " [0.38510652 0.72678814 0.6428085  0.22501515]]\n"
     ]
    }
   ],
   "source": [
    "M = np.random.random((3, 4))\n",
    "print(M)"
   ]
  },
  {
   "cell_type": "code",
   "execution_count": 176,
   "id": "87a3478a",
   "metadata": {},
   "outputs": [
    {
     "data": {
      "text/plain": [
       "5.281876772645355"
      ]
     },
     "execution_count": 176,
     "metadata": {},
     "output_type": "execute_result"
    }
   ],
   "source": [
    "M.sum()"
   ]
  },
  {
   "cell_type": "code",
   "execution_count": 177,
   "id": "63aa6811",
   "metadata": {},
   "outputs": [
    {
     "data": {
      "text/plain": [
       "array([0.17847093, 0.11357779, 0.2851812 , 0.08731153])"
      ]
     },
     "execution_count": 177,
     "metadata": {},
     "output_type": "execute_result"
    }
   ],
   "source": [
    "# минимальное значение каждого столбца\n",
    "M.min(axis=0)"
   ]
  },
  {
   "cell_type": "code",
   "execution_count": 178,
   "id": "7f0411b7",
   "metadata": {},
   "outputs": [
    {
     "data": {
      "text/plain": [
       "array([0.08731153, 0.2851812 , 0.22501515])"
      ]
     },
     "execution_count": 178,
     "metadata": {},
     "output_type": "execute_result"
    }
   ],
   "source": [
    "# минимальное значение каждой строки\n",
    "M.min(axis=1)"
   ]
  },
  {
   "cell_type": "markdown",
   "id": "8f9c779f",
   "metadata": {},
   "source": [
    "Ключевое слово axis задает измерение массива, которое будет схлопнуто, а не возвращаемое измерение. Так что указание axis=0 означает, что первая ось будет схлопнута: для двумерных массивов значение в каждом из столбцов будут агрегированы."
   ]
  },
  {
   "cell_type": "markdown",
   "id": "c80d9f8b",
   "metadata": {},
   "source": [
    "### ПРИМЕР: чему равен средний рост президентов США"
   ]
  },
  {
   "cell_type": "code",
   "execution_count": 179,
   "id": "968fff0d",
   "metadata": {},
   "outputs": [
    {
     "name": "stdout",
     "output_type": "stream",
     "text": [
      "order,name,height(cm)\r\n",
      "1,George Washington,189\r\n",
      "2,John Adams,170\r\n",
      "3,Thomas Jefferson,189\r\n"
     ]
    }
   ],
   "source": [
    "!head -4 data/president_heights.csv"
   ]
  },
  {
   "cell_type": "code",
   "execution_count": 180,
   "id": "5a63fe70",
   "metadata": {},
   "outputs": [
    {
     "name": "stdout",
     "output_type": "stream",
     "text": [
      "[189 170 189 163 183 171 185 168 173 183 173 173 175 178 183 193 178 173\n",
      " 174 183 183 168 170 178 182 180 183 178 182 188 175 179 183 193 182 183\n",
      " 177 185 188 188 182 185]\n"
     ]
    }
   ],
   "source": [
    "import pandas as pd\n",
    "\n",
    "\n",
    "data = pd.read_csv('data/president_heights.csv')\n",
    "heights = np.array(data['height(cm)'])\n",
    "print(heights)"
   ]
  },
  {
   "cell_type": "code",
   "execution_count": 181,
   "id": "75ec51c9",
   "metadata": {},
   "outputs": [
    {
     "name": "stdout",
     "output_type": "stream",
     "text": [
      "Mean height:  179.73809523809524\n",
      "Standart deviation:  6.931843442745892\n",
      "Minimum height:  163\n",
      "Maximum height:  193\n"
     ]
    }
   ],
   "source": [
    "print(\"Mean height: \", heights.mean())\n",
    "print(\"Standart deviation: \", heights.std())\n",
    "print(\"Minimum height: \", heights.min())\n",
    "print(\"Maximum height: \", heights.max())"
   ]
  },
  {
   "cell_type": "code",
   "execution_count": 186,
   "id": "0f97db01",
   "metadata": {},
   "outputs": [
    {
     "data": {
      "text/plain": [
       "Text(0, 0.5, 'number')"
      ]
     },
     "execution_count": 186,
     "metadata": {},
     "output_type": "execute_result"
    },
    {
     "data": {
      "image/png": "[encoded data removed]",
      "text/plain": [
       "<Figure size 432x288 with 1 Axes>"
      ]
     },
     "metadata": {},
     "output_type": "display_data"
    }
   ],
   "source": [
    "%matplotlib inline\n",
    "import matplotlib.pyplot as plt\n",
    "\n",
    "import seaborn; seaborn.set() # задает стиль графика\n",
    "\n",
    "plt.hist(heights)\n",
    "plt.title('Height Distribution of US Presidents') # Распределение роста президентов США\n",
    "plt.xlabel('height (cm)') # Рост см\n",
    "plt.ylabel('number') #кол-во"
   ]
  },
  {
   "cell_type": "markdown",
   "id": "6efce536",
   "metadata": {},
   "source": [
    "# Операции над массивами. Транслирование"
   ]
  },
  {
   "cell_type": "markdown",
   "id": "b246d1fc",
   "metadata": {},
   "source": [
    "## Введение в транслирование"
   ]
  },
  {
   "cell_type": "code",
   "execution_count": 188,
   "id": "9f258422",
   "metadata": {},
   "outputs": [
    {
     "data": {
      "text/plain": [
       "array([5, 6, 7])"
      ]
     },
     "execution_count": 188,
     "metadata": {},
     "output_type": "execute_result"
    }
   ],
   "source": [
    "import numpy as np\n",
    "\n",
    "\n",
    "a = np.array([0, 1, 2])\n",
    "b = np.array([5, 5, 5])\n",
    "\n",
    "a + b"
   ]
  },
  {
   "cell_type": "code",
   "execution_count": 189,
   "id": "25660f3a",
   "metadata": {},
   "outputs": [
    {
     "data": {
      "text/plain": [
       "array([5, 6, 7])"
      ]
     },
     "execution_count": 189,
     "metadata": {},
     "output_type": "execute_result"
    }
   ],
   "source": [
    "a + 5"
   ]
  },
  {
   "cell_type": "code",
   "execution_count": 190,
   "id": "4712b432",
   "metadata": {},
   "outputs": [
    {
     "data": {
      "text/plain": [
       "array([[1., 1., 1.],\n",
       "       [1., 1., 1.],\n",
       "       [1., 1., 1.]])"
      ]
     },
     "execution_count": 190,
     "metadata": {},
     "output_type": "execute_result"
    }
   ],
   "source": [
    "M = np.ones((3, 3))\n",
    "M"
   ]
  },
  {
   "cell_type": "code",
   "execution_count": 191,
   "id": "53705b3c",
   "metadata": {},
   "outputs": [
    {
     "data": {
      "text/plain": [
       "array([[1., 2., 3.],\n",
       "       [1., 2., 3.],\n",
       "       [1., 2., 3.]])"
      ]
     },
     "execution_count": 191,
     "metadata": {},
     "output_type": "execute_result"
    }
   ],
   "source": [
    "M + a"
   ]
  },
  {
   "cell_type": "code",
   "execution_count": 192,
   "id": "4926f458",
   "metadata": {},
   "outputs": [
    {
     "name": "stdout",
     "output_type": "stream",
     "text": [
      "[0 1 2]\n",
      "[[0]\n",
      " [1]\n",
      " [2]]\n"
     ]
    }
   ],
   "source": [
    "a = np.arange(3)\n",
    "b = np.arange(3)[:, np.newaxis]\n",
    "print(a)\n",
    "print(b)"
   ]
  },
  {
   "cell_type": "code",
   "execution_count": 193,
   "id": "8d5e5a7f",
   "metadata": {},
   "outputs": [
    {
     "data": {
      "text/plain": [
       "array([[0, 1, 2],\n",
       "       [1, 2, 3],\n",
       "       [2, 3, 4]])"
      ]
     },
     "execution_count": 193,
     "metadata": {},
     "output_type": "execute_result"
    }
   ],
   "source": [
    "a + b"
   ]
  },
  {
   "cell_type": "markdown",
   "id": "396178ae",
   "metadata": {},
   "source": [
    "## Правило транслирования"
   ]
  },
  {
   "cell_type": "markdown",
   "id": "117cd6d5",
   "metadata": {},
   "source": [
    "Правило 1: если размерность двух массивов отличается, форма массива с меньшей размерностью дополняется единицами с ведущей (левой) стороны.\n",
    "\n",
    "Правило 2: если форма двух массивов не совпадает в каком-то измерении, массив с формой, равной 1 в данном измерении, растягивается вплоть до соответствия форме другого массива.\n",
    "\n",
    "Правило 3: если в каком либо измерении размеры массивов различаются и ни один не равен 1, генерируется ошикба"
   ]
  },
  {
   "cell_type": "markdown",
   "id": "1e79dcdb",
   "metadata": {},
   "source": [
    "### Транслирование. Пример 1"
   ]
  },
  {
   "cell_type": "code",
   "execution_count": 199,
   "id": "26afcddc",
   "metadata": {},
   "outputs": [
    {
     "name": "stdout",
     "output_type": "stream",
     "text": [
      "[[1. 1. 1.]\n",
      " [1. 1. 1.]]\n",
      "[0 1 2]\n",
      "[[1. 1. 1.]\n",
      " [1. 1. 1.]]\n",
      "[0 1 2]\n"
     ]
    },
    {
     "data": {
      "text/plain": [
       "array([[1., 2., 3.],\n",
       "       [1., 2., 3.]])"
      ]
     },
     "execution_count": 199,
     "metadata": {},
     "output_type": "execute_result"
    }
   ],
   "source": [
    "# сложение двумерного массива с одномерным\n",
    "\n",
    "M = np.ones((2, 3))\n",
    "a = np.arange(3)\n",
    "\n",
    "print(M)\n",
    "print(a)\n",
    "\n",
    "M.shape = (2, 3)\n",
    "a.shape = (3,)\n",
    "\n",
    "print(M)\n",
    "print(a)\n",
    "\n",
    "# по правилу 1, поскольку размерность массива a меньше, мы дополняем его измерением слева\n",
    "\n",
    "#M.shape = (2, 3)\n",
    "#a.shape = (1, 3)\n",
    "\n",
    "# по правилу 2 мы видим что измерение первого массива различается, так что мы растягиваем его вплоть до совпадения\n",
    "\n",
    "#M.shape = (2, 3)\n",
    "#a.shape = (2, 3)\n",
    "\n",
    "# формы совпадают и мы видим что итоговая форма будет (2, 3)\n",
    "\n",
    "M + a"
   ]
  },
  {
   "cell_type": "markdown",
   "id": "0ab21a37",
   "metadata": {},
   "source": [
    "### Транслирование. Пример 2"
   ]
  },
  {
   "cell_type": "code",
   "execution_count": 203,
   "id": "4b416465",
   "metadata": {},
   "outputs": [
    {
     "name": "stdout",
     "output_type": "stream",
     "text": [
      "[[0]\n",
      " [1]\n",
      " [2]]\n",
      "[0 1 2]\n"
     ]
    },
    {
     "data": {
      "text/plain": [
       "array([[0, 1, 2],\n",
       "       [1, 2, 3],\n",
       "       [2, 3, 4]])"
      ]
     },
     "execution_count": 203,
     "metadata": {},
     "output_type": "execute_result"
    }
   ],
   "source": [
    "# Пример в котором необходимо транслировать оба массива\n",
    "\n",
    "a = np.arange(3).reshape((3, 1))\n",
    "b = np.arange(3)\n",
    "\n",
    "print(a)\n",
    "print(b)\n",
    "\n",
    "# форма массиво на данный момент такая\n",
    "a.shape = (3, 1)\n",
    "b.shape = (3,)\n",
    "\n",
    "# правило 1 гласит, что мы должны дополнить форму массива b единицами\n",
    "\n",
    "# a.shape = (3, 1)\n",
    "# b.shape = (1, 3)\n",
    "\n",
    "# Правило 2 говорит, что нужно увеличивать эти единицы вплоть до совпадения с размером другого массива\n",
    "\n",
    "# a.shape = (3, 3)\n",
    "# b.shape = (3, 3)\n",
    "\n",
    "# Поскольку рузультаты совпадают, формы совместимы\n",
    "\n",
    "a + b"
   ]
  },
  {
   "cell_type": "markdown",
   "id": "de6b34f5",
   "metadata": {},
   "source": [
    "### Транслирование. Пример 3"
   ]
  },
  {
   "cell_type": "code",
   "execution_count": 206,
   "id": "9317311a",
   "metadata": {},
   "outputs": [
    {
     "ename": "ValueError",
     "evalue": "operands could not be broadcast together with shapes (3,2) (3,) ",
     "output_type": "error",
     "traceback": [
      "\u001b[0;31m---------------------------------------------------------------------------\u001b[0m",
      "\u001b[0;31mValueError\u001b[0m                                Traceback (most recent call last)",
      "Input \u001b[0;32mIn [206]\u001b[0m, in \u001b[0;36m<cell line: 21>\u001b[0;34m()\u001b[0m\n\u001b[1;32m      3\u001b[0m a \u001b[38;5;241m=\u001b[39m np\u001b[38;5;241m.\u001b[39marange(\u001b[38;5;241m3\u001b[39m)\n\u001b[1;32m      5\u001b[0m \u001b[38;5;66;03m# M.shape = (3, 2)\u001b[39;00m\n\u001b[1;32m      6\u001b[0m \u001b[38;5;66;03m# a.shape = (3,)\u001b[39;00m\n\u001b[1;32m      7\u001b[0m \n\u001b[0;32m   (...)\u001b[0m\n\u001b[1;32m     18\u001b[0m \u001b[38;5;66;03m# Теперь вступают в действие правило 3 = тоговые формы не совпадают, так что массивы несовместимы, \u001b[39;00m\n\u001b[1;32m     19\u001b[0m \u001b[38;5;66;03m# что мы и видим попытавшись выполнить данную операцию\u001b[39;00m\n\u001b[0;32m---> 21\u001b[0m \u001b[43mM\u001b[49m\u001b[43m \u001b[49m\u001b[38;5;241;43m+\u001b[39;49m\u001b[43m \u001b[49m\u001b[43ma\u001b[49m\n",
      "\u001b[0;31mValueError\u001b[0m: operands could not be broadcast together with shapes (3,2) (3,) "
     ]
    }
   ],
   "source": [
    "# Пример в котором два массива несовместимы\n",
    "M = np.ones((3, 2))\n",
    "a = np.arange(3)\n",
    "\n",
    "# M.shape = (3, 2)\n",
    "# a.shape = (3,)\n",
    "\n",
    "# правило один требует от нас дополнить форму массива a единицами\n",
    "\n",
    "# M.shape = (3, 2)\n",
    "# a.shape = (1, 3)\n",
    "\n",
    "# Согласно правилу 2 первое измерение массива а растягивается, чтобы соответствовать таковому массива M\n",
    "\n",
    "# M.shape = (3, 2)\n",
    "# a.shape = (3, 3)\n",
    "\n",
    "# Теперь вступают в действие правило 3 = тоговые формы не совпадают, так что массивы несовместимы, \n",
    "# что мы и видим попытавшись выполнить данную операцию\n",
    "\n",
    "M + a"
   ]
  },
  {
   "cell_type": "code",
   "execution_count": 207,
   "id": "6e3c68e7",
   "metadata": {},
   "outputs": [
    {
     "data": {
      "text/plain": [
       "(3, 1)"
      ]
     },
     "execution_count": 207,
     "metadata": {},
     "output_type": "execute_result"
    }
   ],
   "source": [
    "a[:, np.newaxis].shape"
   ]
  },
  {
   "cell_type": "code",
   "execution_count": 208,
   "id": "77733cf7",
   "metadata": {},
   "outputs": [
    {
     "data": {
      "text/plain": [
       "array([[1., 1.],\n",
       "       [2., 2.],\n",
       "       [3., 3.]])"
      ]
     },
     "execution_count": 208,
     "metadata": {},
     "output_type": "execute_result"
    }
   ],
   "source": [
    "M + a[:, np.newaxis]"
   ]
  },
  {
   "cell_type": "code",
   "execution_count": 209,
   "id": "23a85616",
   "metadata": {},
   "outputs": [
    {
     "data": {
      "text/plain": [
       "array([[1.31326169, 1.31326169],\n",
       "       [1.69314718, 1.69314718],\n",
       "       [2.31326169, 2.31326169]])"
      ]
     },
     "execution_count": 209,
     "metadata": {},
     "output_type": "execute_result"
    }
   ],
   "source": [
    "# функция logaddexp вычисляет log(exp(a) + exp(b))\n",
    "np.logaddexp(M, a[:, np.newaxis])"
   ]
  },
  {
   "cell_type": "markdown",
   "id": "37ba1eca",
   "metadata": {},
   "source": [
    "## Транслирование на практике"
   ]
  },
  {
   "cell_type": "markdown",
   "id": "68d21bba",
   "metadata": {},
   "source": [
    "### Центрирование массива"
   ]
  },
  {
   "cell_type": "code",
   "execution_count": 212,
   "id": "97df5d57",
   "metadata": {},
   "outputs": [
    {
     "name": "stdout",
     "output_type": "stream",
     "text": [
      "[[0.48860616 0.72725793 0.64393462]\n",
      " [0.87549045 0.3929974  0.87374818]\n",
      " [0.79885799 0.12974611 0.27466271]\n",
      " [0.70193791 0.14250993 0.29939777]\n",
      " [0.79882185 0.65887198 0.33500668]\n",
      " [0.2377706  0.49126548 0.20563215]\n",
      " [0.68971799 0.28082807 0.07007766]\n",
      " [0.90024382 0.36181452 0.41291768]\n",
      " [0.67706928 0.67641792 0.05209465]\n",
      " [0.67351278 0.99527528 0.80532107]]\n"
     ]
    }
   ],
   "source": [
    "X = np.random.random((10, 3))\n",
    "print(X)"
   ]
  },
  {
   "cell_type": "code",
   "execution_count": 223,
   "id": "d96954e0",
   "metadata": {},
   "outputs": [
    {
     "name": "stdout",
     "output_type": "stream",
     "text": [
      "[0.68420288 0.48569846 0.39727932]\n"
     ]
    }
   ],
   "source": [
    "Xmean = X.mean(0)\n",
    "print(Xmean)"
   ]
  },
  {
   "cell_type": "code",
   "execution_count": 217,
   "id": "99fe6753",
   "metadata": {},
   "outputs": [
    {
     "name": "stdout",
     "output_type": "stream",
     "text": [
      "[[-0.19559672  0.24155947  0.2466553 ]\n",
      " [ 0.19128756 -0.09270106  0.47646886]\n",
      " [ 0.11465511 -0.35595235 -0.12261661]\n",
      " [ 0.01773503 -0.34318853 -0.09788154]\n",
      " [ 0.11461897  0.17317352 -0.06227264]\n",
      " [-0.44643228  0.00556702 -0.19164717]\n",
      " [ 0.0055151  -0.20487039 -0.32720165]\n",
      " [ 0.21604094 -0.12388394  0.01563836]\n",
      " [-0.0071336   0.19071946 -0.34518467]\n",
      " [-0.0106901   0.50957682  0.40804176]]\n"
     ]
    }
   ],
   "source": [
    "# центрирование - это вычитание среднего значения из массива X\n",
    "X_centered = X - Xmean\n",
    "print(X_centered)"
   ]
  },
  {
   "cell_type": "code",
   "execution_count": 224,
   "id": "6a85cbdd",
   "metadata": {},
   "outputs": [
    {
     "data": {
      "text/plain": [
       "array([1.11022302e-17, 0.00000000e+00, 0.00000000e+00])"
      ]
     },
     "execution_count": 224,
     "metadata": {},
     "output_type": "execute_result"
    }
   ],
   "source": [
    "X_centered.mean(0)"
   ]
  },
  {
   "cell_type": "markdown",
   "id": "05416576",
   "metadata": {},
   "source": [
    "### Построение графика двумерной функции"
   ]
  },
  {
   "cell_type": "code",
   "execution_count": 232,
   "id": "c8005cd5",
   "metadata": {},
   "outputs": [
    {
     "data": {
      "image/png": "[encoded data removed]",
      "text/plain": [
       "<Figure size 432x288 with 2 Axes>"
      ]
     },
     "metadata": {
      "needs_background": "light"
     },
     "output_type": "display_data"
    }
   ],
   "source": [
    "# Задаем для x и y 50 шагов от 0 до 5\n",
    "x = np.linspace(0, 5, 50)\n",
    "y = np.linspace(0, 5, 50)[:, np.newaxis]\n",
    "\n",
    "z = np.sin(x)**10 + np.cos(10 + y * x) * np.cos(x)\n",
    "\n",
    "%matplotlib inline\n",
    "import matplotlib.pyplot as plt\n",
    "\n",
    "plt.imshow(z, origin='lower', extent=[0, 5, 0, 5], cmap='viridis')\n",
    "plt.colorbar();"
   ]
  },
  {
   "cell_type": "markdown",
   "id": "5b9d1594",
   "metadata": {},
   "source": [
    "# Сравнения, маски и булева логика"
   ]
  },
  {
   "cell_type": "code",
   "execution_count": 235,
   "id": "c70f45cf",
   "metadata": {},
   "outputs": [
    {
     "name": "stdout",
     "output_type": "stream",
     "text": [
      "[  0  41  15   0   0   3 122  97  58  43 213  15   0   0   0   0   0   0\n",
      "   0   0   0   5   0   0   0   0   0  89 216   0  23  20   0   0   0   0\n",
      "   0   0  51   5 183 170  46  18  94 117 264 145 152  10  30  28  25  61\n",
      " 130   3   0   0   0   5 191 107 165 467  30   0 323  43 188   0   0   5\n",
      "  69  81 277   3   0   5   0   0   0   0   0  41  36   3 221 140   0   0\n",
      "   0   0  25   0  46   0   0  46   0   0   0   0   0   0   5 109 185   0\n",
      " 137   0  51 142  89 124   0  33  69   0   0   0   0   0 333 160  51   0\n",
      "   0 137  20   5   0   0   0   0   0   0   0   0   0   0   0   0  38   0\n",
      "  56   0   0   0   0   0   0   0   0   0   0   0   0   0   0   0   0   0\n",
      "  18  64   0   5  36  13   0   8   3   0   0   0   0   0   0  18  23   0\n",
      "   0   0   0   0   0   0   0   0   0   0   0   0   0   0   0   0   0   0\n",
      "   0   0   0   0   3 193   0   0   0   0   0   0   0   0   0   5   0   0\n",
      "   0   0   0   0   0   0   5 127 216   0  10   0   0   0   0   0   0   0\n",
      "   0   0   0   0   0   0   0  84  13   0  30   0   0   0   0   0   0   0\n",
      "   0   0   0   0   0   0   0   5   3   0   0   0   3 183 203  43  89   0\n",
      "   0   8   0   0   0   0   0   0   0   0   0   0   3  74   0  76  71  86\n",
      "   0  33 150   0 117  10 320  94  41  61  15   8 127   5 254 170   0  18\n",
      " 109  41  48  41   0   0  51   0   0   0   0   0   0   0   0   0   0  36\n",
      " 152   5 119  13 183   3  33 343  36   0   0   0   0   8  30  74   0  91\n",
      "  99 130  69   0   0   0   0   0  28 130  30 196   0   0 206  53   0   0\n",
      "  33  41   0   0   0]\n"
     ]
    }
   ],
   "source": [
    "# Подсчет дождливых дней в году\n",
    "\n",
    "import numpy as np\n",
    "import pandas as pd\n",
    "\n",
    "# извлекаем из файла кол-во осадков в дюймах\n",
    "rainfall = pd.read_csv('data/Seattle2014.csv')['PRCP'].values\n",
    "print(rainfall)\n",
    "inches = rainfall / 254 # 1/10mm -> inches\n",
    "\n",
    "%matplotlib inline\n",
    "import matplotlib.pyplot as plt\n",
    "import seaborn; seaborn.set()"
   ]
  },
  {
   "cell_type": "code",
   "execution_count": 236,
   "id": "f45b8f72",
   "metadata": {},
   "outputs": [
    {
     "data": {
      "text/plain": [
       "(array([245.,  14.,  13.,  17.,   8.,   6.,   5.,   6.,   4.,   3.,   7.,\n",
       "          6.,   3.,   3.,   3.,   4.,   4.,   2.,   4.,   0.,   0.,   1.,\n",
       "          1.,   1.,   0.,   0.,   0.,   2.,   1.,   1.,   0.,   0.,   0.,\n",
       "          0.,   0.,   0.,   0.,   0.,   0.,   1.]),\n",
       " array([0.        , 0.04596457, 0.09192913, 0.1378937 , 0.18385827,\n",
       "        0.22982283, 0.2757874 , 0.32175197, 0.36771654, 0.4136811 ,\n",
       "        0.45964567, 0.50561024, 0.5515748 , 0.59753937, 0.64350394,\n",
       "        0.6894685 , 0.73543307, 0.78139764, 0.8273622 , 0.87332677,\n",
       "        0.91929134, 0.96525591, 1.01122047, 1.05718504, 1.10314961,\n",
       "        1.14911417, 1.19507874, 1.24104331, 1.28700787, 1.33297244,\n",
       "        1.37893701, 1.42490157, 1.47086614, 1.51683071, 1.56279528,\n",
       "        1.60875984, 1.65472441, 1.70068898, 1.74665354, 1.79261811,\n",
       "        1.83858268]),\n",
       " <BarContainer object of 40 artists>)"
      ]
     },
     "execution_count": 236,
     "metadata": {},
     "output_type": "execute_result"
    },
    {
     "data": {
      "image/png": "[encoded data removed]",
      "text/plain": [
       "<Figure size 432x288 with 1 Axes>"
      ]
     },
     "metadata": {},
     "output_type": "display_data"
    }
   ],
   "source": [
    "plt.hist(inches, 40)"
   ]
  },
  {
   "cell_type": "markdown",
   "id": "362a1507",
   "metadata": {},
   "source": [
    "## Операторы сравнения как универсальные функции"
   ]
  },
  {
   "cell_type": "code",
   "execution_count": 238,
   "id": "44b905ae",
   "metadata": {},
   "outputs": [],
   "source": [
    "x = np.array([1, 2, 3, 4, 5])"
   ]
  },
  {
   "cell_type": "code",
   "execution_count": 239,
   "id": "98839983",
   "metadata": {},
   "outputs": [
    {
     "data": {
      "text/plain": [
       "array([ True,  True, False, False, False])"
      ]
     },
     "execution_count": 239,
     "metadata": {},
     "output_type": "execute_result"
    }
   ],
   "source": [
    "x < 3"
   ]
  },
  {
   "cell_type": "code",
   "execution_count": 240,
   "id": "ac5ac9e7",
   "metadata": {},
   "outputs": [
    {
     "data": {
      "text/plain": [
       "array([False, False, False,  True,  True])"
      ]
     },
     "execution_count": 240,
     "metadata": {},
     "output_type": "execute_result"
    }
   ],
   "source": [
    "x > 3"
   ]
  },
  {
   "cell_type": "code",
   "execution_count": 241,
   "id": "7927fa04",
   "metadata": {},
   "outputs": [
    {
     "data": {
      "text/plain": [
       "array([ True,  True,  True, False, False])"
      ]
     },
     "execution_count": 241,
     "metadata": {},
     "output_type": "execute_result"
    }
   ],
   "source": [
    "x <= 3"
   ]
  },
  {
   "cell_type": "code",
   "execution_count": 242,
   "id": "66aea8e4",
   "metadata": {},
   "outputs": [
    {
     "data": {
      "text/plain": [
       "array([False, False,  True,  True,  True])"
      ]
     },
     "execution_count": 242,
     "metadata": {},
     "output_type": "execute_result"
    }
   ],
   "source": [
    "x >= 3"
   ]
  },
  {
   "cell_type": "code",
   "execution_count": 243,
   "id": "8fcb878d",
   "metadata": {},
   "outputs": [
    {
     "data": {
      "text/plain": [
       "array([ True,  True, False,  True,  True])"
      ]
     },
     "execution_count": 243,
     "metadata": {},
     "output_type": "execute_result"
    }
   ],
   "source": [
    "x != 3"
   ]
  },
  {
   "cell_type": "code",
   "execution_count": 244,
   "id": "701d82ca",
   "metadata": {},
   "outputs": [
    {
     "data": {
      "text/plain": [
       "array([False, False,  True, False, False])"
      ]
     },
     "execution_count": 244,
     "metadata": {},
     "output_type": "execute_result"
    }
   ],
   "source": [
    "x == 3"
   ]
  },
  {
   "cell_type": "code",
   "execution_count": 245,
   "id": "cc44926e",
   "metadata": {},
   "outputs": [
    {
     "data": {
      "text/plain": [
       "array([False,  True, False, False, False])"
      ]
     },
     "execution_count": 245,
     "metadata": {},
     "output_type": "execute_result"
    }
   ],
   "source": [
    "(2 * x) == (x ** 2)"
   ]
  },
  {
   "cell_type": "code",
   "execution_count": 246,
   "id": "c091b9b2",
   "metadata": {},
   "outputs": [
    {
     "data": {
      "text/plain": [
       "array([ 2,  4,  6,  8, 10])"
      ]
     },
     "execution_count": 246,
     "metadata": {},
     "output_type": "execute_result"
    }
   ],
   "source": [
    "2 * x"
   ]
  },
  {
   "cell_type": "code",
   "execution_count": 247,
   "id": "9c8b267a",
   "metadata": {},
   "outputs": [
    {
     "data": {
      "text/plain": [
       "array([ 1,  4,  9, 16, 25])"
      ]
     },
     "execution_count": 247,
     "metadata": {},
     "output_type": "execute_result"
    }
   ],
   "source": [
    "x ** 2"
   ]
  },
  {
   "cell_type": "code",
   "execution_count": 250,
   "id": "e405123a",
   "metadata": {},
   "outputs": [
    {
     "name": "stdout",
     "output_type": "stream",
     "text": [
      "RandomState(MT19937)\n"
     ]
    },
    {
     "data": {
      "text/plain": [
       "array([[5, 0, 3, 3],\n",
       "       [7, 9, 3, 5],\n",
       "       [2, 4, 7, 6]])"
      ]
     },
     "execution_count": 250,
     "metadata": {},
     "output_type": "execute_result"
    }
   ],
   "source": [
    "rng = np.random.RandomState(0)\n",
    "print(rng)\n",
    "x = rng.randint(10, size=(3, 4))\n",
    "x"
   ]
  },
  {
   "cell_type": "code",
   "execution_count": 251,
   "id": "7356b1b1",
   "metadata": {},
   "outputs": [
    {
     "data": {
      "text/plain": [
       "array([[ True,  True,  True,  True],\n",
       "       [False, False,  True,  True],\n",
       "       [ True,  True, False, False]])"
      ]
     },
     "execution_count": 251,
     "metadata": {},
     "output_type": "execute_result"
    }
   ],
   "source": [
    "x < 6"
   ]
  },
  {
   "cell_type": "markdown",
   "id": "bb1746fe",
   "metadata": {},
   "source": [
    "## Работа с булевыми массивами"
   ]
  },
  {
   "cell_type": "markdown",
   "id": "627f2593",
   "metadata": {},
   "source": [
    "### Подсчет кол-ва элементов"
   ]
  },
  {
   "cell_type": "code",
   "execution_count": 253,
   "id": "159aa95d",
   "metadata": {},
   "outputs": [
    {
     "data": {
      "text/plain": [
       "8"
      ]
     },
     "execution_count": 253,
     "metadata": {},
     "output_type": "execute_result"
    }
   ],
   "source": [
    "# для подсчета True удобно использовать np.count_nonzero\n",
    "# сколько значений массива меньше 6\n",
    "np.count_nonzero(x < 6)"
   ]
  },
  {
   "cell_type": "code",
   "execution_count": 254,
   "id": "ac58d32d",
   "metadata": {},
   "outputs": [
    {
     "data": {
      "text/plain": [
       "array([4, 2, 2])"
      ]
     },
     "execution_count": 254,
     "metadata": {},
     "output_type": "execute_result"
    }
   ],
   "source": [
    "# Сколько значений меньше 6 содержится в каждой строке?\n",
    "np.sum(x < 6, axis=1)"
   ]
  },
  {
   "cell_type": "code",
   "execution_count": 255,
   "id": "2a1e558e",
   "metadata": {},
   "outputs": [
    {
     "data": {
      "text/plain": [
       "True"
      ]
     },
     "execution_count": 255,
     "metadata": {},
     "output_type": "execute_result"
    }
   ],
   "source": [
    "# имеются ли в массиве какие-либо значения, превышающие 8?\n",
    "np.any(x > 8)"
   ]
  },
  {
   "cell_type": "code",
   "execution_count": 256,
   "id": "99e4547e",
   "metadata": {},
   "outputs": [
    {
     "data": {
      "text/plain": [
       "False"
      ]
     },
     "execution_count": 256,
     "metadata": {},
     "output_type": "execute_result"
    }
   ],
   "source": [
    "# имеются ли в массиве какие-либо значения меньше 0?\n",
    "np.any(x < 0)"
   ]
  },
  {
   "cell_type": "code",
   "execution_count": 257,
   "id": "e6a29e04",
   "metadata": {},
   "outputs": [
    {
     "data": {
      "text/plain": [
       "True"
      ]
     },
     "execution_count": 257,
     "metadata": {},
     "output_type": "execute_result"
    }
   ],
   "source": [
    "# все ли значения меньше 10?\n",
    "np.all(x < 10)"
   ]
  },
  {
   "cell_type": "code",
   "execution_count": 258,
   "id": "7f75c2f7",
   "metadata": {},
   "outputs": [
    {
     "data": {
      "text/plain": [
       "False"
      ]
     },
     "execution_count": 258,
     "metadata": {},
     "output_type": "execute_result"
    }
   ],
   "source": [
    "# все ли значения равны 6?\n",
    "np.all(x == 6)"
   ]
  },
  {
   "cell_type": "code",
   "execution_count": 259,
   "id": "dd3d9907",
   "metadata": {},
   "outputs": [
    {
     "data": {
      "text/plain": [
       "array([ True, False,  True])"
      ]
     },
     "execution_count": 259,
     "metadata": {},
     "output_type": "execute_result"
    }
   ],
   "source": [
    "# функции any и all можно использовать по конкретным осям\n",
    "\n",
    "# все ли значения в каждой строке меньше 8?\n",
    "np.all(x < 8, axis=1)"
   ]
  },
  {
   "cell_type": "markdown",
   "id": "08149fa9",
   "metadata": {},
   "source": [
    "### Булевы операторы"
   ]
  },
  {
   "cell_type": "code",
   "execution_count": 260,
   "id": "42bc1879",
   "metadata": {},
   "outputs": [
    {
     "data": {
      "text/plain": [
       "29"
      ]
     },
     "execution_count": 260,
     "metadata": {},
     "output_type": "execute_result"
    }
   ],
   "source": [
    "np.sum((inches > 0.5) & (inches < 1))"
   ]
  },
  {
   "cell_type": "markdown",
   "id": "2757defe",
   "metadata": {},
   "source": [
    "## Булевы массивы как маски"
   ]
  },
  {
   "cell_type": "code",
   "execution_count": 262,
   "id": "5943e8b7",
   "metadata": {},
   "outputs": [
    {
     "data": {
      "text/plain": [
       "array([[5, 0, 3, 3],\n",
       "       [7, 9, 3, 5],\n",
       "       [2, 4, 7, 6]])"
      ]
     },
     "execution_count": 262,
     "metadata": {},
     "output_type": "execute_result"
    }
   ],
   "source": [
    "x"
   ]
  },
  {
   "cell_type": "code",
   "execution_count": 263,
   "id": "bb337d2d",
   "metadata": {},
   "outputs": [
    {
     "data": {
      "text/plain": [
       "array([[False,  True,  True,  True],\n",
       "       [False, False,  True, False],\n",
       "       [ True,  True, False, False]])"
      ]
     },
     "execution_count": 263,
     "metadata": {},
     "output_type": "execute_result"
    }
   ],
   "source": [
    "x < 5"
   ]
  },
  {
   "cell_type": "code",
   "execution_count": 264,
   "id": "7f4b96c7",
   "metadata": {},
   "outputs": [
    {
     "data": {
      "text/plain": [
       "array([0, 3, 3, 3, 2, 4])"
      ]
     },
     "execution_count": 264,
     "metadata": {},
     "output_type": "execute_result"
    }
   ],
   "source": [
    "# наложение маски или маскирование\n",
    "x[x<5]"
   ]
  },
  {
   "cell_type": "code",
   "execution_count": 274,
   "id": "39c2f69f",
   "metadata": {},
   "outputs": [
    {
     "name": "stdout",
     "output_type": "stream",
     "text": [
      "Median precip on rainy days in 2014 (inches):  0.19488188976377951\n",
      "Median precip on summer days in 2014 (inches):  0.0\n",
      "Maximum precip on summer days in 2014 (inches):  0.8503937007874016\n",
      "Median precip in nin-summer rainy days (inches):  0.20078740157480315\n"
     ]
    }
   ],
   "source": [
    "# создаем маску для всех дождливых дней\n",
    "rainy = (inches > 0)\n",
    "# создаем маску для всех летних дней (21 июня - 172 день)\n",
    "days = np.arange(365)\n",
    "summer = (days > 172) & (days < 262)\n",
    "print(\"Median precip on rainy days in 2014 (inches): \", np.median(inches[rainy]))\n",
    "print(\"Median precip on summer days in 2014 (inches): \", np.median(inches[summer]))\n",
    "print(\"Maximum precip on summer days in 2014 (inches): \", np.max(inches[summer]))\n",
    "print(\"Median precip in nin-summer rainy days (inches): \", np.median(inches[rainy & ~summer]))"
   ]
  },
  {
   "cell_type": "markdown",
   "id": "2ec85c50",
   "metadata": {},
   "source": [
    "# Прихотиливая индексация"
   ]
  },
  {
   "cell_type": "markdown",
   "id": "9ba311b2",
   "metadata": {},
   "source": [
    "## Исследуем возможность прихотливой индексации"
   ]
  },
  {
   "cell_type": "code",
   "execution_count": 276,
   "id": "af051e1c",
   "metadata": {},
   "outputs": [
    {
     "name": "stdout",
     "output_type": "stream",
     "text": [
      "[51 92 14 71 60 20 82 86 74 74]\n"
     ]
    }
   ],
   "source": [
    "# суть индексации проста - она заключается в передаче массива индексов с целью одновременного доступа \n",
    "# к несколькм элементамм массива\n",
    "\n",
    "import numpy as np\n",
    "\n",
    "rand = np.random.RandomState(42)\n",
    "\n",
    "x = rand.randint(100, size=10)\n",
    "print(x)"
   ]
  },
  {
   "cell_type": "code",
   "execution_count": 278,
   "id": "8d88b996",
   "metadata": {},
   "outputs": [
    {
     "data": {
      "text/plain": [
       "[71, 86, 14]"
      ]
     },
     "execution_count": 278,
     "metadata": {},
     "output_type": "execute_result"
    }
   ],
   "source": [
    "[x[3], x[7], x[2]]"
   ]
  },
  {
   "cell_type": "code",
   "execution_count": 279,
   "id": "47ee18a1",
   "metadata": {},
   "outputs": [
    {
     "data": {
      "text/plain": [
       "array([71, 86, 14])"
      ]
     },
     "execution_count": 279,
     "metadata": {},
     "output_type": "execute_result"
    }
   ],
   "source": [
    "# можно передать единый список индексов и получить тот же результат\n",
    "ind = [3, 7, 2]\n",
    "x[ind]"
   ]
  },
  {
   "cell_type": "code",
   "execution_count": 280,
   "id": "8ca1f766",
   "metadata": {},
   "outputs": [
    {
     "data": {
      "text/plain": [
       "array([[71, 86],\n",
       "       [60, 20]])"
      ]
     },
     "execution_count": 280,
     "metadata": {},
     "output_type": "execute_result"
    }
   ],
   "source": [
    "ind = np.array([[3, 7],\n",
    "                [4, 5]])\n",
    "x[ind]"
   ]
  },
  {
   "cell_type": "code",
   "execution_count": 281,
   "id": "9edfb93e",
   "metadata": {},
   "outputs": [
    {
     "data": {
      "text/plain": [
       "array([[ 0,  1,  2,  3],\n",
       "       [ 4,  5,  6,  7],\n",
       "       [ 8,  9, 10, 11]])"
      ]
     },
     "execution_count": 281,
     "metadata": {},
     "output_type": "execute_result"
    }
   ],
   "source": [
    "X = np.arange(12).reshape((3, 4))\n",
    "X"
   ]
  },
  {
   "cell_type": "code",
   "execution_count": 282,
   "id": "51aa3f93",
   "metadata": {},
   "outputs": [
    {
     "data": {
      "text/plain": [
       "array([ 2,  5, 11])"
      ]
     },
     "execution_count": 282,
     "metadata": {},
     "output_type": "execute_result"
    }
   ],
   "source": [
    "# Аналогично обычной индексации первый индекс относится к строкам, а второй к столбцам\n",
    "row = np.array([0, 1, 2])\n",
    "col = np.array([2, 1, 3])\n",
    "X[row, col]"
   ]
  },
  {
   "cell_type": "code",
   "execution_count": 283,
   "id": "64ca1678",
   "metadata": {},
   "outputs": [
    {
     "data": {
      "text/plain": [
       "2"
      ]
     },
     "execution_count": 283,
     "metadata": {},
     "output_type": "execute_result"
    }
   ],
   "source": [
    "# Первое значение в результате\n",
    "X[0, 2]"
   ]
  },
  {
   "cell_type": "code",
   "execution_count": 284,
   "id": "90c4952d",
   "metadata": {},
   "outputs": [
    {
     "data": {
      "text/plain": [
       "5"
      ]
     },
     "execution_count": 284,
     "metadata": {},
     "output_type": "execute_result"
    }
   ],
   "source": [
    "# второе\n",
    "X[1, 1]"
   ]
  },
  {
   "cell_type": "code",
   "execution_count": 285,
   "id": "b077f7b0",
   "metadata": {},
   "outputs": [
    {
     "data": {
      "text/plain": [
       "11"
      ]
     },
     "execution_count": 285,
     "metadata": {},
     "output_type": "execute_result"
    }
   ],
   "source": [
    "# третье\n",
    "X[2, 3]"
   ]
  },
  {
   "cell_type": "code",
   "execution_count": 286,
   "id": "30f781d9",
   "metadata": {},
   "outputs": [
    {
     "data": {
      "text/plain": [
       "array([[0],\n",
       "       [1],\n",
       "       [2]])"
      ]
     },
     "execution_count": 286,
     "metadata": {},
     "output_type": "execute_result"
    }
   ],
   "source": [
    "row[:, np.newaxis]"
   ]
  },
  {
   "cell_type": "code",
   "execution_count": 304,
   "id": "9307f74e",
   "metadata": {},
   "outputs": [
    {
     "data": {
      "text/plain": [
       "array([[ 2,  1,  3],\n",
       "       [ 6,  5,  7],\n",
       "       [10,  9, 11]])"
      ]
     },
     "execution_count": 304,
     "metadata": {},
     "output_type": "execute_result"
    }
   ],
   "source": [
    "X[row[:, np.newaxis], col]"
   ]
  },
  {
   "cell_type": "markdown",
   "id": "3f80a893",
   "metadata": {},
   "source": [
    "## Комбинированная индексация"
   ]
  },
  {
   "cell_type": "code",
   "execution_count": 305,
   "id": "df6b0a06",
   "metadata": {},
   "outputs": [
    {
     "name": "stdout",
     "output_type": "stream",
     "text": [
      "[[ 0  1  2  3]\n",
      " [ 4  5  6  7]\n",
      " [ 8  9 10 11]]\n"
     ]
    }
   ],
   "source": [
    "print(X)"
   ]
  },
  {
   "cell_type": "code",
   "execution_count": 306,
   "id": "cb9ceb7b",
   "metadata": {},
   "outputs": [
    {
     "data": {
      "text/plain": [
       "array([10,  8,  9])"
      ]
     },
     "execution_count": 306,
     "metadata": {},
     "output_type": "execute_result"
    }
   ],
   "source": [
    "# примененине прихотилвой индексации и индексов\n",
    "X[2, [2, 0, 1]]"
   ]
  },
  {
   "cell_type": "code",
   "execution_count": 308,
   "id": "b34d6e26",
   "metadata": {},
   "outputs": [
    {
     "data": {
      "text/plain": [
       "array([[ 6,  4,  5],\n",
       "       [10,  8,  9]])"
      ]
     },
     "execution_count": 308,
     "metadata": {},
     "output_type": "execute_result"
    }
   ],
   "source": [
    "# примененине прихотилвой индексации и срезов\n",
    "X[1:, [2, 0, 1]]"
   ]
  },
  {
   "cell_type": "code",
   "execution_count": 309,
   "id": "9e1083ab",
   "metadata": {},
   "outputs": [
    {
     "data": {
      "text/plain": [
       "array([[ 0,  2],\n",
       "       [ 4,  6],\n",
       "       [ 8, 10]])"
      ]
     },
     "execution_count": 309,
     "metadata": {},
     "output_type": "execute_result"
    }
   ],
   "source": [
    "# примененине прихотилвой индексации и маскирования\n",
    "mask = np.array([1, 0, 1, 0], dtype=bool)\n",
    "X[row[:, np.newaxis], mask]"
   ]
  },
  {
   "cell_type": "markdown",
   "id": "48788853",
   "metadata": {},
   "source": [
    "## Пример выбора случайных точек"
   ]
  },
  {
   "cell_type": "code",
   "execution_count": 310,
   "id": "30fb6a07",
   "metadata": {},
   "outputs": [
    {
     "data": {
      "text/plain": [
       "(100, 2)"
      ]
     },
     "execution_count": 310,
     "metadata": {},
     "output_type": "execute_result"
    }
   ],
   "source": [
    "mean = [0, 0]\n",
    "cov = [[1, 2], \n",
    "       [2, 5]]\n",
    "X = rand.multivariate_normal(mean, cov, 100)\n",
    "X.shape"
   ]
  },
  {
   "cell_type": "code",
   "execution_count": 312,
   "id": "b82b6bbd",
   "metadata": {},
   "outputs": [
    {
     "data": {
      "image/png": "[encoded data removed]",
      "text/plain": [
       "<Figure size 432x288 with 1 Axes>"
      ]
     },
     "metadata": {},
     "output_type": "display_data"
    }
   ],
   "source": [
    "%matplotlib inline\n",
    "import matplotlib.pyplot as plt\n",
    "import seaborn; seaborn.set()\n",
    "\n",
    "plt.scatter(X[:, 0], X[:, 1]);"
   ]
  },
  {
   "cell_type": "code",
   "execution_count": 314,
   "id": "2031c18c",
   "metadata": {},
   "outputs": [
    {
     "data": {
      "text/plain": [
       "array([25, 61, 73, 58, 55,  9, 77, 31, 52, 11, 33, 62, 14, 42,  4, 97, 69,\n",
       "       96, 56, 75])"
      ]
     },
     "execution_count": 314,
     "metadata": {},
     "output_type": "execute_result"
    }
   ],
   "source": [
    "indices = np.random.choice(X.shape[0], 20, replace=False)\n",
    "indices"
   ]
  },
  {
   "cell_type": "code",
   "execution_count": 319,
   "id": "07112082",
   "metadata": {},
   "outputs": [
    {
     "data": {
      "text/plain": [
       "(20, 2)"
      ]
     },
     "execution_count": 319,
     "metadata": {},
     "output_type": "execute_result"
    }
   ],
   "source": [
    "selection = X[indices]\n",
    "selection.shape"
   ]
  },
  {
   "cell_type": "code",
   "execution_count": 323,
   "id": "0080c463",
   "metadata": {},
   "outputs": [
    {
     "data": {
      "image/png": "[encoded data removed]",
      "text/plain": [
       "<Figure size 432x288 with 1 Axes>"
      ]
     },
     "metadata": {},
     "output_type": "display_data"
    }
   ],
   "source": [
    "plt.scatter(X[:, 0], X[:, 1], alpha=0.3)\n",
    "plt.scatter(selection[:, 0], selection[:, 1],\n",
    "            facecolor='none', s=200);"
   ]
  },
  {
   "cell_type": "markdown",
   "id": "9a1482a9",
   "metadata": {},
   "source": [
    "## Изменение значений с помощью прихотиливой индексации"
   ]
  },
  {
   "cell_type": "code",
   "execution_count": 330,
   "id": "c69caaf8",
   "metadata": {},
   "outputs": [
    {
     "name": "stdout",
     "output_type": "stream",
     "text": [
      "[ 0 99 99  3 99  5  6  7 99  9]\n"
     ]
    }
   ],
   "source": [
    "x = np.arange(10)\n",
    "i = np.array([2, 1, 8, 4])\n",
    "x[i] = 99\n",
    "print(x)"
   ]
  },
  {
   "cell_type": "code",
   "execution_count": 331,
   "id": "9d641f03",
   "metadata": {},
   "outputs": [
    {
     "name": "stdout",
     "output_type": "stream",
     "text": [
      "[ 0 89 89  3 89  5  6  7 89  9]\n"
     ]
    }
   ],
   "source": [
    "x[i] -= 10\n",
    "print(x)"
   ]
  },
  {
   "cell_type": "code",
   "execution_count": 332,
   "id": "1b27d14a",
   "metadata": {},
   "outputs": [
    {
     "name": "stdout",
     "output_type": "stream",
     "text": [
      "[6. 0. 0. 0. 0. 0. 0. 0. 0. 0.]\n"
     ]
    }
   ],
   "source": [
    "x = np.zeros(10)\n",
    "x[[0, 0]] = [4, 6]\n",
    "print(x)"
   ]
  },
  {
   "cell_type": "code",
   "execution_count": 333,
   "id": "6d300c05",
   "metadata": {},
   "outputs": [
    {
     "data": {
      "text/plain": [
       "array([6., 0., 1., 1., 1., 0., 0., 0., 0., 0.])"
      ]
     },
     "execution_count": 333,
     "metadata": {},
     "output_type": "execute_result"
    }
   ],
   "source": [
    "i = [2, 3, 3, 4, 4, 4]\n",
    "x[i] += 1\n",
    "x"
   ]
  },
  {
   "cell_type": "code",
   "execution_count": 334,
   "id": "fa15675c",
   "metadata": {},
   "outputs": [
    {
     "name": "stdout",
     "output_type": "stream",
     "text": [
      "[0. 0. 1. 2. 3. 0. 0. 0. 0. 0.]\n"
     ]
    }
   ],
   "source": [
    "x = np.zeros(10)\n",
    "np.add.at(x, i, 1)\n",
    "print(x)"
   ]
  },
  {
   "cell_type": "markdown",
   "id": "fc758f64",
   "metadata": {},
   "source": [
    "### Пример: разбиение данных на интервалы"
   ]
  },
  {
   "cell_type": "code",
   "execution_count": 366,
   "id": "ee99cef6",
   "metadata": {
    "scrolled": true
   },
   "outputs": [
    {
     "name": "stdout",
     "output_type": "stream",
     "text": [
      "[-5.         -4.47368421 -3.94736842 -3.42105263 -2.89473684 -2.36842105\n",
      " -1.84210526 -1.31578947 -0.78947368 -0.26315789  0.26315789  0.78947368\n",
      "  1.31578947  1.84210526  2.36842105  2.89473684  3.42105263  3.94736842\n",
      "  4.47368421  5.        ]\n",
      "[11 10 11 13 10 10 13 11  9 11  9  9 10  6  7  9  8 11  8  7 13 10 10  7\n",
      "  9 10  8 11  9  9  9 14 10  8 12  8 10  6  7 10 11 10 10  9  7  9  9 12\n",
      " 11  7 11  9  9 11 12 12  8  9 11 12  9 10  8  8 12 13 10 12 11  9 11 13\n",
      " 10 13  5 12 10  9 10  6 10 11 13  9  8  9 12 11  9 11 10 12  9  9  9  7\n",
      " 11 10 10 10]\n"
     ]
    }
   ],
   "source": [
    "np.random.seed(42)\n",
    "x = np.random.randn(100)\n",
    "# compute a histogram by hand\n",
    "bins = np.linspace(-5, 5, 20)\n",
    "counts = np.zeros_like(bins)\n",
    "\n",
    "# find the appropriate bin for each x\n",
    "i = np.searchsorted(bins, x)\n",
    "\n",
    "# add 1 to each of these bins\n",
    "np.add.at(counts, i, 1)"
   ]
  },
  {
   "cell_type": "code",
   "execution_count": 360,
   "id": "b5473de9",
   "metadata": {},
   "outputs": [
    {
     "data": {
      "image/png": "[encoded data removed]",
      "text/plain": [
       "<Figure size 432x288 with 1 Axes>"
      ]
     },
     "metadata": {},
     "output_type": "display_data"
    }
   ],
   "source": [
    "plt.hist(x, bins, histtype='step');"
   ]
  },
  {
   "cell_type": "code",
   "execution_count": 349,
   "id": "b67b5592",
   "metadata": {},
   "outputs": [
    {
     "name": "stdout",
     "output_type": "stream",
     "text": [
      "Numpy routine:\n",
      "19.8 µs ± 347 ns per loop (mean ± std. dev. of 7 runs, 10,000 loops each)\n",
      "Custom routine:\n",
      "11.8 µs ± 44.4 ns per loop (mean ± std. dev. of 7 runs, 100,000 loops each)\n"
     ]
    }
   ],
   "source": [
    "print(\"Numpy routine:\")\n",
    "%timeit counts, edges = np.histogram(x, bins)\n",
    "print(\"Custom routine:\")\n",
    "%timeit np.add.at(counts, np.searchsorted(bins, x), 1)"
   ]
  },
  {
   "cell_type": "markdown",
   "id": "277e402f",
   "metadata": {},
   "source": [
    "# Сортировка массивов"
   ]
  },
  {
   "cell_type": "code",
   "execution_count": 398,
   "id": "8a62bddf",
   "metadata": {},
   "outputs": [],
   "source": [
    "# СОРТИРОВКА ВЫБОРОМ\n",
    "\n",
    "def selection_sort(x):\n",
    "    for i in range(len(x)):\n",
    "        swap = i + np.argmin(x[i:])\n",
    "        (x[i], x[swap]) = (x[swap], x[i])\n",
    "    return x"
   ]
  },
  {
   "cell_type": "code",
   "execution_count": 399,
   "id": "00490df7",
   "metadata": {},
   "outputs": [
    {
     "data": {
      "text/plain": [
       "array([  1,   3,  11,  44,  77,  99, 100])"
      ]
     },
     "execution_count": 399,
     "metadata": {},
     "output_type": "execute_result"
    }
   ],
   "source": [
    "x = np.array([99, 77, 44, 3, 11, 1, 100])\n",
    "selection_sort(x)"
   ]
  },
  {
   "cell_type": "code",
   "execution_count": 411,
   "id": "5529a563",
   "metadata": {},
   "outputs": [
    {
     "name": "stdout",
     "output_type": "stream",
     "text": [
      "[ True False  True]\n",
      "True\n",
      "[2 1 4]\n",
      "[1 4 3]\n",
      "_____\n",
      "[ True False  True]\n",
      "True\n",
      "[2 1 4]\n",
      "[1 4 3]\n",
      "_____\n",
      "[False  True  True]\n",
      "True\n",
      "[3 4 2]\n",
      "[4 2 1]\n",
      "_____\n",
      "[ True False  True]\n",
      "True\n",
      "[2 1 4]\n",
      "[1 4 3]\n",
      "_____\n",
      "[False False  True]\n",
      "True\n",
      "[1 3 4]\n",
      "[3 4 2]\n",
      "_____\n",
      "[ True  True False]\n",
      "True\n",
      "[4 3 1]\n",
      "[3 1 2]\n",
      "_____\n",
      "[False  True False]\n",
      "True\n",
      "[1 3 2]\n",
      "[3 2 4]\n",
      "_____\n",
      "[ True False False]\n",
      "True\n",
      "[3 1 2]\n",
      "[1 2 4]\n",
      "_____\n",
      "[False  True  True]\n",
      "True\n",
      "[2 4 3]\n",
      "[4 3 1]\n",
      "_____\n",
      "[False  True False]\n",
      "True\n",
      "[2 4 1]\n",
      "[4 1 3]\n",
      "_____\n",
      "[ True False False]\n",
      "True\n",
      "[2 1 3]\n",
      "[1 3 4]\n",
      "_____\n",
      "[False  True False]\n",
      "True\n",
      "[2 3 1]\n",
      "[3 1 4]\n",
      "_____\n",
      "[False  True  True]\n",
      "True\n",
      "[3 4 2]\n",
      "[4 2 1]\n",
      "_____\n",
      "[ True False  True]\n",
      "True\n",
      "[3 2 4]\n",
      "[2 4 1]\n",
      "_____\n",
      "[ True False False]\n",
      "True\n",
      "[3 1 2]\n",
      "[1 2 4]\n",
      "_____\n",
      "[ True  True False]\n",
      "True\n",
      "[4 3 1]\n",
      "[3 1 2]\n",
      "_____\n",
      "[ True False False]\n",
      "True\n",
      "[2 1 3]\n",
      "[1 3 4]\n",
      "_____\n",
      "[False  True False]\n",
      "True\n",
      "[1 4 2]\n",
      "[4 2 3]\n",
      "_____\n",
      "[ True False False]\n",
      "True\n",
      "[3 1 2]\n",
      "[1 2 4]\n",
      "_____\n",
      "[ True False  True]\n",
      "True\n",
      "[3 1 4]\n",
      "[1 4 2]\n",
      "_____\n",
      "[ True  True  True]\n",
      "True\n",
      "[4 3 2]\n",
      "[3 2 1]\n",
      "_____\n",
      "[False False False]\n",
      "False\n",
      "[1 2 3]\n",
      "[2 3 4]\n"
     ]
    },
    {
     "data": {
      "text/plain": [
       "array([1, 2, 3, 4])"
      ]
     },
     "execution_count": 411,
     "metadata": {},
     "output_type": "execute_result"
    }
   ],
   "source": [
    "# СОРТИРОВКА BOGOSORT\n",
    "\n",
    "def bogosort(x):\n",
    "    while np.any(x[:-1] > x[1:]):\n",
    "        np.random.shuffle(x)\n",
    "    return x\n",
    "\n",
    "x = np.array([2, 1, 4, 3])\n",
    "bogosort(x)"
   ]
  },
  {
   "cell_type": "markdown",
   "id": "0e55c09b",
   "metadata": {},
   "source": [
    "## быстрая сортировка в библиотеке NumPy"
   ]
  },
  {
   "cell_type": "code",
   "execution_count": 413,
   "id": "a19fb99d",
   "metadata": {},
   "outputs": [
    {
     "data": {
      "text/plain": [
       "array([1, 2, 3, 4, 5, 6])"
      ]
     },
     "execution_count": 413,
     "metadata": {},
     "output_type": "execute_result"
    }
   ],
   "source": [
    "# сортировка без изменения исходного массива\n",
    "x = np.array([2, 1, 3, 4, 6, 5])\n",
    "np.sort(x)"
   ]
  },
  {
   "cell_type": "code",
   "execution_count": 414,
   "id": "86d09e28",
   "metadata": {},
   "outputs": [
    {
     "name": "stdout",
     "output_type": "stream",
     "text": [
      "[1 2 3 4 5 6]\n"
     ]
    }
   ],
   "source": [
    "# сортировка исходного массива\n",
    "x.sort()\n",
    "print(x)"
   ]
  },
  {
   "cell_type": "code",
   "execution_count": 415,
   "id": "3df84a38",
   "metadata": {},
   "outputs": [
    {
     "name": "stdout",
     "output_type": "stream",
     "text": [
      "[1 0 3 2 4]\n"
     ]
    }
   ],
   "source": [
    "# функция argsort возвращает индексы отсортированных элементов\n",
    "x = np.array([2, 1, 4, 3, 5])\n",
    "i = np.argsort(x)\n",
    "print(i)"
   ]
  },
  {
   "cell_type": "code",
   "execution_count": 416,
   "id": "2e988781",
   "metadata": {},
   "outputs": [
    {
     "data": {
      "text/plain": [
       "array([1, 2, 3, 4, 5])"
      ]
     },
     "execution_count": 416,
     "metadata": {},
     "output_type": "execute_result"
    }
   ],
   "source": [
    "x[i]"
   ]
  },
  {
   "cell_type": "markdown",
   "id": "b39ab169",
   "metadata": {},
   "source": [
    "### Сортировка по строкам и столбцам"
   ]
  },
  {
   "cell_type": "code",
   "execution_count": 417,
   "id": "d48a7173",
   "metadata": {},
   "outputs": [
    {
     "name": "stdout",
     "output_type": "stream",
     "text": [
      "[[6 3 7 4 6 9]\n",
      " [2 6 7 4 3 7]\n",
      " [7 2 5 4 1 7]\n",
      " [5 1 4 0 9 5]]\n"
     ]
    }
   ],
   "source": [
    "rand = np.random.RandomState(42)\n",
    "X = rand.randint(0, 10, (4, 6))\n",
    "print(X)"
   ]
  },
  {
   "cell_type": "code",
   "execution_count": 418,
   "id": "e94c9c17",
   "metadata": {},
   "outputs": [
    {
     "data": {
      "text/plain": [
       "array([[2, 1, 4, 0, 1, 5],\n",
       "       [5, 2, 5, 4, 3, 7],\n",
       "       [6, 3, 7, 4, 6, 7],\n",
       "       [7, 6, 7, 4, 9, 9]])"
      ]
     },
     "execution_count": 418,
     "metadata": {},
     "output_type": "execute_result"
    }
   ],
   "source": [
    "# сортируем все столбцы массива X\n",
    "np.sort(X, axis=0)"
   ]
  },
  {
   "cell_type": "code",
   "execution_count": 419,
   "id": "f7f274d2",
   "metadata": {},
   "outputs": [
    {
     "data": {
      "text/plain": [
       "array([[3, 4, 6, 6, 7, 9],\n",
       "       [2, 3, 4, 6, 7, 7],\n",
       "       [1, 2, 4, 5, 7, 7],\n",
       "       [0, 1, 4, 5, 5, 9]])"
      ]
     },
     "execution_count": 419,
     "metadata": {},
     "output_type": "execute_result"
    }
   ],
   "source": [
    "# сортируем все строки массива X\n",
    "np.sort(X, axis=1)"
   ]
  },
  {
   "cell_type": "markdown",
   "id": "dff53128",
   "metadata": {},
   "source": [
    "## Частичные сортировки"
   ]
  },
  {
   "cell_type": "code",
   "execution_count": 420,
   "id": "2110f816",
   "metadata": {},
   "outputs": [
    {
     "data": {
      "text/plain": [
       "array([2, 1, 3, 4, 6, 5, 7])"
      ]
     },
     "execution_count": 420,
     "metadata": {},
     "output_type": "execute_result"
    }
   ],
   "source": [
    "x = np.array([7, 2, 3, 1, 6, 5, 4])\n",
    "np.partition(x, 3)"
   ]
  },
  {
   "cell_type": "code",
   "execution_count": 421,
   "id": "1dcd530d",
   "metadata": {},
   "outputs": [
    {
     "data": {
      "text/plain": [
       "array([[3, 4, 6, 7, 6, 9],\n",
       "       [2, 3, 4, 7, 6, 7],\n",
       "       [1, 2, 4, 5, 7, 7],\n",
       "       [0, 1, 4, 5, 9, 5]])"
      ]
     },
     "execution_count": 421,
     "metadata": {},
     "output_type": "execute_result"
    }
   ],
   "source": [
    "np.partition(X, 2, axis=1)"
   ]
  },
  {
   "cell_type": "markdown",
   "id": "f5de5d9c",
   "metadata": {},
   "source": [
    "## Пример: К ближайших соседей"
   ]
  },
  {
   "cell_type": "code",
   "execution_count": 441,
   "id": "3c2836c4",
   "metadata": {},
   "outputs": [
    {
     "name": "stdout",
     "output_type": "stream",
     "text": [
      "[[4 5]\n",
      " [2 8]\n",
      " [4 7]\n",
      " [0 4]\n",
      " [2 0]\n",
      " [3 4]\n",
      " [6 0]\n",
      " [2 1]\n",
      " [8 9]\n",
      " [5 9]]\n"
     ]
    },
    {
     "data": {
      "text/plain": [
       "<matplotlib.collections.PathCollection at 0x7fd9eee896a0>"
      ]
     },
     "execution_count": 441,
     "metadata": {},
     "output_type": "execute_result"
    },
    {
     "data": {
      "image/png": "[encoded data removed]",
      "text/plain": [
       "<Figure size 432x288 with 1 Axes>"
      ]
     },
     "metadata": {},
     "output_type": "display_data"
    }
   ],
   "source": [
    "X = rand.randint(0, 10, (10, 2))\n",
    "print(X)\n",
    "%matplotlib inline\n",
    "import matplotlib.pyplot as plt\n",
    "import seaborn; seaborn.set()\n",
    "plt.scatter(X[:, 0], X[:, 1], s=10)"
   ]
  },
  {
   "cell_type": "code",
   "execution_count": 443,
   "id": "02c3c0e2",
   "metadata": {},
   "outputs": [],
   "source": [
    "dist_sq = np.sum((X[:, np.newaxis, :] - X[np.newaxis, :, :]) ** 2, axis=-1)"
   ]
  },
  {
   "cell_type": "code",
   "execution_count": 472,
   "id": "aef13d7a",
   "metadata": {},
   "outputs": [
    {
     "name": "stdout",
     "output_type": "stream",
     "text": [
      "[[[ 0  0]\n",
      "  [ 2 -3]\n",
      "  [ 0 -2]\n",
      "  [ 4  1]\n",
      "  [ 2  5]\n",
      "  [ 1  1]\n",
      "  [-2  5]\n",
      "  [ 2  4]\n",
      "  [-4 -4]\n",
      "  [-1 -4]]\n",
      "\n",
      " [[-2  3]\n",
      "  [ 0  0]\n",
      "  [-2  1]\n",
      "  [ 2  4]\n",
      "  [ 0  8]\n",
      "  [-1  4]\n",
      "  [-4  8]\n",
      "  [ 0  7]\n",
      "  [-6 -1]\n",
      "  [-3 -1]]\n",
      "\n",
      " [[ 0  2]\n",
      "  [ 2 -1]\n",
      "  [ 0  0]\n",
      "  [ 4  3]\n",
      "  [ 2  7]\n",
      "  [ 1  3]\n",
      "  [-2  7]\n",
      "  [ 2  6]\n",
      "  [-4 -2]\n",
      "  [-1 -2]]\n",
      "\n",
      " [[-4 -1]\n",
      "  [-2 -4]\n",
      "  [-4 -3]\n",
      "  [ 0  0]\n",
      "  [-2  4]\n",
      "  [-3  0]\n",
      "  [-6  4]\n",
      "  [-2  3]\n",
      "  [-8 -5]\n",
      "  [-5 -5]]\n",
      "\n",
      " [[-2 -5]\n",
      "  [ 0 -8]\n",
      "  [-2 -7]\n",
      "  [ 2 -4]\n",
      "  [ 0  0]\n",
      "  [-1 -4]\n",
      "  [-4  0]\n",
      "  [ 0 -1]\n",
      "  [-6 -9]\n",
      "  [-3 -9]]\n",
      "\n",
      " [[-1 -1]\n",
      "  [ 1 -4]\n",
      "  [-1 -3]\n",
      "  [ 3  0]\n",
      "  [ 1  4]\n",
      "  [ 0  0]\n",
      "  [-3  4]\n",
      "  [ 1  3]\n",
      "  [-5 -5]\n",
      "  [-2 -5]]\n",
      "\n",
      " [[ 2 -5]\n",
      "  [ 4 -8]\n",
      "  [ 2 -7]\n",
      "  [ 6 -4]\n",
      "  [ 4  0]\n",
      "  [ 3 -4]\n",
      "  [ 0  0]\n",
      "  [ 4 -1]\n",
      "  [-2 -9]\n",
      "  [ 1 -9]]\n",
      "\n",
      " [[-2 -4]\n",
      "  [ 0 -7]\n",
      "  [-2 -6]\n",
      "  [ 2 -3]\n",
      "  [ 0  1]\n",
      "  [-1 -3]\n",
      "  [-4  1]\n",
      "  [ 0  0]\n",
      "  [-6 -8]\n",
      "  [-3 -8]]\n",
      "\n",
      " [[ 4  4]\n",
      "  [ 6  1]\n",
      "  [ 4  2]\n",
      "  [ 8  5]\n",
      "  [ 6  9]\n",
      "  [ 5  5]\n",
      "  [ 2  9]\n",
      "  [ 6  8]\n",
      "  [ 0  0]\n",
      "  [ 3  0]]\n",
      "\n",
      " [[ 1  4]\n",
      "  [ 3  1]\n",
      "  [ 1  2]\n",
      "  [ 5  5]\n",
      "  [ 3  9]\n",
      "  [ 2  5]\n",
      "  [-1  9]\n",
      "  [ 3  8]\n",
      "  [-3  0]\n",
      "  [ 0  0]]]\n"
     ]
    },
    {
     "data": {
      "text/plain": [
       "(10, 10, 2)"
      ]
     },
     "execution_count": 472,
     "metadata": {},
     "output_type": "execute_result"
    }
   ],
   "source": [
    "# Для каждой пары точек вычисляем разности их координат\n",
    "differences = X[:, np.newaxis, :] - X[np.newaxis, :, :]\n",
    "print(X[:, np.newaxis, :] - X[np.newaxis, :, :])\n",
    "differences.shape"
   ]
  },
  {
   "cell_type": "code",
   "execution_count": 474,
   "id": "e6af1f94",
   "metadata": {},
   "outputs": [
    {
     "name": "stdout",
     "output_type": "stream",
     "text": [
      "[[[ 0  0]\n",
      "  [ 4  9]\n",
      "  [ 0  4]\n",
      "  [16  1]\n",
      "  [ 4 25]\n",
      "  [ 1  1]\n",
      "  [ 4 25]\n",
      "  [ 4 16]\n",
      "  [16 16]\n",
      "  [ 1 16]]\n",
      "\n",
      " [[ 4  9]\n",
      "  [ 0  0]\n",
      "  [ 4  1]\n",
      "  [ 4 16]\n",
      "  [ 0 64]\n",
      "  [ 1 16]\n",
      "  [16 64]\n",
      "  [ 0 49]\n",
      "  [36  1]\n",
      "  [ 9  1]]\n",
      "\n",
      " [[ 0  4]\n",
      "  [ 4  1]\n",
      "  [ 0  0]\n",
      "  [16  9]\n",
      "  [ 4 49]\n",
      "  [ 1  9]\n",
      "  [ 4 49]\n",
      "  [ 4 36]\n",
      "  [16  4]\n",
      "  [ 1  4]]\n",
      "\n",
      " [[16  1]\n",
      "  [ 4 16]\n",
      "  [16  9]\n",
      "  [ 0  0]\n",
      "  [ 4 16]\n",
      "  [ 9  0]\n",
      "  [36 16]\n",
      "  [ 4  9]\n",
      "  [64 25]\n",
      "  [25 25]]\n",
      "\n",
      " [[ 4 25]\n",
      "  [ 0 64]\n",
      "  [ 4 49]\n",
      "  [ 4 16]\n",
      "  [ 0  0]\n",
      "  [ 1 16]\n",
      "  [16  0]\n",
      "  [ 0  1]\n",
      "  [36 81]\n",
      "  [ 9 81]]\n",
      "\n",
      " [[ 1  1]\n",
      "  [ 1 16]\n",
      "  [ 1  9]\n",
      "  [ 9  0]\n",
      "  [ 1 16]\n",
      "  [ 0  0]\n",
      "  [ 9 16]\n",
      "  [ 1  9]\n",
      "  [25 25]\n",
      "  [ 4 25]]\n",
      "\n",
      " [[ 4 25]\n",
      "  [16 64]\n",
      "  [ 4 49]\n",
      "  [36 16]\n",
      "  [16  0]\n",
      "  [ 9 16]\n",
      "  [ 0  0]\n",
      "  [16  1]\n",
      "  [ 4 81]\n",
      "  [ 1 81]]\n",
      "\n",
      " [[ 4 16]\n",
      "  [ 0 49]\n",
      "  [ 4 36]\n",
      "  [ 4  9]\n",
      "  [ 0  1]\n",
      "  [ 1  9]\n",
      "  [16  1]\n",
      "  [ 0  0]\n",
      "  [36 64]\n",
      "  [ 9 64]]\n",
      "\n",
      " [[16 16]\n",
      "  [36  1]\n",
      "  [16  4]\n",
      "  [64 25]\n",
      "  [36 81]\n",
      "  [25 25]\n",
      "  [ 4 81]\n",
      "  [36 64]\n",
      "  [ 0  0]\n",
      "  [ 9  0]]\n",
      "\n",
      " [[ 1 16]\n",
      "  [ 9  1]\n",
      "  [ 1  4]\n",
      "  [25 25]\n",
      "  [ 9 81]\n",
      "  [ 4 25]\n",
      "  [ 1 81]\n",
      "  [ 9 64]\n",
      "  [ 9  0]\n",
      "  [ 0  0]]]\n"
     ]
    },
    {
     "data": {
      "text/plain": [
       "(10, 10, 2)"
      ]
     },
     "execution_count": 474,
     "metadata": {},
     "output_type": "execute_result"
    }
   ],
   "source": [
    "# возводим разность координат в квадрта\n",
    "sq_differences = differences ** 2\n",
    "print(sq_differences)\n",
    "sq_differences.shape"
   ]
  },
  {
   "cell_type": "code",
   "execution_count": 473,
   "id": "f4278873",
   "metadata": {},
   "outputs": [
    {
     "name": "stdout",
     "output_type": "stream",
     "text": [
      "[[  0  13   4  17  29   2  29  20  32  17]\n",
      " [ 13   0   5  20  64  17  80  49  37  10]\n",
      " [  4   5   0  25  53  10  53  40  20   5]\n",
      " [ 17  20  25   0  20   9  52  13  89  50]\n",
      " [ 29  64  53  20   0  17  16   1 117  90]\n",
      " [  2  17  10   9  17   0  25  10  50  29]\n",
      " [ 29  80  53  52  16  25   0  17  85  82]\n",
      " [ 20  49  40  13   1  10  17   0 100  73]\n",
      " [ 32  37  20  89 117  50  85 100   0   9]\n",
      " [ 17  10   5  50  90  29  82  73   9   0]]\n"
     ]
    },
    {
     "data": {
      "text/plain": [
       "(10, 10)"
      ]
     },
     "execution_count": 473,
     "metadata": {},
     "output_type": "execute_result"
    }
   ],
   "source": [
    "# Суммируем квадраты разностей координат для получения квадрата расстояния\n",
    "dist_sq = sq_differences.sum(-1)\n",
    "print(dist_sq)\n",
    "dist_sq.shape"
   ]
  },
  {
   "cell_type": "code",
   "execution_count": 447,
   "id": "1438cdc2",
   "metadata": {},
   "outputs": [
    {
     "data": {
      "text/plain": [
       "array([0, 0, 0, 0, 0, 0, 0, 0, 0, 0])"
      ]
     },
     "execution_count": 447,
     "metadata": {},
     "output_type": "execute_result"
    }
   ],
   "source": [
    "dist_sq.diagonal()"
   ]
  },
  {
   "cell_type": "code",
   "execution_count": 449,
   "id": "8d0656b4",
   "metadata": {},
   "outputs": [
    {
     "name": "stdout",
     "output_type": "stream",
     "text": [
      "[[0 5 2 1 3 9 7 4 6 8]\n",
      " [1 2 9 0 5 3 8 7 4 6]\n",
      " [2 0 1 9 5 8 3 7 4 6]\n",
      " [3 5 7 0 1 4 2 9 6 8]\n",
      " [4 7 6 5 3 0 2 1 9 8]\n",
      " [5 0 3 2 7 1 4 6 9 8]\n",
      " [6 4 7 5 0 3 2 1 9 8]\n",
      " [7 4 5 3 6 0 2 1 9 8]\n",
      " [8 9 2 0 1 5 6 3 7 4]\n",
      " [9 2 8 1 0 5 3 7 6 4]]\n"
     ]
    }
   ],
   "source": [
    "nearest = np.argsort(dist_sq, axis=1)\n",
    "print(nearest)"
   ]
  },
  {
   "cell_type": "code",
   "execution_count": 469,
   "id": "78d073cc",
   "metadata": {},
   "outputs": [],
   "source": [
    "K = 2\n",
    "nearest_partition = np.argpartition(dist_sq, K + 1, axis=1)"
   ]
  },
  {
   "cell_type": "code",
   "execution_count": 470,
   "id": "804db4fb",
   "metadata": {},
   "outputs": [
    {
     "data": {
      "image/png": "[encoded data removed]",
      "text/plain": [
       "<Figure size 432x288 with 1 Axes>"
      ]
     },
     "metadata": {},
     "output_type": "display_data"
    }
   ],
   "source": [
    "plt.scatter(X[:, 0], X[:, 1], s=10)\n",
    "K = 2\n",
    "for i in range(X.shape[0]):\n",
    "    for j in nearest_partition[i, :K+1]:\n",
    "        plt.plot(*zip(X[j], X[i]), color='black')"
   ]
  },
  {
   "cell_type": "code",
   "execution_count": null,
   "id": "90efad29",
   "metadata": {},
   "outputs": [],
   "source": []
  }
 ],
 "metadata": {
  "kernelspec": {
   "display_name": "Python 3 (ipykernel)",
   "language": "python",
   "name": "python3"
  },
  "language_info": {
   "codemirror_mode": {
    "name": "ipython",
    "version": 3
   },
   "file_extension": ".py",
   "mimetype": "text/x-python",
   "name": "python",
   "nbconvert_exporter": "python",
   "pygments_lexer": "ipython3",
   "version": "3.8.10"
  }
 },
 "nbformat": 4,
 "nbformat_minor": 5
}
